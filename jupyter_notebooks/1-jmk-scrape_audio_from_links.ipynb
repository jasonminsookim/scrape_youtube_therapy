{
 "cells": [
  {
   "cell_type": "markdown",
   "metadata": {
    "pycharm": {
     "name": "#%% md\n"
    }
   },
   "source": [
    "# 1. Import Libraries, Youtube Urls, and Set Configuration"
   ]
  },
  {
   "cell_type": "code",
   "execution_count": 4,
   "metadata": {
    "ExecuteTime": {
     "end_time": "2020-03-18T21:33:17.805332Z",
     "start_time": "2020-03-18T21:33:17.787810Z"
    },
    "pycharm": {
     "is_executing": false
    }
   },
   "outputs": [
    {
     "name": "stdout",
     "output_type": "stream",
     "text": [
      "                             Youtube Video URL Search Terms\n",
      "0  https://www.youtube.com/watch?v=7LD8iC4NqXM  cbt session\n",
      "1  https://www.youtube.com/watch?v=x7HJmVx3qN4  cbt session\n",
      "2  https://www.youtube.com/watch?v=XH2tF8oB3cw  cbt session\n",
      "3  https://www.youtube.com/watch?v=8-2WQF3SWwo  cbt session\n",
      "4  https://www.youtube.com/watch?v=8aDFvvjC6XM  cbt session\n"
     ]
    }
   ],
   "source": [
    "from __future__ import unicode_literals\n",
    "import youtube_dl\n",
    "import pandas as pd\n",
    "from tqdm import tqdm\n",
    "\n",
    "\n",
    "urls = pd.read_csv('../data/youtube_urls/therapy_youtube_urls.csv')\n",
    "print(urls.head())\n",
    "\n",
    "# Set the youtube download options.\n",
    "audio_download_dir = '../data/downloaded_audio/'\n",
    "ydl_opts = {\n",
    "    'format': 'bestaudio/best',\n",
    "    'outtmpl': '../data/downloaded_audio/%(title)s.%(ext)s',\n",
    "    'postprocessors': [{\n",
    "        'key': 'FFmpegExtractAudio',\n",
    "        'preferredcodec': 'mp3',\n",
    "        'preferredquality': '192',\n",
    "    }],\n",
    "}"
   ]
  },
  {
   "cell_type": "code",
   "execution_count": null,
   "metadata": {
    "ExecuteTime": {
     "start_time": "2020-03-18T21:33:18.090Z"
    },
    "pycharm": {
     "is_executing": true,
     "name": "#%%\n"
    }
   },
   "outputs": [
    {
     "name": "stderr",
     "output_type": "stream",
     "text": [
      "\n",
      "  0%|          | 0/183 [00:00<?, ?it/s]\u001b[A"
     ]
    },
    {
     "name": "stdout",
     "output_type": "stream",
     "text": [
      "[youtube] 7LD8iC4NqXM: Downloading webpage\n",
      "[download] Destination: ../data/downloaded_audio/watch?v=7LD8iC4NqXM.m4a\n",
      "[download] 100% of 12.63MiB in 00:0023MiB/s ETA 00:00known ETA\n",
      "[ffmpeg] Correcting container in \"../data/downloaded_audio/watch?v=7LD8iC4NqXM.m4a\"\n",
      "[ffmpeg] Destination: ../data/downloaded_audio/watch?v=7LD8iC4NqXM.mp3\n",
      "Deleting original file ../data/downloaded_audio/watch?v=7LD8iC4NqXM.m4a (pass -k to keep)\n"
     ]
    },
    {
     "name": "stderr",
     "output_type": "stream",
     "text": [
      "\n",
      "  1%|          | 1/183 [00:15<47:46, 15.75s/it]\u001b[A"
     ]
    },
    {
     "name": "stdout",
     "output_type": "stream",
     "text": [
      "[youtube] x7HJmVx3qN4: Downloading webpage\n",
      "[download] Destination: ../data/downloaded_audio/watch?v=x7HJmVx3qN4.webm\n",
      "[download] 100% of 9.39MiB in 00:0047MiB/s ETA 00:003\n",
      "[ffmpeg] Destination: ../data/downloaded_audio/watch?v=x7HJmVx3qN4.mp3\n",
      "Deleting original file ../data/downloaded_audio/watch?v=x7HJmVx3qN4.webm (pass -k to keep)\n"
     ]
    },
    {
     "name": "stderr",
     "output_type": "stream",
     "text": [
      "\n",
      "  1%|          | 2/183 [00:27<43:42, 14.49s/it]\u001b[A"
     ]
    },
    {
     "name": "stdout",
     "output_type": "stream",
     "text": [
      "[youtube] XH2tF8oB3cw: Downloading webpage\n",
      "[download] Destination: ../data/downloaded_audio/watch?v=XH2tF8oB3cw.m4a\n",
      "[download] 100% of 11.14MiB in 00:0086MiB/s ETA 00:00known ETA\n",
      "[ffmpeg] Correcting container in \"../data/downloaded_audio/watch?v=XH2tF8oB3cw.m4a\"\n",
      "[ffmpeg] Destination: ../data/downloaded_audio/watch?v=XH2tF8oB3cw.mp3\n",
      "Deleting original file ../data/downloaded_audio/watch?v=XH2tF8oB3cw.m4a (pass -k to keep)\n"
     ]
    },
    {
     "name": "stderr",
     "output_type": "stream",
     "text": [
      "\n",
      "  2%|▏         | 3/183 [00:40<42:27, 14.15s/it]\u001b[A"
     ]
    },
    {
     "name": "stdout",
     "output_type": "stream",
     "text": [
      "[youtube] 8-2WQF3SWwo: Downloading webpage\n",
      "[download] Destination: ../data/downloaded_audio/watch?v=8-2WQF3SWwo.webm\n",
      "[download] 100% of 17.17MiB in 00:0061MiB/s ETA 00:00known ETA\n",
      "[ffmpeg] Destination: ../data/downloaded_audio/watch?v=8-2WQF3SWwo.mp3\n",
      "Deleting original file ../data/downloaded_audio/watch?v=8-2WQF3SWwo.webm (pass -k to keep)\n"
     ]
    },
    {
     "name": "stderr",
     "output_type": "stream",
     "text": [
      "\n",
      "  2%|▏         | 4/183 [01:10<56:18, 18.87s/it]\u001b[A"
     ]
    },
    {
     "name": "stdout",
     "output_type": "stream",
     "text": [
      "[youtube] 8aDFvvjC6XM: Downloading webpage\n",
      "[download] Destination: ../data/downloaded_audio/watch?v=8aDFvvjC6XM.m4a\n",
      "[download] 100% of 21.93MiB in 00:0173MiB/s ETA 00:00known ETA\n",
      "[ffmpeg] Correcting container in \"../data/downloaded_audio/watch?v=8aDFvvjC6XM.m4a\"\n",
      "[ffmpeg] Destination: ../data/downloaded_audio/watch?v=8aDFvvjC6XM.mp3\n",
      "Deleting original file ../data/downloaded_audio/watch?v=8aDFvvjC6XM.m4a (pass -k to keep)\n"
     ]
    },
    {
     "name": "stderr",
     "output_type": "stream",
     "text": [
      "\n",
      "  3%|▎         | 5/183 [01:48<1:12:59, 24.60s/it]\u001b[A"
     ]
    },
    {
     "name": "stdout",
     "output_type": "stream",
     "text": [
      "[youtube] PtCj7ecyHjg: Downloading webpage\n",
      "[download] Destination: ../data/downloaded_audio/watch?v=PtCj7ecyHjg.m4a\n",
      "[download] 100% of 19.48MiB in 00:0032MiB/s ETA 00:00known ETA\n",
      "[ffmpeg] Correcting container in \"../data/downloaded_audio/watch?v=PtCj7ecyHjg.m4a\"\n",
      "[ffmpeg] Destination: ../data/downloaded_audio/watch?v=PtCj7ecyHjg.mp3\n",
      "Deleting original file ../data/downloaded_audio/watch?v=PtCj7ecyHjg.m4a (pass -k to keep)\n"
     ]
    },
    {
     "name": "stderr",
     "output_type": "stream",
     "text": [
      "\n",
      "  3%|▎         | 6/183 [02:33<1:30:31, 30.69s/it]\u001b[A"
     ]
    },
    {
     "name": "stdout",
     "output_type": "stream",
     "text": [
      "[youtube] osROod3Hmpg: Downloading webpage\n",
      "[download] Destination: ../data/downloaded_audio/watch?v=osROod3Hmpg.m4a\n",
      "[download] 100% of 23.52MiB in 00:0203MiB/s ETA 00:00known ETA\n",
      "[ffmpeg] Correcting container in \"../data/downloaded_audio/watch?v=osROod3Hmpg.m4a\"\n",
      "[ffmpeg] Destination: ../data/downloaded_audio/watch?v=osROod3Hmpg.mp3\n",
      "Deleting original file ../data/downloaded_audio/watch?v=osROod3Hmpg.m4a (pass -k to keep)\n"
     ]
    },
    {
     "name": "stderr",
     "output_type": "stream",
     "text": [
      "\n",
      "  4%|▍         | 7/183 [03:36<1:58:14, 40.31s/it]\u001b[A"
     ]
    },
    {
     "name": "stdout",
     "output_type": "stream",
     "text": [
      "[youtube] XbYGdo9lMsQ: Downloading webpage\n",
      "[youtube] XbYGdo9lMsQ: Downloading MPD manifest\n",
      "[dashsegments] Total fragments: 128\n",
      "[download] Destination: ../data/downloaded_audio/watch?v=XbYGdo9lMsQ.webm\n",
      "[download] 100% of 18.66MiB in 00:07.88MiB/s ETA 00:0004\n",
      "[ffmpeg] Destination: ../data/downloaded_audio/watch?v=XbYGdo9lMsQ.mp3\n",
      "Deleting original file ../data/downloaded_audio/watch?v=XbYGdo9lMsQ.webm (pass -k to keep)\n"
     ]
    },
    {
     "name": "stderr",
     "output_type": "stream",
     "text": [
      "\n",
      "  4%|▍         | 8/183 [04:24<2:04:18, 42.62s/it]\u001b[A"
     ]
    },
    {
     "name": "stdout",
     "output_type": "stream",
     "text": [
      "[youtube] KRDH89uP8wI: Downloading webpage\n",
      "[download] Destination: ../data/downloaded_audio/watch?v=KRDH89uP8wI.webm\n",
      "[download] 100% of 24.76MiB in 00:0119MiB/s ETA 00:00known ETA\n",
      "[ffmpeg] Destination: ../data/downloaded_audio/watch?v=KRDH89uP8wI.mp3\n",
      "Deleting original file ../data/downloaded_audio/watch?v=KRDH89uP8wI.webm (pass -k to keep)\n"
     ]
    },
    {
     "name": "stderr",
     "output_type": "stream",
     "text": [
      "\n",
      "  5%|▍         | 9/183 [05:06<2:02:54, 42.38s/it]\u001b[A"
     ]
    },
    {
     "name": "stdout",
     "output_type": "stream",
     "text": [
      "[youtube] nanU4vR993I: Downloading webpage\n",
      "[download] Destination: ../data/downloaded_audio/watch?v=nanU4vR993I.webm\n",
      "[download] 100% of 18.43MiB in 00:0164MiB/s ETA 00:009nown ETA\n",
      "[ffmpeg] Destination: ../data/downloaded_audio/watch?v=nanU4vR993I.mp3\n",
      "Deleting original file ../data/downloaded_audio/watch?v=nanU4vR993I.webm (pass -k to keep)\n"
     ]
    },
    {
     "name": "stderr",
     "output_type": "stream",
     "text": [
      "\n",
      "  5%|▌         | 10/183 [05:45<2:00:04, 41.64s/it]\u001b[A"
     ]
    },
    {
     "name": "stdout",
     "output_type": "stream",
     "text": [
      "[youtube] CdyJ0iB_k00: Downloading webpage\n",
      "[download] Destination: ../data/downloaded_audio/watch?v=CdyJ0iB_k00.m4a\n",
      "[download] 100% of 20.49MiB in 00:0180MiB/s ETA 00:00known ETA\n",
      "[ffmpeg] Correcting container in \"../data/downloaded_audio/watch?v=CdyJ0iB_k00.m4a\"\n",
      "[ffmpeg] Destination: ../data/downloaded_audio/watch?v=CdyJ0iB_k00.mp3\n",
      "Deleting original file ../data/downloaded_audio/watch?v=CdyJ0iB_k00.m4a (pass -k to keep)\n"
     ]
    },
    {
     "name": "stderr",
     "output_type": "stream",
     "text": [
      "\n",
      "  6%|▌         | 11/183 [06:21<1:54:13, 39.85s/it]\u001b[A"
     ]
    },
    {
     "name": "stdout",
     "output_type": "stream",
     "text": [
      "[youtube] SNstOn6owcI: Downloading webpage\n",
      "[download] Destination: ../data/downloaded_audio/watch?v=SNstOn6owcI.m4a\n",
      "[download] 100% of 20.81MiB in 00:0160MiB/s ETA 00:00known ETA\n",
      "[ffmpeg] Correcting container in \"../data/downloaded_audio/watch?v=SNstOn6owcI.m4a\"\n",
      "[ffmpeg] Destination: ../data/downloaded_audio/watch?v=SNstOn6owcI.mp3\n",
      "Deleting original file ../data/downloaded_audio/watch?v=SNstOn6owcI.m4a (pass -k to keep)\n"
     ]
    },
    {
     "name": "stderr",
     "output_type": "stream",
     "text": [
      "\n",
      "  7%|▋         | 12/183 [07:02<1:54:04, 40.02s/it]\u001b[A"
     ]
    },
    {
     "name": "stdout",
     "output_type": "stream",
     "text": [
      "[youtube] pllei-yDO8c: Downloading webpage\n",
      "[download] Destination: ../data/downloaded_audio/watch?v=pllei-yDO8c.webm\n",
      "[download] 100% of 25.58MiB in 00:0178MiB/s ETA 00:00known ETA\n",
      "[ffmpeg] Destination: ../data/downloaded_audio/watch?v=pllei-yDO8c.mp3\n",
      "Deleting original file ../data/downloaded_audio/watch?v=pllei-yDO8c.webm (pass -k to keep)\n"
     ]
    },
    {
     "name": "stderr",
     "output_type": "stream",
     "text": [
      "\n",
      "  7%|▋         | 13/183 [07:52<2:02:01, 43.07s/it]\u001b[A"
     ]
    },
    {
     "name": "stdout",
     "output_type": "stream",
     "text": [
      "[youtube] Wx8F9uwQTnY: Downloading webpage\n",
      "[download] Destination: ../data/downloaded_audio/watch?v=Wx8F9uwQTnY.m4a\n",
      "[download] 100% of 18.53MiB in 00:0126MiB/s ETA 00:00known ETA\n",
      "[ffmpeg] Correcting container in \"../data/downloaded_audio/watch?v=Wx8F9uwQTnY.m4a\"\n",
      "[ffmpeg] Destination: ../data/downloaded_audio/watch?v=Wx8F9uwQTnY.mp3\n",
      "Deleting original file ../data/downloaded_audio/watch?v=Wx8F9uwQTnY.m4a (pass -k to keep)\n"
     ]
    },
    {
     "name": "stderr",
     "output_type": "stream",
     "text": [
      "\n",
      "  8%|▊         | 14/183 [08:24<1:52:21, 39.89s/it]\u001b[A"
     ]
    },
    {
     "name": "stdout",
     "output_type": "stream",
     "text": [
      "[youtube] aLdWfVVJu8E: Downloading webpage\n",
      "[download] Destination: ../data/downloaded_audio/watch?v=aLdWfVVJu8E.m4a\n",
      "[download] 100% of 27.58MiB in 00:0113MiB/s ETA 00:00known ETA\n",
      "[ffmpeg] Correcting container in \"../data/downloaded_audio/watch?v=aLdWfVVJu8E.m4a\"\n",
      "[ffmpeg] Destination: ../data/downloaded_audio/watch?v=aLdWfVVJu8E.mp3\n",
      "Deleting original file ../data/downloaded_audio/watch?v=aLdWfVVJu8E.m4a (pass -k to keep)\n"
     ]
    },
    {
     "name": "stderr",
     "output_type": "stream",
     "text": [
      "\n",
      "  8%|▊         | 15/183 [09:02<1:49:38, 39.16s/it]\u001b[A"
     ]
    },
    {
     "name": "stdout",
     "output_type": "stream",
     "text": [
      "[youtube] zgX2N1gfNAs: Downloading webpage\n",
      "[youtube] zgX2N1gfNAs: Downloading MPD manifest\n",
      "[dashsegments] Total fragments: 310\n",
      "[download] Destination: ../data/downloaded_audio/watch?v=zgX2N1gfNAs.m4a\n",
      "[download] 100% of 23.39MiB in 00:13.21MiB/s ETA 00:000014\n",
      "[ffmpeg] Correcting container in \"../data/downloaded_audio/watch?v=zgX2N1gfNAs.m4a\"\n",
      "[ffmpeg] Destination: ../data/downloaded_audio/watch?v=zgX2N1gfNAs.mp3\n",
      "Deleting original file ../data/downloaded_audio/watch?v=zgX2N1gfNAs.m4a (pass -k to keep)\n"
     ]
    },
    {
     "name": "stderr",
     "output_type": "stream",
     "text": [
      "\n",
      "  9%|▊         | 16/183 [10:18<2:20:19, 50.41s/it]\u001b[A"
     ]
    },
    {
     "name": "stdout",
     "output_type": "stream",
     "text": [
      "[youtube] 9cdrjLuBc1A: Downloading webpage\n",
      "[youtube] 9cdrjLuBc1A: Downloading MPD manifest\n",
      "[dashsegments] Total fragments: 168\n",
      "[download] Destination: ../data/downloaded_audio/watch?v=9cdrjLuBc1A.m4a\n",
      "[download] 100% of 19.29MiB in 00:13.49MiB/s ETA 00:000305\n",
      "[ffmpeg] Correcting container in \"../data/downloaded_audio/watch?v=9cdrjLuBc1A.m4a\"\n",
      "[ffmpeg] Destination: ../data/downloaded_audio/watch?v=9cdrjLuBc1A.mp3\n",
      "Deleting original file ../data/downloaded_audio/watch?v=9cdrjLuBc1A.m4a (pass -k to keep)\n"
     ]
    },
    {
     "name": "stderr",
     "output_type": "stream",
     "text": [
      "\n",
      "  9%|▉         | 17/183 [11:07<2:18:02, 49.89s/it]\u001b[A"
     ]
    },
    {
     "name": "stdout",
     "output_type": "stream",
     "text": [
      "[youtube] 8B3T5gCFEWo: Downloading webpage\n",
      "[youtube] 8B3T5gCFEWo: Downloading MPD manifest\n",
      "[dashsegments] Total fragments: 181\n",
      "[download] Destination: ../data/downloaded_audio/watch?v=8B3T5gCFEWo.m4a\n",
      "[download] 100% of 27.60MiB in 00:13.15MiB/s ETA 00:000202\n",
      "[ffmpeg] Correcting container in \"../data/downloaded_audio/watch?v=8B3T5gCFEWo.m4a\"\n",
      "[ffmpeg] Destination: ../data/downloaded_audio/watch?v=8B3T5gCFEWo.mp3\n",
      "Deleting original file ../data/downloaded_audio/watch?v=8B3T5gCFEWo.m4a (pass -k to keep)\n"
     ]
    },
    {
     "name": "stderr",
     "output_type": "stream",
     "text": [
      "\n",
      " 10%|▉         | 18/183 [12:14<2:31:01, 54.92s/it]\u001b[A"
     ]
    },
    {
     "name": "stdout",
     "output_type": "stream",
     "text": [
      "[youtube] ZkLtnaBpxCk: Downloading webpage\n",
      "[download] Destination: ../data/downloaded_audio/watch?v=ZkLtnaBpxCk.webm\n",
      "[download] 100% of 18.39MiB in 00:0198MiB/s ETA 00:001nown ETA\n",
      "[ffmpeg] Destination: ../data/downloaded_audio/watch?v=ZkLtnaBpxCk.mp3\n",
      "Deleting original file ../data/downloaded_audio/watch?v=ZkLtnaBpxCk.webm (pass -k to keep)\n"
     ]
    },
    {
     "name": "stderr",
     "output_type": "stream",
     "text": [
      "\n",
      " 10%|█         | 19/183 [13:16<2:36:08, 57.12s/it]\u001b[A"
     ]
    },
    {
     "name": "stdout",
     "output_type": "stream",
     "text": [
      "[youtube] wKPPf9YNv5c: Downloading webpage\n",
      "[youtube] wKPPf9YNv5c: Downloading MPD manifest\n",
      "[dashsegments] Total fragments: 123\n",
      "[download] Destination: ../data/downloaded_audio/watch?v=wKPPf9YNv5c.webm\n",
      "[download] 100% of 15.12MiB in 00:10.81MiB/s ETA 00:0000\n",
      "[ffmpeg] Destination: ../data/downloaded_audio/watch?v=wKPPf9YNv5c.mp3\n",
      "Deleting original file ../data/downloaded_audio/watch?v=wKPPf9YNv5c.webm (pass -k to keep)\n"
     ]
    },
    {
     "name": "stderr",
     "output_type": "stream",
     "text": [
      "\n",
      " 11%|█         | 20/183 [14:12<2:34:03, 56.71s/it]\u001b[A"
     ]
    },
    {
     "name": "stdout",
     "output_type": "stream",
     "text": [
      "[youtube] Nn1WY1dW7d0: Downloading webpage\n",
      "[youtube] Nn1WY1dW7d0: Downloading MPD manifest\n",
      "[dashsegments] Total fragments: 172\n",
      "[download] Destination: ../data/downloaded_audio/watch?v=Nn1WY1dW7d0.m4a\n",
      "[download] 100% of 26.13MiB in 00:08.84MiB/s ETA 00:00033\n",
      "[ffmpeg] Correcting container in \"../data/downloaded_audio/watch?v=Nn1WY1dW7d0.m4a\"\n",
      "[ffmpeg] Destination: ../data/downloaded_audio/watch?v=Nn1WY1dW7d0.mp3\n",
      "Deleting original file ../data/downloaded_audio/watch?v=Nn1WY1dW7d0.m4a (pass -k to keep)\n"
     ]
    },
    {
     "name": "stderr",
     "output_type": "stream",
     "text": [
      "\n",
      " 11%|█▏        | 21/183 [14:50<2:18:35, 51.33s/it]\u001b[A"
     ]
    },
    {
     "name": "stdout",
     "output_type": "stream",
     "text": [
      "[youtube] 5eyE20HpaCo: Downloading webpage\n",
      "[youtube] 5eyE20HpaCo: Downloading MPD manifest\n",
      "[dashsegments] Total fragments: 185\n",
      "[download] Destination: ../data/downloaded_audio/watch?v=5eyE20HpaCo.webm\n",
      "[download] 100% of 23.12MiB in 00:10.23MiB/s ETA 00:00014\n",
      "[ffmpeg] Destination: ../data/downloaded_audio/watch?v=5eyE20HpaCo.mp3\n",
      "Deleting original file ../data/downloaded_audio/watch?v=5eyE20HpaCo.webm (pass -k to keep)\n"
     ]
    },
    {
     "name": "stderr",
     "output_type": "stream",
     "text": [
      "\n",
      " 12%|█▏        | 22/183 [15:51<2:25:15, 54.13s/it]\u001b[A"
     ]
    },
    {
     "name": "stdout",
     "output_type": "stream",
     "text": [
      "[youtube] 3CgYkRWucb4: Downloading webpage\n",
      "[download] Destination: ../data/downloaded_audio/watch?v=3CgYkRWucb4.m4a\n",
      "[download] 100% of 22.96MiB in 00:0187MiB/s ETA 00:00known ETA\n",
      "[ffmpeg] Correcting container in \"../data/downloaded_audio/watch?v=3CgYkRWucb4.m4a\"\n",
      "[ffmpeg] Destination: ../data/downloaded_audio/watch?v=3CgYkRWucb4.mp3\n",
      "Deleting original file ../data/downloaded_audio/watch?v=3CgYkRWucb4.m4a (pass -k to keep)\n"
     ]
    },
    {
     "name": "stderr",
     "output_type": "stream",
     "text": [
      "\n",
      " 13%|█▎        | 23/183 [16:38<2:18:24, 51.90s/it]\u001b[A"
     ]
    },
    {
     "name": "stdout",
     "output_type": "stream",
     "text": [
      "[youtube] 6r5g1z5UtC8: Downloading webpage\n",
      "[download] Destination: ../data/downloaded_audio/watch?v=6r5g1z5UtC8.m4a\n",
      "[download] 100% of 77.27MiB in 00:0596MiB/s ETA 00:003nown ETA\n",
      "[ffmpeg] Correcting container in \"../data/downloaded_audio/watch?v=6r5g1z5UtC8.m4a\"\n",
      "[ffmpeg] Destination: ../data/downloaded_audio/watch?v=6r5g1z5UtC8.mp3\n",
      "Deleting original file ../data/downloaded_audio/watch?v=6r5g1z5UtC8.m4a (pass -k to keep)\n"
     ]
    },
    {
     "name": "stderr",
     "output_type": "stream",
     "text": [
      "\n",
      " 13%|█▎        | 24/183 [18:34<3:08:18, 71.06s/it]\u001b[A"
     ]
    },
    {
     "name": "stdout",
     "output_type": "stream",
     "text": [
      "[youtube] QG-zpm7DYS0: Downloading webpage\n",
      "[youtube] QG-zpm7DYS0: Downloading MPD manifest\n",
      "[dashsegments] Total fragments: 172\n",
      "[download] Destination: ../data/downloaded_audio/watch?v=QG-zpm7DYS0.m4a\n",
      "[download] 100% of 25.90MiB in 00:10.18MiB/s ETA 00:00069\n",
      "[ffmpeg] Correcting container in \"../data/downloaded_audio/watch?v=QG-zpm7DYS0.m4a\"\n",
      "[ffmpeg] Destination: ../data/downloaded_audio/watch?v=QG-zpm7DYS0.mp3\n",
      "Deleting original file ../data/downloaded_audio/watch?v=QG-zpm7DYS0.m4a (pass -k to keep)\n"
     ]
    },
    {
     "name": "stderr",
     "output_type": "stream",
     "text": [
      "\n",
      " 14%|█▎        | 25/183 [19:27<2:53:29, 65.88s/it]\u001b[A"
     ]
    },
    {
     "name": "stdout",
     "output_type": "stream",
     "text": [
      "[youtube] RdFhs1LUdwg: Downloading webpage\n",
      "[download] Destination: ../data/downloaded_audio/watch?v=RdFhs1LUdwg.m4a\n",
      "[download] 100% of 20.49MiB in 00:0114MiB/s ETA 00:001nown ETA\n",
      "[ffmpeg] Correcting container in \"../data/downloaded_audio/watch?v=RdFhs1LUdwg.m4a\"\n",
      "[ffmpeg] Destination: ../data/downloaded_audio/watch?v=RdFhs1LUdwg.mp3\n",
      "Deleting original file ../data/downloaded_audio/watch?v=RdFhs1LUdwg.m4a (pass -k to keep)\n"
     ]
    },
    {
     "name": "stderr",
     "output_type": "stream",
     "text": [
      "\n",
      " 14%|█▍        | 26/183 [19:57<2:24:17, 55.14s/it]\u001b[A"
     ]
    },
    {
     "name": "stdout",
     "output_type": "stream",
     "text": [
      "[youtube] yIDLxbspOpY: Downloading webpage\n",
      "[youtube] yIDLxbspOpY: Downloading MPD manifest\n",
      "[dashsegments] Total fragments: 162\n",
      "[download] Destination: ../data/downloaded_audio/watch?v=yIDLxbspOpY.m4a\n",
      "[download] 100% of 24.52MiB in 00:09.21MiB/s ETA 00:0000\n",
      "[ffmpeg] Correcting container in \"../data/downloaded_audio/watch?v=yIDLxbspOpY.m4a\"\n",
      "[ffmpeg] Destination: ../data/downloaded_audio/watch?v=yIDLxbspOpY.mp3\n",
      "Deleting original file ../data/downloaded_audio/watch?v=yIDLxbspOpY.m4a (pass -k to keep)\n"
     ]
    },
    {
     "name": "stderr",
     "output_type": "stream",
     "text": [
      "\n",
      " 15%|█▍        | 27/183 [20:37<2:11:19, 50.51s/it]\u001b[A"
     ]
    },
    {
     "name": "stdout",
     "output_type": "stream",
     "text": [
      "[youtube] hM4t5Q6u-dA: Downloading webpage\n",
      "[youtube] hM4t5Q6u-dA: Downloading MPD manifest\n",
      "[dashsegments] Total fragments: 352\n",
      "[download] Destination: ../data/downloaded_audio/watch?v=hM4t5Q6u-dA.m4a\n",
      "[download] 100% of 26.57MiB in 00:20.83MiB/s ETA 00:0001\n",
      "[ffmpeg] Correcting container in \"../data/downloaded_audio/watch?v=hM4t5Q6u-dA.m4a\"\n",
      "[ffmpeg] Destination: ../data/downloaded_audio/watch?v=hM4t5Q6u-dA.mp3\n",
      "Deleting original file ../data/downloaded_audio/watch?v=hM4t5Q6u-dA.m4a (pass -k to keep)\n"
     ]
    },
    {
     "name": "stderr",
     "output_type": "stream",
     "text": [
      "\n",
      " 15%|█▌        | 28/183 [21:46<2:24:26, 55.91s/it]\u001b[A"
     ]
    },
    {
     "name": "stdout",
     "output_type": "stream",
     "text": [
      "[youtube] _krd6KeqoxA: Downloading webpage\n",
      "[download] Destination: ../data/downloaded_audio/watch?v=_krd6KeqoxA.webm\n",
      "[download] 100% of 35.24MiB in 00:0232MiB/s ETA 00:00known ETA\n",
      "[ffmpeg] Destination: ../data/downloaded_audio/watch?v=_krd6KeqoxA.mp3\n",
      "Deleting original file ../data/downloaded_audio/watch?v=_krd6KeqoxA.webm (pass -k to keep)\n"
     ]
    },
    {
     "name": "stderr",
     "output_type": "stream",
     "text": [
      "\n",
      " 16%|█▌        | 29/183 [23:01<2:38:05, 61.60s/it]\u001b[A"
     ]
    },
    {
     "name": "stdout",
     "output_type": "stream",
     "text": [
      "[youtube] a54_jIjyo2k: Downloading webpage\n",
      "[youtube] a54_jIjyo2k: Downloading MPD manifest\n",
      "[dashsegments] Total fragments: 192\n",
      "[download] Destination: ../data/downloaded_audio/watch?v=a54_jIjyo2k.webm\n",
      "[download] 100% of 25.91MiB in 00:12.69MiB/s ETA 00:00009\n",
      "[ffmpeg] Destination: ../data/downloaded_audio/watch?v=a54_jIjyo2k.mp3\n",
      "Deleting original file ../data/downloaded_audio/watch?v=a54_jIjyo2k.webm (pass -k to keep)\n"
     ]
    },
    {
     "name": "stderr",
     "output_type": "stream",
     "text": [
      "\n",
      " 16%|█▋        | 30/183 [24:25<2:54:26, 68.41s/it]\u001b[A"
     ]
    },
    {
     "name": "stdout",
     "output_type": "stream",
     "text": [
      "[youtube] O2ccP2EdHaA: Downloading webpage\n",
      "[youtube] O2ccP2EdHaA: Downloading MPD manifest\n",
      "[dashsegments] Total fragments: 138\n",
      "[download] Destination: ../data/downloaded_audio/watch?v=O2ccP2EdHaA.webm\n",
      "[download] 100% of 16.74MiB in 00:08.18MiB/s ETA 00:00001\n",
      "[ffmpeg] Destination: ../data/downloaded_audio/watch?v=O2ccP2EdHaA.mp3\n",
      "Deleting original file ../data/downloaded_audio/watch?v=O2ccP2EdHaA.webm (pass -k to keep)\n"
     ]
    },
    {
     "name": "stderr",
     "output_type": "stream",
     "text": [
      "\n",
      " 17%|█▋        | 31/183 [25:01<2:28:42, 58.70s/it]\u001b[A"
     ]
    },
    {
     "name": "stdout",
     "output_type": "stream",
     "text": [
      "[youtube] com0BU506e4: Downloading webpage\n",
      "[youtube] com0BU506e4: Downloading MPD manifest\n",
      "[dashsegments] Total fragments: 159\n",
      "[download] Destination: ../data/downloaded_audio/watch?v=com0BU506e4.webm\n",
      "[download] 100% of 17.50MiB in 00:08.03MiB/s ETA 00:00004\n",
      "[ffmpeg] Destination: ../data/downloaded_audio/watch?v=com0BU506e4.mp3\n",
      "Deleting original file ../data/downloaded_audio/watch?v=com0BU506e4.webm (pass -k to keep)\n"
     ]
    },
    {
     "name": "stderr",
     "output_type": "stream",
     "text": [
      "\n",
      " 17%|█▋        | 32/183 [25:39<2:12:34, 52.68s/it]\u001b[A"
     ]
    },
    {
     "name": "stdout",
     "output_type": "stream",
     "text": [
      "[youtube] 751YM6GXPQg: Downloading webpage\n",
      "[youtube] 751YM6GXPQg: Downloading MPD manifest\n",
      "[dashsegments] Total fragments: 157\n",
      "[download] Destination: ../data/downloaded_audio/watch?v=751YM6GXPQg.m4a\n",
      "[download] 100% of 23.60MiB in 00:10.22MiB/s ETA 00:00007\n",
      "[ffmpeg] Correcting container in \"../data/downloaded_audio/watch?v=751YM6GXPQg.m4a\"\n",
      "[ffmpeg] Destination: ../data/downloaded_audio/watch?v=751YM6GXPQg.mp3\n",
      "Deleting original file ../data/downloaded_audio/watch?v=751YM6GXPQg.m4a (pass -k to keep)\n"
     ]
    },
    {
     "name": "stderr",
     "output_type": "stream",
     "text": [
      "\n",
      " 18%|█▊        | 33/183 [26:22<2:04:06, 49.64s/it]\u001b[A"
     ]
    },
    {
     "name": "stdout",
     "output_type": "stream",
     "text": [
      "[youtube] eF1_wylan9U: Downloading webpage\n",
      "[youtube] eF1_wylan9U: Downloading MPD manifest\n",
      "[dashsegments] Total fragments: 140\n",
      "[download] Destination: ../data/downloaded_audio/watch?v=eF1_wylan9U.m4a\n",
      "[download] 100% of 21.40MiB in 00:06.67MiB/s ETA 00:00001\n",
      "[ffmpeg] Correcting container in \"../data/downloaded_audio/watch?v=eF1_wylan9U.m4a\"\n",
      "[ffmpeg] Destination: ../data/downloaded_audio/watch?v=eF1_wylan9U.mp3\n",
      "Deleting original file ../data/downloaded_audio/watch?v=eF1_wylan9U.m4a (pass -k to keep)\n"
     ]
    },
    {
     "name": "stderr",
     "output_type": "stream",
     "text": [
      "\n",
      " 19%|█▊        | 34/183 [27:13<2:03:55, 49.90s/it]\u001b[A"
     ]
    },
    {
     "name": "stdout",
     "output_type": "stream",
     "text": [
      "[youtube] GyJZrqqYyd0: Downloading webpage\n",
      "[download] Destination: ../data/downloaded_audio/watch?v=GyJZrqqYyd0.m4a\n",
      "[download] 100% of 24.78MiB in 00:0181MiB/s ETA 00:00known ETA\n",
      "[ffmpeg] Correcting container in \"../data/downloaded_audio/watch?v=GyJZrqqYyd0.m4a\"\n",
      "[ffmpeg] Destination: ../data/downloaded_audio/watch?v=GyJZrqqYyd0.mp3\n",
      "Deleting original file ../data/downloaded_audio/watch?v=GyJZrqqYyd0.m4a (pass -k to keep)\n"
     ]
    },
    {
     "name": "stderr",
     "output_type": "stream",
     "text": [
      "\n",
      " 19%|█▉        | 35/183 [28:05<2:04:53, 50.63s/it]\u001b[A"
     ]
    },
    {
     "name": "stdout",
     "output_type": "stream",
     "text": [
      "[youtube] OG1-zVlTypc: Downloading webpage\n",
      "[youtube] OG1-zVlTypc: Downloading MPD manifest\n",
      "[dashsegments] Total fragments: 330\n",
      "[download] Destination: ../data/downloaded_audio/watch?v=OG1-zVlTypc.m4a\n",
      "[download] 100% of 24.92MiB in 00:16.73MiB/s ETA 00:000047\n",
      "[ffmpeg] Correcting container in \"../data/downloaded_audio/watch?v=OG1-zVlTypc.m4a\"\n",
      "[ffmpeg] Destination: ../data/downloaded_audio/watch?v=OG1-zVlTypc.mp3\n",
      "Deleting original file ../data/downloaded_audio/watch?v=OG1-zVlTypc.m4a (pass -k to keep)\n"
     ]
    },
    {
     "name": "stderr",
     "output_type": "stream",
     "text": [
      "\n",
      " 20%|█▉        | 36/183 [28:51<2:00:42, 49.27s/it]\u001b[A"
     ]
    },
    {
     "name": "stdout",
     "output_type": "stream",
     "text": [
      "[youtube] gbBn8EzZx3w: Downloading webpage\n",
      "[youtube] gbBn8EzZx3w: Downloading MPD manifest\n",
      "[dashsegments] Total fragments: 41\n",
      "[download] Destination: ../data/downloaded_audio/watch?v=gbBn8EzZx3w.webm\n",
      "[download] 100% of 5.68MiB in 00:02.76MiB/s ETA 00:000162\n",
      "[ffmpeg] Destination: ../data/downloaded_audio/watch?v=gbBn8EzZx3w.mp3\n",
      "Deleting original file ../data/downloaded_audio/watch?v=gbBn8EzZx3w.webm (pass -k to keep)\n"
     ]
    },
    {
     "name": "stderr",
     "output_type": "stream",
     "text": [
      "\n",
      " 20%|██        | 37/183 [29:06<1:35:09, 39.11s/it]\u001b[A"
     ]
    },
    {
     "name": "stdout",
     "output_type": "stream",
     "text": [
      "[youtube] zdsaW_TSzHU: Downloading webpage\n",
      "[download] Destination: ../data/downloaded_audio/watch?v=zdsaW_TSzHU.webm\n",
      "[download] 100% of 7.08MiB in 00:0023MiB/s ETA 00:001\n",
      "[ffmpeg] Destination: ../data/downloaded_audio/watch?v=zdsaW_TSzHU.mp3\n",
      "Deleting original file ../data/downloaded_audio/watch?v=zdsaW_TSzHU.webm (pass -k to keep)\n"
     ]
    },
    {
     "name": "stderr",
     "output_type": "stream",
     "text": [
      "\n",
      " 21%|██        | 38/183 [29:16<1:13:05, 30.25s/it]\u001b[A"
     ]
    },
    {
     "name": "stdout",
     "output_type": "stream",
     "text": [
      "[youtube] 0Tt1IDjmito: Downloading webpage\n",
      "[download] Destination: ../data/downloaded_audio/watch?v=0Tt1IDjmito.m4a\n",
      "[download] 100% of 9.17MiB in 00:0147MiB/s ETA 00:003\n",
      "[ffmpeg] Correcting container in \"../data/downloaded_audio/watch?v=0Tt1IDjmito.m4a\"\n",
      "[ffmpeg] Destination: ../data/downloaded_audio/watch?v=0Tt1IDjmito.mp3\n",
      "Deleting original file ../data/downloaded_audio/watch?v=0Tt1IDjmito.m4a (pass -k to keep)\n"
     ]
    },
    {
     "name": "stderr",
     "output_type": "stream",
     "text": [
      "\n",
      " 21%|██▏       | 39/183 [29:28<59:42, 24.88s/it]  \u001b[A"
     ]
    },
    {
     "name": "stdout",
     "output_type": "stream",
     "text": [
      "[youtube] GrV3dR-_BVw: Downloading webpage\n",
      "[download] Destination: ../data/downloaded_audio/watch?v=GrV3dR-_BVw.webm\n",
      "[download] 100% of 1.41MiB in 00:0036MiB/s ETA 00:002\n",
      "[ffmpeg] Destination: ../data/downloaded_audio/watch?v=GrV3dR-_BVw.mp3\n",
      "Deleting original file ../data/downloaded_audio/watch?v=GrV3dR-_BVw.webm (pass -k to keep)\n"
     ]
    },
    {
     "name": "stderr",
     "output_type": "stream",
     "text": [
      "\n",
      " 22%|██▏       | 40/183 [29:33<44:50, 18.82s/it]\u001b[A"
     ]
    },
    {
     "name": "stdout",
     "output_type": "stream",
     "text": [
      "[youtube] dJ1eDL15_Lw: Downloading webpage\n",
      "[youtube] dJ1eDL15_Lw: Downloading MPD manifest\n",
      "[dashsegments] Total fragments: 76\n",
      "[download] Destination: ../data/downloaded_audio/watch?v=dJ1eDL15_Lw.m4a\n",
      "[download] 100% of 11.52MiB in 00:04.73MiB/s ETA 00:00037\n",
      "[ffmpeg] Correcting container in \"../data/downloaded_audio/watch?v=dJ1eDL15_Lw.m4a\"\n",
      "[ffmpeg] Destination: ../data/downloaded_audio/watch?v=dJ1eDL15_Lw.mp3\n",
      "Deleting original file ../data/downloaded_audio/watch?v=dJ1eDL15_Lw.m4a (pass -k to keep)\n"
     ]
    },
    {
     "name": "stderr",
     "output_type": "stream",
     "text": [
      "\n",
      " 22%|██▏       | 41/183 [29:59<49:36, 20.96s/it]\u001b[A"
     ]
    },
    {
     "name": "stdout",
     "output_type": "stream",
     "text": [
      "[youtube] 2w3ZlSeFxQU: Downloading webpage\n",
      "[download] Destination: ../data/downloaded_audio/watch?v=2w3ZlSeFxQU.webm\n",
      "[download] 100% of 1.57MiB in 00:0073MiB/s ETA 00:002\n",
      "[ffmpeg] Destination: ../data/downloaded_audio/watch?v=2w3ZlSeFxQU.mp3\n",
      "Deleting original file ../data/downloaded_audio/watch?v=2w3ZlSeFxQU.webm (pass -k to keep)\n"
     ]
    },
    {
     "name": "stderr",
     "output_type": "stream",
     "text": [
      "\n",
      " 23%|██▎       | 42/183 [30:05<38:25, 16.35s/it]\u001b[A"
     ]
    },
    {
     "name": "stdout",
     "output_type": "stream",
     "text": [
      "[youtube] 9cYeZdKeXsc: Downloading webpage\n",
      "[youtube] 9cYeZdKeXsc: Downloading MPD manifest\n",
      "[dashsegments] Total fragments: 36\n",
      "[download] Destination: ../data/downloaded_audio/watch?v=9cYeZdKeXsc.webm\n",
      "[download] 100% of 5.41MiB in 00:03.06MiB/s ETA 00:0000\n",
      "[ffmpeg] Destination: ../data/downloaded_audio/watch?v=9cYeZdKeXsc.mp3\n",
      "Deleting original file ../data/downloaded_audio/watch?v=9cYeZdKeXsc.webm (pass -k to keep)\n"
     ]
    },
    {
     "name": "stderr",
     "output_type": "stream",
     "text": [
      "\n",
      " 23%|██▎       | 43/183 [30:26<41:46, 17.91s/it]\u001b[A"
     ]
    },
    {
     "name": "stdout",
     "output_type": "stream",
     "text": [
      "[youtube] w8namZ5rt2k: Downloading webpage\n",
      "[download] Destination: ../data/downloaded_audio/watch?v=w8namZ5rt2k.m4a\n",
      "[download] 100% of 5.31MiB in 00:0082MiB/s ETA 00:0005\n",
      "[ffmpeg] Correcting container in \"../data/downloaded_audio/watch?v=w8namZ5rt2k.m4a\"\n",
      "[ffmpeg] Destination: ../data/downloaded_audio/watch?v=w8namZ5rt2k.mp3\n",
      "Deleting original file ../data/downloaded_audio/watch?v=w8namZ5rt2k.m4a (pass -k to keep)\n"
     ]
    },
    {
     "name": "stderr",
     "output_type": "stream",
     "text": [
      "\n",
      " 24%|██▍       | 44/183 [30:33<34:11, 14.76s/it]\u001b[A"
     ]
    },
    {
     "name": "stdout",
     "output_type": "stream",
     "text": [
      "[youtube] mpE-oaix5kA: Downloading webpage\n",
      "[download] Destination: ../data/downloaded_audio/watch?v=mpE-oaix5kA.m4a\n",
      "[download] 100% of 13.48MiB in 00:0182MiB/s ETA 00:00known ETA\n",
      "[ffmpeg] Correcting container in \"../data/downloaded_audio/watch?v=mpE-oaix5kA.m4a\"\n",
      "[ffmpeg] Destination: ../data/downloaded_audio/watch?v=mpE-oaix5kA.mp3\n",
      "Deleting original file ../data/downloaded_audio/watch?v=mpE-oaix5kA.m4a (pass -k to keep)\n"
     ]
    },
    {
     "name": "stderr",
     "output_type": "stream",
     "text": [
      "\n",
      " 25%|██▍       | 45/183 [30:54<37:44, 16.41s/it]\u001b[A"
     ]
    },
    {
     "name": "stdout",
     "output_type": "stream",
     "text": [
      "[youtube] 8mQZzlQXK1Q: Downloading webpage\n",
      "[download] Destination: ../data/downloaded_audio/watch?v=8mQZzlQXK1Q.m4a\n",
      "[download] 100% of 4.20MiB in 00:0043MiB/s ETA 00:006\n",
      "[ffmpeg] Correcting container in \"../data/downloaded_audio/watch?v=8mQZzlQXK1Q.m4a\"\n",
      "[ffmpeg] Destination: ../data/downloaded_audio/watch?v=8mQZzlQXK1Q.mp3\n",
      "Deleting original file ../data/downloaded_audio/watch?v=8mQZzlQXK1Q.m4a (pass -k to keep)\n"
     ]
    },
    {
     "name": "stderr",
     "output_type": "stream",
     "text": [
      "\n",
      " 25%|██▌       | 46/183 [31:01<31:31, 13.81s/it]\u001b[A"
     ]
    },
    {
     "name": "stdout",
     "output_type": "stream",
     "text": [
      "[youtube] sDrakgSYvzc: Downloading webpage\n",
      "[download] Destination: ../data/downloaded_audio/watch?v=sDrakgSYvzc.m4a\n",
      "[download] 100% of 17.24MiB in 00:0152MiB/s ETA 00:008nown ETA\n",
      "[ffmpeg] Correcting container in \"../data/downloaded_audio/watch?v=sDrakgSYvzc.m4a\"\n",
      "[ffmpeg] Destination: ../data/downloaded_audio/watch?v=sDrakgSYvzc.mp3\n",
      "Deleting original file ../data/downloaded_audio/watch?v=sDrakgSYvzc.m4a (pass -k to keep)\n"
     ]
    },
    {
     "name": "stderr",
     "output_type": "stream",
     "text": [
      "\n",
      " 26%|██▌       | 47/183 [31:49<53:56, 23.80s/it]\u001b[A"
     ]
    },
    {
     "name": "stdout",
     "output_type": "stream",
     "text": [
      "[youtube] MCyfMFXR-n0: Downloading webpage\n",
      "[download] Destination: ../data/downloaded_audio/watch?v=MCyfMFXR-n0.webm\n",
      "[download] 100% of 4.15MiB in 00:0072MiB/s ETA 00:004\n",
      "[ffmpeg] Destination: ../data/downloaded_audio/watch?v=MCyfMFXR-n0.mp3\n",
      "Deleting original file ../data/downloaded_audio/watch?v=MCyfMFXR-n0.webm (pass -k to keep)\n"
     ]
    },
    {
     "name": "stderr",
     "output_type": "stream",
     "text": [
      "\n",
      " 26%|██▌       | 48/183 [31:56<42:41, 18.98s/it]\u001b[A"
     ]
    },
    {
     "name": "stdout",
     "output_type": "stream",
     "text": [
      "[youtube] g6hMfQOsma4: Downloading webpage\n",
      "[download] Destination: ../data/downloaded_audio/watch?v=g6hMfQOsma4.m4a\n",
      "[download] 100% of 10.31MiB in 00:0056MiB/s ETA 00:00known ETA\n",
      "[ffmpeg] Correcting container in \"../data/downloaded_audio/watch?v=g6hMfQOsma4.m4a\"\n",
      "[ffmpeg] Destination: ../data/downloaded_audio/watch?v=g6hMfQOsma4.mp3\n",
      "Deleting original file ../data/downloaded_audio/watch?v=g6hMfQOsma4.m4a (pass -k to keep)\n"
     ]
    },
    {
     "name": "stderr",
     "output_type": "stream",
     "text": [
      "\n",
      " 27%|██▋       | 49/183 [32:17<43:15, 19.37s/it]\u001b[A"
     ]
    },
    {
     "name": "stdout",
     "output_type": "stream",
     "text": [
      "[youtube] jQgkVKGqBCE: Downloading webpage\n",
      "[download] Destination: ../data/downloaded_audio/watch?v=jQgkVKGqBCE.m4a\n",
      "[download] 100% of 17.67MiB in 00:0115MiB/s ETA 00:00known ETA\n",
      "[ffmpeg] Correcting container in \"../data/downloaded_audio/watch?v=jQgkVKGqBCE.m4a\"\n",
      "[ffmpeg] Destination: ../data/downloaded_audio/watch?v=jQgkVKGqBCE.mp3\n",
      "Deleting original file ../data/downloaded_audio/watch?v=jQgkVKGqBCE.m4a (pass -k to keep)\n"
     ]
    },
    {
     "name": "stderr",
     "output_type": "stream",
     "text": [
      "\n",
      " 27%|██▋       | 50/183 [32:54<54:58, 24.80s/it]\u001b[A"
     ]
    },
    {
     "name": "stdout",
     "output_type": "stream",
     "text": [
      "[youtube] pfoKBNPbSPY: Downloading webpage\n"
     ]
    },
    {
     "name": "stderr",
     "output_type": "stream",
     "text": [
      "ERROR: pfoKBNPbSPY: YouTube said: This video is no longer available because the YouTube account associated with this video has been terminated.\n",
      "Sorry about that.\n",
      "\n"
     ]
    },
    {
     "name": "stdout",
     "output_type": "stream",
     "text": [
      "Therapy Url: https://www.youtube.com/watch?v=pfoKBNPbSPY\n"
     ]
    },
    {
     "name": "stderr",
     "output_type": "stream",
     "text": [
      " 28%|██▊       | 51/183 [32:54<38:24, 17.46s/it]\u001b[A"
     ]
    },
    {
     "name": "stdout",
     "output_type": "stream",
     "text": [
      "[youtube] MyXdvt4_AZA: Downloading webpage\n",
      "[download] Destination: ../data/downloaded_audio/watch?v=MyXdvt4_AZA.m4a\n",
      "[download] 100% of 16.27MiB in 00:0010MiB/s ETA 00:00known ETA\n",
      "[ffmpeg] Correcting container in \"../data/downloaded_audio/watch?v=MyXdvt4_AZA.m4a\"\n",
      "[ffmpeg] Destination: ../data/downloaded_audio/watch?v=MyXdvt4_AZA.mp3\n",
      "Deleting original file ../data/downloaded_audio/watch?v=MyXdvt4_AZA.m4a (pass -k to keep)\n"
     ]
    },
    {
     "name": "stderr",
     "output_type": "stream",
     "text": [
      "\n",
      " 28%|██▊       | 52/183 [33:30<50:18, 23.04s/it]\u001b[A"
     ]
    },
    {
     "name": "stdout",
     "output_type": "stream",
     "text": [
      "[youtube] LuuKIF4-F_Q: Downloading webpage\n",
      "[youtube] LuuKIF4-F_Q: Downloading MPD manifest\n",
      "[dashsegments] Total fragments: 40\n",
      "[download] Destination: ../data/downloaded_audio/watch?v=LuuKIF4-F_Q.webm\n",
      "[download] 100% of 5.57MiB in 00:09.71MiB/s ETA 00:000108\n",
      "[ffmpeg] Destination: ../data/downloaded_audio/watch?v=LuuKIF4-F_Q.mp3\n",
      "Deleting original file ../data/downloaded_audio/watch?v=LuuKIF4-F_Q.webm (pass -k to keep)\n"
     ]
    },
    {
     "name": "stderr",
     "output_type": "stream",
     "text": [
      "\n",
      " 29%|██▉       | 53/183 [34:01<54:50, 25.31s/it]\u001b[A"
     ]
    },
    {
     "name": "stdout",
     "output_type": "stream",
     "text": [
      "[youtube] ZDpMz864zBA: Downloading webpage\n",
      "[youtube] ZDpMz864zBA: Downloading MPD manifest\n",
      "[dashsegments] Total fragments: 35\n",
      "[download] Destination: ../data/downloaded_audio/watch?v=ZDpMz864zBA.webm\n",
      "[download] 100% of 5.21MiB in 00:07.70MiB/s ETA 00:00016\n",
      "[ffmpeg] Destination: ../data/downloaded_audio/watch?v=ZDpMz864zBA.mp3\n",
      "Deleting original file ../data/downloaded_audio/watch?v=ZDpMz864zBA.webm (pass -k to keep)\n"
     ]
    },
    {
     "name": "stderr",
     "output_type": "stream",
     "text": [
      "\n",
      " 30%|██▉       | 54/183 [34:20<50:31, 23.50s/it]\u001b[A"
     ]
    },
    {
     "name": "stdout",
     "output_type": "stream",
     "text": [
      "[youtube] 7wqzf3YSkYY: Downloading webpage\n",
      "[youtube] 7wqzf3YSkYY: Downloading MPD manifest\n",
      "[dashsegments] Total fragments: 144\n",
      "[download] Destination: ../data/downloaded_audio/watch?v=7wqzf3YSkYY.m4a\n",
      "[download] 100% of 10.83MiB in 00:28.35MiB/s ETA 00:00038\n",
      "[ffmpeg] Correcting container in \"../data/downloaded_audio/watch?v=7wqzf3YSkYY.m4a\"\n",
      "[ffmpeg] Destination: ../data/downloaded_audio/watch?v=7wqzf3YSkYY.mp3\n",
      "Deleting original file ../data/downloaded_audio/watch?v=7wqzf3YSkYY.m4a (pass -k to keep)\n"
     ]
    },
    {
     "name": "stderr",
     "output_type": "stream",
     "text": [
      "\n",
      " 30%|███       | 55/183 [35:03<1:02:39, 29.37s/it]\u001b[A"
     ]
    },
    {
     "name": "stdout",
     "output_type": "stream",
     "text": [
      "[youtube] -OM8RYUl_rg: Downloading webpage\n",
      "[download] Destination: ../data/downloaded_audio/watch?v=-OM8RYUl_rg.m4a\n",
      "[download] 100% of 5.32MiB in 00:0039MiB/s ETA 00:006\n",
      "[ffmpeg] Correcting container in \"../data/downloaded_audio/watch?v=-OM8RYUl_rg.m4a\"\n",
      "[ffmpeg] Destination: ../data/downloaded_audio/watch?v=-OM8RYUl_rg.mp3\n",
      "Deleting original file ../data/downloaded_audio/watch?v=-OM8RYUl_rg.m4a (pass -k to keep)\n"
     ]
    },
    {
     "name": "stderr",
     "output_type": "stream",
     "text": [
      "\n",
      " 31%|███       | 56/183 [35:10<47:58, 22.67s/it]  \u001b[A"
     ]
    },
    {
     "name": "stdout",
     "output_type": "stream",
     "text": [
      "[youtube] o2Cv6Mlp3KY: Downloading webpage\n",
      "[youtube] o2Cv6Mlp3KY: Downloading MPD manifest\n",
      "[dashsegments] Total fragments: 30\n",
      "[download] Destination: ../data/downloaded_audio/watch?v=o2Cv6Mlp3KY.webm\n",
      "[download] 100% of 4.12MiB in 00:05.45MiB/s ETA 00:00005\n",
      "[ffmpeg] Destination: ../data/downloaded_audio/watch?v=o2Cv6Mlp3KY.mp3\n",
      "Deleting original file ../data/downloaded_audio/watch?v=o2Cv6Mlp3KY.webm (pass -k to keep)\n"
     ]
    },
    {
     "name": "stderr",
     "output_type": "stream",
     "text": [
      "\n",
      " 31%|███       | 57/183 [35:26<43:04, 20.51s/it]\u001b[A"
     ]
    },
    {
     "name": "stdout",
     "output_type": "stream",
     "text": [
      "[youtube] TMVRjab1TmE: Downloading webpage\n",
      "[download] Destination: ../data/downloaded_audio/watch?v=TMVRjab1TmE.m4a\n",
      "[download] 100% of 10.25MiB in 00:0046MiB/s ETA 00:000\n",
      "[ffmpeg] Correcting container in \"../data/downloaded_audio/watch?v=TMVRjab1TmE.m4a\"\n",
      "[ffmpeg] Destination: ../data/downloaded_audio/watch?v=TMVRjab1TmE.mp3\n",
      "Deleting original file ../data/downloaded_audio/watch?v=TMVRjab1TmE.m4a (pass -k to keep)\n"
     ]
    },
    {
     "name": "stderr",
     "output_type": "stream",
     "text": [
      "\n",
      " 32%|███▏      | 58/183 [35:47<42:47, 20.54s/it]\u001b[A"
     ]
    },
    {
     "name": "stdout",
     "output_type": "stream",
     "text": [
      "[youtube] _H6w9Of_vPA: Downloading webpage\n",
      "[download] Destination: ../data/downloaded_audio/watch?v=_H6w9Of_vPA.m4a\n",
      "[download] 100% of 7.99MiB in 00:0055MiB/s ETA 00:001\n",
      "[ffmpeg] Correcting container in \"../data/downloaded_audio/watch?v=_H6w9Of_vPA.m4a\"\n",
      "[ffmpeg] Destination: ../data/downloaded_audio/watch?v=_H6w9Of_vPA.mp3\n",
      "Deleting original file ../data/downloaded_audio/watch?v=_H6w9Of_vPA.m4a (pass -k to keep)\n"
     ]
    },
    {
     "name": "stderr",
     "output_type": "stream",
     "text": [
      "\n",
      " 32%|███▏      | 59/183 [36:07<42:28, 20.55s/it]\u001b[A"
     ]
    },
    {
     "name": "stdout",
     "output_type": "stream",
     "text": [
      "[youtube] tq_yyMVax_c: Downloading webpage\n",
      "[youtube] tq_yyMVax_c: Downloading MPD manifest\n",
      "[dashsegments] Total fragments: 39\n",
      "[download] Destination: ../data/downloaded_audio/watch?v=tq_yyMVax_c.webm\n",
      "[download] 100% of 5.87MiB in 00:03.80MiB/s ETA 00:0000\n",
      "[ffmpeg] Destination: ../data/downloaded_audio/watch?v=tq_yyMVax_c.mp3\n",
      "Deleting original file ../data/downloaded_audio/watch?v=tq_yyMVax_c.webm (pass -k to keep)\n"
     ]
    },
    {
     "name": "stderr",
     "output_type": "stream",
     "text": [
      "\n",
      " 33%|███▎      | 60/183 [36:27<41:40, 20.33s/it]\u001b[A"
     ]
    },
    {
     "name": "stdout",
     "output_type": "stream",
     "text": [
      "[youtube] 0mrgqXoQI80: Downloading webpage\n",
      "[download] Destination: ../data/downloaded_audio/watch?v=0mrgqXoQI80.webm\n",
      "[download] 100% of 10.24MiB in 00:0055MiB/s ETA 00:000\n",
      "[ffmpeg] Destination: ../data/downloaded_audio/watch?v=0mrgqXoQI80.mp3\n",
      "Deleting original file ../data/downloaded_audio/watch?v=0mrgqXoQI80.webm (pass -k to keep)\n"
     ]
    },
    {
     "name": "stderr",
     "output_type": "stream",
     "text": [
      "\n",
      " 33%|███▎      | 61/183 [36:47<41:02, 20.19s/it]\u001b[A"
     ]
    },
    {
     "name": "stdout",
     "output_type": "stream",
     "text": [
      "[youtube] W_tDRu67JnI: Downloading webpage\n",
      "[download] Destination: ../data/downloaded_audio/watch?v=W_tDRu67JnI.m4a\n",
      "[download] 100% of 19.21MiB in 00:0138MiB/s ETA 00:00known ETA\n",
      "[ffmpeg] Correcting container in \"../data/downloaded_audio/watch?v=W_tDRu67JnI.m4a\"\n",
      "[ffmpeg] Destination: ../data/downloaded_audio/watch?v=W_tDRu67JnI.mp3\n",
      "Deleting original file ../data/downloaded_audio/watch?v=W_tDRu67JnI.m4a (pass -k to keep)\n"
     ]
    },
    {
     "name": "stderr",
     "output_type": "stream",
     "text": [
      "\n",
      " 34%|███▍      | 62/183 [37:42<1:02:08, 30.82s/it]\u001b[A"
     ]
    },
    {
     "name": "stdout",
     "output_type": "stream",
     "text": [
      "[youtube] j1mehpweq4g: Downloading webpage\n",
      "[youtube] j1mehpweq4g: Downloading MPD manifest\n",
      "[dashsegments] Total fragments: 36\n",
      "[download] Destination: ../data/downloaded_audio/watch?v=j1mehpweq4g.webm\n",
      "[download] 100% of 5.24MiB in 00:07.16MiB/s ETA 00:00046\n",
      "[ffmpeg] Destination: ../data/downloaded_audio/watch?v=j1mehpweq4g.mp3\n",
      "Deleting original file ../data/downloaded_audio/watch?v=j1mehpweq4g.webm (pass -k to keep)\n"
     ]
    },
    {
     "name": "stderr",
     "output_type": "stream",
     "text": [
      "\n",
      " 34%|███▍      | 63/183 [38:02<55:07, 27.56s/it]  \u001b[A"
     ]
    },
    {
     "name": "stdout",
     "output_type": "stream",
     "text": [
      "[youtube] rs9wsvkf7uQ: Downloading webpage\n",
      "[youtube] rs9wsvkf7uQ: Downloading MPD manifest\n",
      "[dashsegments] Total fragments: 37\n",
      "[download] Destination: ../data/downloaded_audio/watch?v=rs9wsvkf7uQ.webm\n",
      "[download] 100% of 5.66MiB in 00:03.90MiB/s ETA 00:00008\n",
      "[ffmpeg] Destination: ../data/downloaded_audio/watch?v=rs9wsvkf7uQ.mp3\n",
      "Deleting original file ../data/downloaded_audio/watch?v=rs9wsvkf7uQ.webm (pass -k to keep)\n"
     ]
    },
    {
     "name": "stderr",
     "output_type": "stream",
     "text": [
      "\n",
      " 35%|███▍      | 64/183 [38:17<46:45, 23.57s/it]\u001b[A"
     ]
    },
    {
     "name": "stdout",
     "output_type": "stream",
     "text": [
      "[youtube] _pkXuC7vsl0: Downloading webpage\n",
      "[youtube] _pkXuC7vsl0: Downloading MPD manifest\n",
      "[dashsegments] Total fragments: 91\n",
      "[download] Destination: ../data/downloaded_audio/watch?v=_pkXuC7vsl0.m4a\n",
      "[download] 100% of 13.72MiB in 00:07.59MiB/s ETA 00:0001\n",
      "[ffmpeg] Correcting container in \"../data/downloaded_audio/watch?v=_pkXuC7vsl0.m4a\"\n",
      "[ffmpeg] Destination: ../data/downloaded_audio/watch?v=_pkXuC7vsl0.mp3\n",
      "Deleting original file ../data/downloaded_audio/watch?v=_pkXuC7vsl0.m4a (pass -k to keep)\n"
     ]
    },
    {
     "name": "stderr",
     "output_type": "stream",
     "text": [
      "\n",
      " 36%|███▌      | 65/183 [38:52<53:19, 27.12s/it]\u001b[A"
     ]
    },
    {
     "name": "stdout",
     "output_type": "stream",
     "text": [
      "[youtube] 4wTVbzvBH0k: Downloading webpage\n",
      "[download] Destination: ../data/downloaded_audio/watch?v=4wTVbzvBH0k.webm\n",
      "[download] 100% of 9.99MiB in 00:0147MiB/s ETA 00:00known ETA\n",
      "[ffmpeg] Destination: ../data/downloaded_audio/watch?v=4wTVbzvBH0k.mp3\n",
      "Deleting original file ../data/downloaded_audio/watch?v=4wTVbzvBH0k.webm (pass -k to keep)\n"
     ]
    },
    {
     "name": "stderr",
     "output_type": "stream",
     "text": [
      "\n",
      " 36%|███▌      | 66/183 [39:07<45:34, 23.37s/it]\u001b[A"
     ]
    },
    {
     "name": "stdout",
     "output_type": "stream",
     "text": [
      "[youtube] 8K4HW6_MvoU: Downloading webpage\n",
      "[youtube] 8K4HW6_MvoU: Downloading MPD manifest\n",
      "[dashsegments] Total fragments: 64\n",
      "[download] Destination: ../data/downloaded_audio/watch?v=8K4HW6_MvoU.webm\n",
      "[download] 100% of 8.81MiB in 00:05.99MiB/s ETA 00:000306\n",
      "[ffmpeg] Destination: ../data/downloaded_audio/watch?v=8K4HW6_MvoU.mp3\n",
      "Deleting original file ../data/downloaded_audio/watch?v=8K4HW6_MvoU.webm (pass -k to keep)\n"
     ]
    },
    {
     "name": "stderr",
     "output_type": "stream",
     "text": [
      "\n",
      " 37%|███▋      | 67/183 [39:37<49:05, 25.40s/it]\u001b[A"
     ]
    },
    {
     "name": "stdout",
     "output_type": "stream",
     "text": [
      "[youtube] yFcqj_ml8dc: Downloading webpage\n",
      "[download] Destination: ../data/downloaded_audio/watch?v=yFcqj_ml8dc.m4a\n",
      "[download] 100% of 12.23MiB in 00:0111MiB/s ETA 00:004\n",
      "[ffmpeg] Correcting container in \"../data/downloaded_audio/watch?v=yFcqj_ml8dc.m4a\"\n",
      "[ffmpeg] Destination: ../data/downloaded_audio/watch?v=yFcqj_ml8dc.mp3\n",
      "Deleting original file ../data/downloaded_audio/watch?v=yFcqj_ml8dc.m4a (pass -k to keep)\n"
     ]
    },
    {
     "name": "stderr",
     "output_type": "stream",
     "text": [
      "\n",
      " 37%|███▋      | 68/183 [40:09<52:40, 27.48s/it]\u001b[A"
     ]
    },
    {
     "name": "stdout",
     "output_type": "stream",
     "text": [
      "[youtube] JfgNaHtoK8M: Downloading webpage\n",
      "[youtube] JfgNaHtoK8M: Downloading MPD manifest\n",
      "[dashsegments] Total fragments: 34\n",
      "[download] Destination: ../data/downloaded_audio/watch?v=JfgNaHtoK8M.webm\n",
      "[download] 100% of 5.23MiB in 00:08.48MiB/s ETA 00:000200\n",
      "[ffmpeg] Destination: ../data/downloaded_audio/watch?v=JfgNaHtoK8M.mp3\n",
      "Deleting original file ../data/downloaded_audio/watch?v=JfgNaHtoK8M.webm (pass -k to keep)\n"
     ]
    },
    {
     "name": "stderr",
     "output_type": "stream",
     "text": [
      "\n",
      " 38%|███▊      | 69/183 [40:30<48:40, 25.62s/it]\u001b[A"
     ]
    },
    {
     "name": "stdout",
     "output_type": "stream",
     "text": [
      "[youtube] uYD36n3xM7E: Downloading webpage\n",
      "[youtube] uYD36n3xM7E: Downloading MPD manifest\n",
      "[dashsegments] Total fragments: 38\n",
      "[download] Destination: ../data/downloaded_audio/watch?v=uYD36n3xM7E.webm\n",
      "[download] 100% of 5.69MiB in 00:04.41MiB/s ETA 00:00015\n",
      "[ffmpeg] Destination: ../data/downloaded_audio/watch?v=uYD36n3xM7E.mp3\n",
      "Deleting original file ../data/downloaded_audio/watch?v=uYD36n3xM7E.webm (pass -k to keep)\n"
     ]
    },
    {
     "name": "stderr",
     "output_type": "stream",
     "text": [
      "\n",
      " 38%|███▊      | 70/183 [40:48<43:28, 23.08s/it]\u001b[A"
     ]
    },
    {
     "name": "stdout",
     "output_type": "stream",
     "text": [
      "[youtube] DcAqhHb5-hk: Downloading webpage\n",
      "[youtube] DcAqhHb5-hk: Downloading MPD manifest\n",
      "[dashsegments] Total fragments: 30\n",
      "[download] Destination: ../data/downloaded_audio/watch?v=DcAqhHb5-hk.webm\n",
      "[download] 100% of 4.47MiB in 00:03.79MiB/s ETA 00:0001\n",
      "[ffmpeg] Destination: ../data/downloaded_audio/watch?v=DcAqhHb5-hk.mp3\n",
      "Deleting original file ../data/downloaded_audio/watch?v=DcAqhHb5-hk.webm (pass -k to keep)\n"
     ]
    },
    {
     "name": "stderr",
     "output_type": "stream",
     "text": [
      "\n",
      " 39%|███▉      | 71/183 [41:00<37:16, 19.97s/it]\u001b[A"
     ]
    },
    {
     "name": "stdout",
     "output_type": "stream",
     "text": [
      "[youtube] jZ-nv6SUCEs: Downloading webpage\n",
      "[youtube] jZ-nv6SUCEs: Downloading MPD manifest\n",
      "[dashsegments] Total fragments: 38\n",
      "[download] Destination: ../data/downloaded_audio/watch?v=jZ-nv6SUCEs.webm\n",
      "[download] 100% of 5.80MiB in 00:03.43MiB/s ETA 00:00007\n",
      "[ffmpeg] Destination: ../data/downloaded_audio/watch?v=jZ-nv6SUCEs.mp3\n",
      "Deleting original file ../data/downloaded_audio/watch?v=jZ-nv6SUCEs.webm (pass -k to keep)\n"
     ]
    },
    {
     "name": "stderr",
     "output_type": "stream",
     "text": [
      "\n",
      " 39%|███▉      | 72/183 [41:21<37:23, 20.21s/it]\u001b[A"
     ]
    },
    {
     "name": "stdout",
     "output_type": "stream",
     "text": [
      "[youtube] sW5HDbm09ZE: Downloading webpage\n",
      "[youtube] sW5HDbm09ZE: Downloading MPD manifest\n",
      "[dashsegments] Total fragments: 85\n",
      "[download] Destination: ../data/downloaded_audio/watch?v=sW5HDbm09ZE.m4a\n",
      "[download] 100% of 6.30MiB in 00:04.17MiB/s ETA 00:000205\n",
      "[ffmpeg] Correcting container in \"../data/downloaded_audio/watch?v=sW5HDbm09ZE.m4a\"\n",
      "[ffmpeg] Destination: ../data/downloaded_audio/watch?v=sW5HDbm09ZE.mp3\n",
      "Deleting original file ../data/downloaded_audio/watch?v=sW5HDbm09ZE.m4a (pass -k to keep)\n"
     ]
    },
    {
     "name": "stderr",
     "output_type": "stream",
     "text": [
      "\n",
      " 40%|███▉      | 73/183 [41:35<33:29, 18.27s/it]\u001b[A"
     ]
    },
    {
     "name": "stdout",
     "output_type": "stream",
     "text": [
      "[youtube] fY7al47uKsU: Downloading webpage\n",
      "[youtube] fY7al47uKsU: Downloading MPD manifest\n",
      "[dashsegments] Total fragments: 81\n",
      "[download] Destination: ../data/downloaded_audio/watch?v=fY7al47uKsU.m4a\n",
      "[download] 100% of 6.04MiB in 00:07.60MiB/s ETA 00:000107\n",
      "[ffmpeg] Correcting container in \"../data/downloaded_audio/watch?v=fY7al47uKsU.m4a\"\n",
      "[ffmpeg] Destination: ../data/downloaded_audio/watch?v=fY7al47uKsU.mp3\n",
      "Deleting original file ../data/downloaded_audio/watch?v=fY7al47uKsU.m4a (pass -k to keep)\n"
     ]
    },
    {
     "name": "stderr",
     "output_type": "stream",
     "text": [
      "\n",
      " 40%|████      | 74/183 [41:52<32:35, 17.94s/it]\u001b[A"
     ]
    },
    {
     "name": "stdout",
     "output_type": "stream",
     "text": [
      "[youtube] sigXTV5QXik: Downloading webpage\n",
      "[youtube] sigXTV5QXik: Downloading MPD manifest\n",
      "[dashsegments] Total fragments: 28\n",
      "[download] Destination: ../data/downloaded_audio/watch?v=sigXTV5QXik.webm\n",
      "[download] 100% of 2.95MiB in 00:025.48KiB/s ETA 00:0002\n",
      "[ffmpeg] Destination: ../data/downloaded_audio/watch?v=sigXTV5QXik.mp3\n",
      "Deleting original file ../data/downloaded_audio/watch?v=sigXTV5QXik.webm (pass -k to keep)\n"
     ]
    },
    {
     "name": "stderr",
     "output_type": "stream",
     "text": [
      "\n",
      " 41%|████      | 75/183 [42:02<28:01, 15.57s/it]\u001b[A"
     ]
    },
    {
     "name": "stdout",
     "output_type": "stream",
     "text": [
      "[youtube] tnxD2zMc4EE: Downloading webpage\n",
      "[youtube] tnxD2zMc4EE: Downloading MPD manifest\n",
      "[dashsegments] Total fragments: 131\n",
      "[download] Destination: ../data/downloaded_audio/watch?v=tnxD2zMc4EE.m4a\n",
      "[download] 100% of 9.84MiB in 00:11.93MiB/s ETA 00:000318\n",
      "[ffmpeg] Correcting container in \"../data/downloaded_audio/watch?v=tnxD2zMc4EE.m4a\"\n",
      "[ffmpeg] Destination: ../data/downloaded_audio/watch?v=tnxD2zMc4EE.mp3\n",
      "Deleting original file ../data/downloaded_audio/watch?v=tnxD2zMc4EE.m4a (pass -k to keep)\n"
     ]
    },
    {
     "name": "stderr",
     "output_type": "stream",
     "text": [
      "\n",
      " 42%|████▏     | 76/183 [42:30<34:35, 19.40s/it]\u001b[A"
     ]
    },
    {
     "name": "stdout",
     "output_type": "stream",
     "text": [
      "[youtube] 2S0dS5cd8wU: Downloading webpage\n",
      "[youtube] 2S0dS5cd8wU: Downloading MPD manifest\n",
      "[dashsegments] Total fragments: 79\n",
      "[download] Destination: ../data/downloaded_audio/watch?v=2S0dS5cd8wU.m4a\n",
      "[download] 100% of 5.90MiB in 00:16.62MiB/s ETA 00:0005\n",
      "[ffmpeg] Correcting container in \"../data/downloaded_audio/watch?v=2S0dS5cd8wU.m4a\"\n",
      "[ffmpeg] Destination: ../data/downloaded_audio/watch?v=2S0dS5cd8wU.mp3\n",
      "Deleting original file ../data/downloaded_audio/watch?v=2S0dS5cd8wU.m4a (pass -k to keep)\n"
     ]
    },
    {
     "name": "stderr",
     "output_type": "stream",
     "text": [
      "\n",
      " 42%|████▏     | 77/183 [42:57<38:12, 21.63s/it]\u001b[A"
     ]
    },
    {
     "name": "stdout",
     "output_type": "stream",
     "text": [
      "[youtube] VVpD0Jem-DQ: Downloading webpage\n",
      "[youtube] VVpD0Jem-DQ: Downloading MPD manifest\n",
      "[dashsegments] Total fragments: 131\n",
      "[download] Destination: ../data/downloaded_audio/watch?v=VVpD0Jem-DQ.m4a\n",
      "[download] 100% of 9.79MiB in 00:26.58MiB/s ETA 00:0002\n",
      "[ffmpeg] Correcting container in \"../data/downloaded_audio/watch?v=VVpD0Jem-DQ.m4a\"\n",
      "[ffmpeg] Destination: ../data/downloaded_audio/watch?v=VVpD0Jem-DQ.mp3\n",
      "Deleting original file ../data/downloaded_audio/watch?v=VVpD0Jem-DQ.m4a (pass -k to keep)\n"
     ]
    },
    {
     "name": "stderr",
     "output_type": "stream",
     "text": [
      "\n",
      " 43%|████▎     | 78/183 [43:39<48:26, 27.68s/it]\u001b[A"
     ]
    },
    {
     "name": "stdout",
     "output_type": "stream",
     "text": [
      "[youtube] 7Thvo91Ed8I: Downloading webpage\n",
      "[youtube] 7Thvo91Ed8I: Downloading MPD manifest\n",
      "[dashsegments] Total fragments: 45\n",
      "[download] Destination: ../data/downloaded_audio/watch?v=7Thvo91Ed8I.webm\n",
      "[download] 100% of 4.89MiB in 00:05.13MiB/s ETA 00:0001\n",
      "[ffmpeg] Destination: ../data/downloaded_audio/watch?v=7Thvo91Ed8I.mp3\n",
      "Deleting original file ../data/downloaded_audio/watch?v=7Thvo91Ed8I.webm (pass -k to keep)\n"
     ]
    },
    {
     "name": "stderr",
     "output_type": "stream",
     "text": [
      "\n",
      " 43%|████▎     | 79/183 [43:59<43:51, 25.30s/it]\u001b[A"
     ]
    },
    {
     "name": "stdout",
     "output_type": "stream",
     "text": [
      "[youtube] grTGpx30gc0: Downloading webpage\n",
      "[youtube] grTGpx30gc0: Downloading MPD manifest\n",
      "[dashsegments] Total fragments: 39\n",
      "[download] Destination: ../data/downloaded_audio/watch?v=grTGpx30gc0.webm\n",
      "[download] 100% of 4.15MiB in 00:04.07MiB/s ETA 00:00013\n",
      "[ffmpeg] Destination: ../data/downloaded_audio/watch?v=grTGpx30gc0.mp3\n",
      "Deleting original file ../data/downloaded_audio/watch?v=grTGpx30gc0.webm (pass -k to keep)\n"
     ]
    },
    {
     "name": "stderr",
     "output_type": "stream",
     "text": [
      "\n",
      " 44%|████▎     | 80/183 [44:19<41:07, 23.95s/it]\u001b[A"
     ]
    },
    {
     "name": "stdout",
     "output_type": "stream",
     "text": [
      "[youtube] vxGRTmbBrqg: Downloading webpage\n",
      "[youtube] vxGRTmbBrqg: Downloading MPD manifest\n",
      "[dashsegments] Total fragments: 177\n",
      "[download] Destination: ../data/downloaded_audio/watch?v=vxGRTmbBrqg.m4a\n",
      "[download] 100% of 13.30MiB in 00:15.80MiB/s ETA 00:0000\n",
      "[ffmpeg] Correcting container in \"../data/downloaded_audio/watch?v=vxGRTmbBrqg.m4a\"\n",
      "[ffmpeg] Destination: ../data/downloaded_audio/watch?v=vxGRTmbBrqg.mp3\n",
      "Deleting original file ../data/downloaded_audio/watch?v=vxGRTmbBrqg.m4a (pass -k to keep)\n"
     ]
    },
    {
     "name": "stderr",
     "output_type": "stream",
     "text": [
      "\n",
      " 44%|████▍     | 81/183 [44:52<45:16, 26.64s/it]\u001b[A"
     ]
    },
    {
     "name": "stdout",
     "output_type": "stream",
     "text": [
      "[youtube] vmSPd0VIK6w: Downloading webpage\n",
      "[youtube] vmSPd0VIK6w: Downloading MPD manifest\n",
      "[dashsegments] Total fragments: 211\n",
      "[download] Destination: ../data/downloaded_audio/watch?v=vmSPd0VIK6w.m4a\n",
      "[download] 100% of 15.87MiB in 00:19.19MiB/s ETA 00:000116\n",
      "[ffmpeg] Correcting container in \"../data/downloaded_audio/watch?v=vmSPd0VIK6w.m4a\"\n",
      "[ffmpeg] Destination: ../data/downloaded_audio/watch?v=vmSPd0VIK6w.mp3\n",
      "Deleting original file ../data/downloaded_audio/watch?v=vmSPd0VIK6w.m4a (pass -k to keep)\n"
     ]
    },
    {
     "name": "stderr",
     "output_type": "stream",
     "text": [
      "\n",
      " 45%|████▍     | 82/183 [45:36<53:16, 31.65s/it]\u001b[A"
     ]
    },
    {
     "name": "stdout",
     "output_type": "stream",
     "text": [
      "[youtube] tq-DB9Ecn_s: Downloading webpage\n",
      "[download] Destination: ../data/downloaded_audio/watch?v=tq-DB9Ecn_s.m4a\n",
      "[download] 100% of 3.96MiB in 00:0014MiB/s ETA 00:007\n",
      "[ffmpeg] Correcting container in \"../data/downloaded_audio/watch?v=tq-DB9Ecn_s.m4a\"\n",
      "[ffmpeg] Destination: ../data/downloaded_audio/watch?v=tq-DB9Ecn_s.mp3\n",
      "Deleting original file ../data/downloaded_audio/watch?v=tq-DB9Ecn_s.m4a (pass -k to keep)\n"
     ]
    },
    {
     "name": "stderr",
     "output_type": "stream",
     "text": [
      "\n",
      " 45%|████▌     | 83/183 [45:42<39:52, 23.92s/it]\u001b[A"
     ]
    },
    {
     "name": "stdout",
     "output_type": "stream",
     "text": [
      "[youtube] ygAi4MidIhM: Downloading webpage\n",
      "[youtube] ygAi4MidIhM: Downloading MPD manifest\n",
      "[dashsegments] Total fragments: 24\n",
      "[download] Destination: ../data/downloaded_audio/watch?v=ygAi4MidIhM.webm\n",
      "[download] 100% of 2.58MiB in 00:01.47MiB/s ETA 00:00002\n",
      "[ffmpeg] Destination: ../data/downloaded_audio/watch?v=ygAi4MidIhM.mp3\n",
      "Deleting original file ../data/downloaded_audio/watch?v=ygAi4MidIhM.webm (pass -k to keep)\n"
     ]
    },
    {
     "name": "stderr",
     "output_type": "stream",
     "text": [
      "\n",
      " 46%|████▌     | 84/183 [45:50<31:44, 19.24s/it]\u001b[A"
     ]
    },
    {
     "name": "stdout",
     "output_type": "stream",
     "text": [
      "[youtube] hAvkumT_Vzw: Downloading webpage\n",
      "[youtube] hAvkumT_Vzw: Downloading MPD manifest\n",
      "[dashsegments] Total fragments: 74\n",
      "[download] Destination: ../data/downloaded_audio/watch?v=hAvkumT_Vzw.webm\n",
      "[download] 100% of 8.16MiB in 00:05.17MiB/s ETA 00:000008\n",
      "[ffmpeg] Destination: ../data/downloaded_audio/watch?v=hAvkumT_Vzw.mp3\n",
      "Deleting original file ../data/downloaded_audio/watch?v=hAvkumT_Vzw.webm (pass -k to keep)\n"
     ]
    },
    {
     "name": "stderr",
     "output_type": "stream",
     "text": [
      "\n",
      " 46%|████▋     | 85/183 [46:14<33:42, 20.64s/it]\u001b[A"
     ]
    },
    {
     "name": "stdout",
     "output_type": "stream",
     "text": [
      "[youtube] YfY58kxQi1U: Downloading webpage\n",
      "[youtube] YfY58kxQi1U: Downloading MPD manifest\n",
      "[dashsegments] Total fragments: 66\n",
      "[download] Destination: ../data/downloaded_audio/watch?v=YfY58kxQi1U.webm\n",
      "[download] 100% of 7.19MiB in 00:06.23MiB/s ETA 00:000016\n",
      "[ffmpeg] Destination: ../data/downloaded_audio/watch?v=YfY58kxQi1U.mp3\n",
      "Deleting original file ../data/downloaded_audio/watch?v=YfY58kxQi1U.webm (pass -k to keep)\n"
     ]
    },
    {
     "name": "stderr",
     "output_type": "stream",
     "text": [
      "\n",
      " 47%|████▋     | 86/183 [46:39<35:22, 21.88s/it]\u001b[A"
     ]
    },
    {
     "name": "stdout",
     "output_type": "stream",
     "text": [
      "[youtube] -RmT0MJ6_V4: Downloading webpage\n",
      "[youtube] -RmT0MJ6_V4: Downloading MPD manifest\n",
      "[dashsegments] Total fragments: 138\n",
      "[download] Destination: ../data/downloaded_audio/watch?v=-RmT0MJ6_V4.m4a\n",
      "[download] 100% of 10.33MiB in 00:11.87MiB/s ETA 00:00005\n",
      "[ffmpeg] Correcting container in \"../data/downloaded_audio/watch?v=-RmT0MJ6_V4.m4a\"\n",
      "[ffmpeg] Destination: ../data/downloaded_audio/watch?v=-RmT0MJ6_V4.mp3\n",
      "Deleting original file ../data/downloaded_audio/watch?v=-RmT0MJ6_V4.m4a (pass -k to keep)\n"
     ]
    },
    {
     "name": "stderr",
     "output_type": "stream",
     "text": [
      "\n",
      " 48%|████▊     | 87/183 [47:06<37:33, 23.48s/it]\u001b[A"
     ]
    },
    {
     "name": "stdout",
     "output_type": "stream",
     "text": [
      "[youtube] iOHVoAhiJcw: Downloading webpage\n",
      "[youtube] iOHVoAhiJcw: Downloading MPD manifest\n",
      "[dashsegments] Total fragments: 55\n",
      "[download] Destination: ../data/downloaded_audio/watch?v=iOHVoAhiJcw.m4a\n",
      "[download] 100% of 4.05MiB in 00:11.08MiB/s ETA 00:000132\n",
      "[ffmpeg] Correcting container in \"../data/downloaded_audio/watch?v=iOHVoAhiJcw.m4a\"\n",
      "[ffmpeg] Destination: ../data/downloaded_audio/watch?v=iOHVoAhiJcw.mp3\n",
      "Deleting original file ../data/downloaded_audio/watch?v=iOHVoAhiJcw.m4a (pass -k to keep)\n"
     ]
    },
    {
     "name": "stderr",
     "output_type": "stream",
     "text": [
      "\n",
      " 48%|████▊     | 88/183 [47:23<34:18, 21.66s/it]\u001b[A"
     ]
    },
    {
     "name": "stdout",
     "output_type": "stream",
     "text": [
      "[youtube] D1QKYLcvoU8: Downloading webpage\n",
      "[youtube] D1QKYLcvoU8: Downloading MPD manifest\n",
      "[dashsegments] Total fragments: 80\n",
      "[download] Destination: ../data/downloaded_audio/watch?v=D1QKYLcvoU8.webm\n",
      "[download] 100% of 9.24MiB in 00:11.91MiB/s ETA 00:000108\n",
      "[ffmpeg] Destination: ../data/downloaded_audio/watch?v=D1QKYLcvoU8.mp3\n",
      "Deleting original file ../data/downloaded_audio/watch?v=D1QKYLcvoU8.webm (pass -k to keep)\n"
     ]
    },
    {
     "name": "stderr",
     "output_type": "stream",
     "text": [
      "\n",
      " 49%|████▊     | 89/183 [47:55<38:47, 24.76s/it]\u001b[A"
     ]
    },
    {
     "name": "stdout",
     "output_type": "stream",
     "text": [
      "[youtube] m0bB-OtxvdU: Downloading webpage\n",
      "[youtube] m0bB-OtxvdU: Downloading MPD manifest\n",
      "[dashsegments] Total fragments: 65\n",
      "[download] Destination: ../data/downloaded_audio/watch?v=m0bB-OtxvdU.m4a\n",
      "[download] 100% of 4.79MiB in 00:05.51MiB/s ETA 00:000227\n",
      "[ffmpeg] Correcting container in \"../data/downloaded_audio/watch?v=m0bB-OtxvdU.m4a\"\n",
      "[ffmpeg] Destination: ../data/downloaded_audio/watch?v=m0bB-OtxvdU.mp3\n",
      "Deleting original file ../data/downloaded_audio/watch?v=m0bB-OtxvdU.m4a (pass -k to keep)\n"
     ]
    },
    {
     "name": "stderr",
     "output_type": "stream",
     "text": [
      "\n",
      " 49%|████▉     | 90/183 [48:08<32:35, 21.03s/it]\u001b[A"
     ]
    },
    {
     "name": "stdout",
     "output_type": "stream",
     "text": [
      "[youtube] 4vNIf0sbvLI: Downloading webpage\n",
      "[youtube] 4vNIf0sbvLI: Downloading MPD manifest\n",
      "[dashsegments] Total fragments: 80\n",
      "[download] Destination: ../data/downloaded_audio/watch?v=4vNIf0sbvLI.m4a\n",
      "[download] 100% of 5.94MiB in 00:155.91KiB/s ETA 00:00215\n",
      "[ffmpeg] Correcting container in \"../data/downloaded_audio/watch?v=4vNIf0sbvLI.m4a\"\n",
      "[ffmpeg] Destination: ../data/downloaded_audio/watch?v=4vNIf0sbvLI.mp3\n",
      "Deleting original file ../data/downloaded_audio/watch?v=4vNIf0sbvLI.m4a (pass -k to keep)\n"
     ]
    },
    {
     "name": "stderr",
     "output_type": "stream",
     "text": [
      "\n",
      " 50%|████▉     | 91/183 [48:33<34:12, 22.31s/it]\u001b[A"
     ]
    },
    {
     "name": "stdout",
     "output_type": "stream",
     "text": [
      "[youtube] 2uQrkENebpI: Downloading webpage\n",
      "[youtube] 2uQrkENebpI: Downloading MPD manifest\n",
      "[dashsegments] Total fragments: 459\n",
      "[download] Destination: ../data/downloaded_audio/watch?v=2uQrkENebpI.webm\n",
      "[download] 100% of 51.81MiB in 01:31.63MiB/s ETA 00:000554\n",
      "[ffmpeg] Destination: ../data/downloaded_audio/watch?v=2uQrkENebpI.mp3\n",
      "Deleting original file ../data/downloaded_audio/watch?v=2uQrkENebpI.webm (pass -k to keep)\n"
     ]
    },
    {
     "name": "stderr",
     "output_type": "stream",
     "text": [
      "\n",
      " 50%|█████     | 92/183 [52:16<2:05:05, 82.48s/it]\u001b[A"
     ]
    },
    {
     "name": "stdout",
     "output_type": "stream",
     "text": [
      "[youtube] dr2OcD1M2yg: Downloading webpage\n",
      "[download] Destination: ../data/downloaded_audio/watch?v=dr2OcD1M2yg.m4a\n",
      "[download] 100% of 8.54MiB in 00:0056MiB/s ETA 00:004\n",
      "[ffmpeg] Correcting container in \"../data/downloaded_audio/watch?v=dr2OcD1M2yg.m4a\"\n",
      "[ffmpeg] Destination: ../data/downloaded_audio/watch?v=dr2OcD1M2yg.mp3\n",
      "Deleting original file ../data/downloaded_audio/watch?v=dr2OcD1M2yg.m4a (pass -k to keep)\n"
     ]
    },
    {
     "name": "stderr",
     "output_type": "stream",
     "text": [
      "\n",
      " 51%|█████     | 93/183 [52:39<1:37:15, 64.84s/it]\u001b[A"
     ]
    },
    {
     "name": "stdout",
     "output_type": "stream",
     "text": [
      "[youtube] gL93G4IBWZQ: Downloading webpage\n",
      "[youtube] gL93G4IBWZQ: Downloading MPD manifest\n",
      "[dashsegments] Total fragments: 34\n",
      "[download] Destination: ../data/downloaded_audio/watch?v=gL93G4IBWZQ.webm\n",
      "[download] 100% of 3.56MiB in 00:042.49KiB/s ETA 00:0007\n",
      "[ffmpeg] Destination: ../data/downloaded_audio/watch?v=gL93G4IBWZQ.mp3\n",
      "Deleting original file ../data/downloaded_audio/watch?v=gL93G4IBWZQ.webm (pass -k to keep)\n"
     ]
    },
    {
     "name": "stderr",
     "output_type": "stream",
     "text": [
      "\n",
      " 51%|█████▏    | 94/183 [52:55<1:14:05, 49.95s/it]\u001b[A"
     ]
    },
    {
     "name": "stdout",
     "output_type": "stream",
     "text": [
      "[youtube] DRiBGBB3kz0: Downloading webpage\n",
      "[download] Destination: ../data/downloaded_audio/watch?v=DRiBGBB3kz0.webm\n",
      "[download] 100% of 7.44MiB in 00:0010MiB/s ETA 00:009\n",
      "[ffmpeg] Destination: ../data/downloaded_audio/watch?v=DRiBGBB3kz0.mp3\n",
      "Deleting original file ../data/downloaded_audio/watch?v=DRiBGBB3kz0.webm (pass -k to keep)\n"
     ]
    },
    {
     "name": "stderr",
     "output_type": "stream",
     "text": [
      "\n",
      " 52%|█████▏    | 95/183 [53:27<1:05:31, 44.68s/it]\u001b[A"
     ]
    },
    {
     "name": "stdout",
     "output_type": "stream",
     "text": [
      "[youtube] pvTGgLtVDNU: Downloading webpage\n",
      "[download] Destination: ../data/downloaded_audio/watch?v=pvTGgLtVDNU.m4a\n",
      "[download] 100% of 6.77MiB in 00:0029MiB/s ETA 00:007\n",
      "[ffmpeg] Correcting container in \"../data/downloaded_audio/watch?v=pvTGgLtVDNU.m4a\"\n",
      "[ffmpeg] Destination: ../data/downloaded_audio/watch?v=pvTGgLtVDNU.mp3\n",
      "Deleting original file ../data/downloaded_audio/watch?v=pvTGgLtVDNU.m4a (pass -k to keep)\n"
     ]
    },
    {
     "name": "stderr",
     "output_type": "stream",
     "text": [
      "\n",
      " 52%|█████▏    | 96/183 [53:47<54:05, 37.31s/it]  \u001b[A"
     ]
    },
    {
     "name": "stdout",
     "output_type": "stream",
     "text": [
      "[youtube] 5NaGm0R7gLA: Downloading webpage\n",
      "[youtube] 5NaGm0R7gLA: Downloading MPD manifest\n",
      "[dashsegments] Total fragments: 48\n",
      "[download] Destination: ../data/downloaded_audio/watch?v=5NaGm0R7gLA.webm\n",
      "[download] 100% of 5.67MiB in 00:11.17MiB/s ETA 00:000:14\n",
      "[ffmpeg] Destination: ../data/downloaded_audio/watch?v=5NaGm0R7gLA.mp3\n",
      "Deleting original file ../data/downloaded_audio/watch?v=5NaGm0R7gLA.webm (pass -k to keep)\n"
     ]
    },
    {
     "name": "stderr",
     "output_type": "stream",
     "text": [
      "\n",
      " 53%|█████▎    | 97/183 [54:13<48:45, 34.02s/it]\u001b[A"
     ]
    },
    {
     "name": "stdout",
     "output_type": "stream",
     "text": [
      "[youtube] 20ZEaHYs2Gc: Downloading webpage\n",
      "[download] Destination: ../data/downloaded_audio/watch?v=20ZEaHYs2Gc.m4a\n",
      "[download] 100% of 4.72MiB in 00:0063MiB/s ETA 00:005\n",
      "[ffmpeg] Correcting container in \"../data/downloaded_audio/watch?v=20ZEaHYs2Gc.m4a\"\n",
      "[ffmpeg] Destination: ../data/downloaded_audio/watch?v=20ZEaHYs2Gc.mp3\n",
      "Deleting original file ../data/downloaded_audio/watch?v=20ZEaHYs2Gc.m4a (pass -k to keep)\n"
     ]
    },
    {
     "name": "stderr",
     "output_type": "stream",
     "text": [
      "\n",
      " 54%|█████▎    | 98/183 [54:22<37:10, 26.24s/it]\u001b[A"
     ]
    },
    {
     "name": "stdout",
     "output_type": "stream",
     "text": [
      "[youtube] pGxc8pyhV2Q: Downloading webpage\n",
      "[download] Destination: ../data/downloaded_audio/watch?v=pGxc8pyhV2Q.m4a\n",
      "[download] 100% of 11.98MiB in 00:0049MiB/s ETA 00:002nown ETA\n",
      "[ffmpeg] Correcting container in \"../data/downloaded_audio/watch?v=pGxc8pyhV2Q.m4a\"\n",
      "[ffmpeg] Destination: ../data/downloaded_audio/watch?v=pGxc8pyhV2Q.mp3\n",
      "Deleting original file ../data/downloaded_audio/watch?v=pGxc8pyhV2Q.m4a (pass -k to keep)\n"
     ]
    },
    {
     "name": "stderr",
     "output_type": "stream",
     "text": [
      "\n",
      " 54%|█████▍    | 99/183 [54:45<35:21, 25.25s/it]\u001b[A"
     ]
    },
    {
     "name": "stdout",
     "output_type": "stream",
     "text": [
      "[youtube] BnnyyXCl19M: Downloading webpage\n",
      "[youtube] BnnyyXCl19M: Downloading MPD manifest\n",
      "[dashsegments] Total fragments: 62\n",
      "[download] Destination: ../data/downloaded_audio/watch?v=BnnyyXCl19M.m4a\n",
      "[download] 100% of 4.62MiB in 00:05.23MiB/s ETA 00:000005\n",
      "[ffmpeg] Correcting container in \"../data/downloaded_audio/watch?v=BnnyyXCl19M.m4a\"\n",
      "[ffmpeg] Destination: ../data/downloaded_audio/watch?v=BnnyyXCl19M.mp3\n",
      "Deleting original file ../data/downloaded_audio/watch?v=BnnyyXCl19M.m4a (pass -k to keep)\n"
     ]
    },
    {
     "name": "stderr",
     "output_type": "stream",
     "text": [
      "\n",
      " 55%|█████▍    | 100/183 [54:59<30:28, 22.02s/it]\u001b[A"
     ]
    },
    {
     "name": "stdout",
     "output_type": "stream",
     "text": [
      "[youtube] yss0L517rpY: Downloading webpage\n",
      "[download] Destination: ../data/downloaded_audio/watch?v=yss0L517rpY.webm\n",
      "[download] 100% of 7.76MiB in 00:0027MiB/s ETA 00:002\n",
      "[ffmpeg] Destination: ../data/downloaded_audio/watch?v=yss0L517rpY.mp3\n",
      "Deleting original file ../data/downloaded_audio/watch?v=yss0L517rpY.webm (pass -k to keep)\n"
     ]
    },
    {
     "name": "stderr",
     "output_type": "stream",
     "text": [
      "\n",
      " 55%|█████▌    | 101/183 [55:23<30:49, 22.55s/it]\u001b[A"
     ]
    },
    {
     "name": "stdout",
     "output_type": "stream",
     "text": [
      "[youtube] 8ggpUJmOGZ0: Downloading webpage\n",
      "[youtube] 8ggpUJmOGZ0: Downloading MPD manifest\n",
      "[dashsegments] Total fragments: 140\n",
      "[download] Destination: ../data/downloaded_audio/watch?v=8ggpUJmOGZ0.m4a\n",
      "[download] 100% of 21.30MiB in 00:45.10MiB/s ETA 00:000018\n",
      "[ffmpeg] Correcting container in \"../data/downloaded_audio/watch?v=8ggpUJmOGZ0.m4a\"\n",
      "[ffmpeg] Destination: ../data/downloaded_audio/watch?v=8ggpUJmOGZ0.mp3\n",
      "Deleting original file ../data/downloaded_audio/watch?v=8ggpUJmOGZ0.m4a (pass -k to keep)\n"
     ]
    },
    {
     "name": "stderr",
     "output_type": "stream",
     "text": [
      "\n",
      " 56%|█████▌    | 102/183 [56:34<50:15, 37.23s/it]\u001b[A"
     ]
    },
    {
     "name": "stdout",
     "output_type": "stream",
     "text": [
      "[youtube] XUuWWoQTlww: Downloading webpage\n",
      "[download] Destination: ../data/downloaded_audio/watch?v=XUuWWoQTlww.webm\n",
      "[download] 100% of 12.19MiB in 00:0007MiB/s ETA 00:00known ETA\n",
      "[ffmpeg] Destination: ../data/downloaded_audio/watch?v=XUuWWoQTlww.mp3\n",
      "Deleting original file ../data/downloaded_audio/watch?v=XUuWWoQTlww.webm (pass -k to keep)\n"
     ]
    },
    {
     "name": "stderr",
     "output_type": "stream",
     "text": [
      "\n",
      " 56%|█████▋    | 103/183 [57:03<46:07, 34.59s/it]\u001b[A"
     ]
    },
    {
     "name": "stdout",
     "output_type": "stream",
     "text": [
      "[youtube] tBd5VGCKnjA: Downloading webpage\n",
      "[download] Destination: ../data/downloaded_audio/watch?v=tBd5VGCKnjA.webm\n",
      "[download] 100% of 17.04MiB in 00:0047MiB/s ETA 00:005\n",
      "[ffmpeg] Destination: ../data/downloaded_audio/watch?v=tBd5VGCKnjA.mp3\n",
      "Deleting original file ../data/downloaded_audio/watch?v=tBd5VGCKnjA.webm (pass -k to keep)\n"
     ]
    },
    {
     "name": "stderr",
     "output_type": "stream",
     "text": [
      "\n",
      " 57%|█████▋    | 104/183 [57:48<49:52, 37.88s/it]\u001b[A"
     ]
    },
    {
     "name": "stdout",
     "output_type": "stream",
     "text": [
      "[youtube] CK3MRlZLNn0: Downloading webpage\n",
      "[youtube] CK3MRlZLNn0: Downloading MPD manifest\n",
      "[dashsegments] Total fragments: 114\n",
      "[download] Destination: ../data/downloaded_audio/watch?v=CK3MRlZLNn0.m4a\n",
      "[download] 100% of 6.39MiB in 00:47.11MiB/s ETA 00:000553\n",
      "[ffmpeg] Correcting container in \"../data/downloaded_audio/watch?v=CK3MRlZLNn0.m4a\"\n",
      "[ffmpeg] Destination: ../data/downloaded_audio/watch?v=CK3MRlZLNn0.mp3\n",
      "Deleting original file ../data/downloaded_audio/watch?v=CK3MRlZLNn0.m4a (pass -k to keep)\n"
     ]
    },
    {
     "name": "stderr",
     "output_type": "stream",
     "text": [
      "\n",
      " 57%|█████▋    | 105/183 [58:43<55:55, 43.02s/it]\u001b[A"
     ]
    },
    {
     "name": "stdout",
     "output_type": "stream",
     "text": [
      "[youtube] vIkyD5SV4rI: Downloading webpage\n",
      "[youtube] vIkyD5SV4rI: Downloading MPD manifest\n",
      "[dashsegments] Total fragments: 118\n",
      "[download] Destination: ../data/downloaded_audio/watch?v=vIkyD5SV4rI.m4a\n",
      "[download] 100% of 17.63MiB in 00:42.32MiB/s ETA 00:00001\n",
      "[ffmpeg] Correcting container in \"../data/downloaded_audio/watch?v=vIkyD5SV4rI.m4a\"\n",
      "[ffmpeg] Destination: ../data/downloaded_audio/watch?v=vIkyD5SV4rI.mp3\n",
      "Deleting original file ../data/downloaded_audio/watch?v=vIkyD5SV4rI.m4a (pass -k to keep)\n"
     ]
    },
    {
     "name": "stderr",
     "output_type": "stream",
     "text": [
      "\n",
      " 58%|█████▊    | 106/183 [59:52<1:05:03, 50.70s/it]\u001b[A"
     ]
    },
    {
     "name": "stdout",
     "output_type": "stream",
     "text": [
      "[youtube] qxHYVMODCEU: Downloading webpage\n",
      "[youtube] qxHYVMODCEU: Downloading MPD manifest\n",
      "[dashsegments] Total fragments: 199\n",
      "[download] Destination: ../data/downloaded_audio/watch?v=qxHYVMODCEU.m4a\n",
      "[download] 100% of 11.21MiB in 01:18.23MiB/s ETA 00:000201\n",
      "[ffmpeg] Correcting container in \"../data/downloaded_audio/watch?v=qxHYVMODCEU.m4a\"\n",
      "[ffmpeg] Destination: ../data/downloaded_audio/watch?v=qxHYVMODCEU.mp3\n",
      "Deleting original file ../data/downloaded_audio/watch?v=qxHYVMODCEU.m4a (pass -k to keep)\n"
     ]
    },
    {
     "name": "stderr",
     "output_type": "stream",
     "text": [
      "\n",
      " 58%|█████▊    | 107/183 [1:01:24<1:20:07, 63.26s/it]\u001b[A"
     ]
    },
    {
     "name": "stdout",
     "output_type": "stream",
     "text": [
      "[youtube] dOcvLQ_H3MI: Downloading webpage\n",
      "[download] Destination: ../data/downloaded_audio/watch?v=dOcvLQ_H3MI.webm\n",
      "[download] 100% of 17.98MiB in 00:0158MiB/s ETA 00:008\n",
      "[ffmpeg] Destination: ../data/downloaded_audio/watch?v=dOcvLQ_H3MI.mp3\n",
      "Deleting original file ../data/downloaded_audio/watch?v=dOcvLQ_H3MI.webm (pass -k to keep)\n"
     ]
    },
    {
     "name": "stderr",
     "output_type": "stream",
     "text": [
      "\n",
      " 59%|█████▉    | 108/183 [1:01:50<1:04:46, 51.82s/it]\u001b[A"
     ]
    },
    {
     "name": "stdout",
     "output_type": "stream",
     "text": [
      "[youtube] Pb1b2D26QsQ: Downloading webpage\n",
      "[download] Destination: ../data/downloaded_audio/watch?v=Pb1b2D26QsQ.m4a\n",
      "[download] 100% of 19.35MiB in 00:0112MiB/s ETA 00:001\n",
      "[ffmpeg] Correcting container in \"../data/downloaded_audio/watch?v=Pb1b2D26QsQ.m4a\"\n",
      "[ffmpeg] Destination: ../data/downloaded_audio/watch?v=Pb1b2D26QsQ.mp3\n",
      "Deleting original file ../data/downloaded_audio/watch?v=Pb1b2D26QsQ.m4a (pass -k to keep)\n"
     ]
    },
    {
     "name": "stderr",
     "output_type": "stream",
     "text": [
      "\n",
      " 60%|█████▉    | 109/183 [1:02:24<57:36, 46.71s/it]  \u001b[A"
     ]
    },
    {
     "name": "stdout",
     "output_type": "stream",
     "text": [
      "[youtube] yjYXnf6OTyM: Downloading webpage\n",
      "[youtube] yjYXnf6OTyM: Downloading MPD manifest\n",
      "[dashsegments] Total fragments: 375\n",
      "[download] Destination: ../data/downloaded_audio/watch?v=yjYXnf6OTyM.m4a\n",
      "[download] 100% of 28.33MiB in 01:13.39MiB/s ETA 00:000301\n",
      "[ffmpeg] Correcting container in \"../data/downloaded_audio/watch?v=yjYXnf6OTyM.m4a\"\n",
      "[ffmpeg] Destination: ../data/downloaded_audio/watch?v=yjYXnf6OTyM.mp3\n",
      "Deleting original file ../data/downloaded_audio/watch?v=yjYXnf6OTyM.m4a (pass -k to keep)\n"
     ]
    },
    {
     "name": "stderr",
     "output_type": "stream",
     "text": [
      "\n",
      " 60%|██████    | 110/183 [1:04:10<1:18:17, 64.34s/it]\u001b[A"
     ]
    },
    {
     "name": "stdout",
     "output_type": "stream",
     "text": [
      "[youtube] lz-1Jrma98Y: Downloading webpage\n",
      "[download] Destination: ../data/downloaded_audio/watch?v=lz-1Jrma98Y.webm\n",
      "[download] 100% of 1.81MiB in 00:0084MiB/s ETA 00:001\n",
      "[ffmpeg] Destination: ../data/downloaded_audio/watch?v=lz-1Jrma98Y.mp3\n",
      "Deleting original file ../data/downloaded_audio/watch?v=lz-1Jrma98Y.webm (pass -k to keep)\n"
     ]
    },
    {
     "name": "stderr",
     "output_type": "stream",
     "text": [
      "\n",
      " 61%|██████    | 111/183 [1:04:14<55:24, 46.18s/it]  \u001b[A"
     ]
    },
    {
     "name": "stdout",
     "output_type": "stream",
     "text": [
      "[youtube] tPiEd3UmoQ0: Downloading webpage\n",
      "[download] Destination: ../data/downloaded_audio/watch?v=tPiEd3UmoQ0.webm\n",
      "[download] 100% of 1.92MiB in 00:0004MiB/s ETA 00:0001\n",
      "[ffmpeg] Destination: ../data/downloaded_audio/watch?v=tPiEd3UmoQ0.mp3\n",
      "Deleting original file ../data/downloaded_audio/watch?v=tPiEd3UmoQ0.webm (pass -k to keep)\n"
     ]
    },
    {
     "name": "stderr",
     "output_type": "stream",
     "text": [
      "\n",
      " 61%|██████    | 112/183 [1:04:17<39:36, 33.47s/it]\u001b[A"
     ]
    },
    {
     "name": "stdout",
     "output_type": "stream",
     "text": [
      "[youtube] IL4tUxv9Cvc: Downloading webpage\n",
      "[download] Destination: ../data/downloaded_audio/watch?v=IL4tUxv9Cvc.m4a\n",
      "[download] 100% of 10.35MiB in 00:0015MiB/s ETA 00:000\n",
      "[ffmpeg] Correcting container in \"../data/downloaded_audio/watch?v=IL4tUxv9Cvc.m4a\"\n",
      "[ffmpeg] Destination: ../data/downloaded_audio/watch?v=IL4tUxv9Cvc.mp3\n",
      "Deleting original file ../data/downloaded_audio/watch?v=IL4tUxv9Cvc.m4a (pass -k to keep)\n"
     ]
    },
    {
     "name": "stderr",
     "output_type": "stream",
     "text": [
      "\n",
      " 62%|██████▏   | 113/183 [1:04:29<31:25, 26.94s/it]\u001b[A"
     ]
    },
    {
     "name": "stdout",
     "output_type": "stream",
     "text": [
      "[youtube] I2Zv4Wn6qec: Downloading webpage\n",
      "[download] Destination: ../data/downloaded_audio/watch?v=I2Zv4Wn6qec.webm\n",
      "[download] 100% of 2.33MiB in 00:0014MiB/s ETA 00:002\n",
      "[ffmpeg] Destination: ../data/downloaded_audio/watch?v=I2Zv4Wn6qec.mp3\n",
      "Deleting original file ../data/downloaded_audio/watch?v=I2Zv4Wn6qec.webm (pass -k to keep)\n"
     ]
    },
    {
     "name": "stderr",
     "output_type": "stream",
     "text": [
      "\n",
      " 62%|██████▏   | 114/183 [1:04:34<23:16, 20.24s/it]\u001b[A"
     ]
    },
    {
     "name": "stdout",
     "output_type": "stream",
     "text": [
      "[youtube] 55eA006twRA: Downloading webpage\n",
      "[download] Destination: ../data/downloaded_audio/watch?v=55eA006twRA.webm\n",
      "[download] 100% of 1.49MiB in 00:0034MiB/s ETA 00:002\n",
      "[ffmpeg] Destination: ../data/downloaded_audio/watch?v=55eA006twRA.mp3\n",
      "Deleting original file ../data/downloaded_audio/watch?v=55eA006twRA.webm (pass -k to keep)\n"
     ]
    },
    {
     "name": "stderr",
     "output_type": "stream",
     "text": [
      "\n",
      " 63%|██████▎   | 115/183 [1:04:38<17:21, 15.31s/it]\u001b[A"
     ]
    },
    {
     "name": "stdout",
     "output_type": "stream",
     "text": [
      "[youtube] wm6aqWjh2aQ: Downloading webpage\n",
      "[download] Destination: ../data/downloaded_audio/watch?v=wm6aqWjh2aQ.webm\n",
      "[download] 100% of 2.18MiB in 00:0097MiB/s ETA 00:002\n",
      "[ffmpeg] Destination: ../data/downloaded_audio/watch?v=wm6aqWjh2aQ.mp3\n",
      "Deleting original file ../data/downloaded_audio/watch?v=wm6aqWjh2aQ.webm (pass -k to keep)\n"
     ]
    },
    {
     "name": "stderr",
     "output_type": "stream",
     "text": [
      "\n",
      " 63%|██████▎   | 116/183 [1:04:42<13:20, 11.94s/it]\u001b[A"
     ]
    },
    {
     "name": "stdout",
     "output_type": "stream",
     "text": [
      "[youtube] Qa_qH0DiAh4: Downloading webpage\n",
      "[download] Destination: ../data/downloaded_audio/watch?v=Qa_qH0DiAh4.m4a\n",
      "[download] 100% of 19.55MiB in 00:0151MiB/s ETA 00:00known ETA\n",
      "[ffmpeg] Correcting container in \"../data/downloaded_audio/watch?v=Qa_qH0DiAh4.m4a\"\n",
      "[ffmpeg] Destination: ../data/downloaded_audio/watch?v=Qa_qH0DiAh4.mp3\n",
      "Deleting original file ../data/downloaded_audio/watch?v=Qa_qH0DiAh4.m4a (pass -k to keep)\n"
     ]
    },
    {
     "name": "stderr",
     "output_type": "stream",
     "text": [
      "\n",
      " 64%|██████▍   | 117/183 [1:05:04<16:43, 15.20s/it]\u001b[A"
     ]
    },
    {
     "name": "stdout",
     "output_type": "stream",
     "text": [
      "[youtube] Bj1KRDVfjGY: Downloading webpage\n",
      "[download] Destination: ../data/downloaded_audio/watch?v=Bj1KRDVfjGY.webm\n",
      "[download] 100% of 7.20MiB in 00:0061MiB/s ETA 00:008\n",
      "[ffmpeg] Destination: ../data/downloaded_audio/watch?v=Bj1KRDVfjGY.mp3\n",
      "Deleting original file ../data/downloaded_audio/watch?v=Bj1KRDVfjGY.webm (pass -k to keep)\n"
     ]
    },
    {
     "name": "stderr",
     "output_type": "stream",
     "text": [
      "\n",
      " 64%|██████▍   | 118/183 [1:05:21<16:50, 15.55s/it]\u001b[A"
     ]
    },
    {
     "name": "stdout",
     "output_type": "stream",
     "text": [
      "[youtube] CCdb-WW2TIA: Downloading webpage\n",
      "[download] Destination: ../data/downloaded_audio/watch?v=CCdb-WW2TIA.m4a\n",
      "[download] 100% of 16.62MiB in 00:0012MiB/s ETA 00:00known ETA\n",
      "[ffmpeg] Correcting container in \"../data/downloaded_audio/watch?v=CCdb-WW2TIA.m4a\"\n",
      "[ffmpeg] Destination: ../data/downloaded_audio/watch?v=CCdb-WW2TIA.mp3\n",
      "Deleting original file ../data/downloaded_audio/watch?v=CCdb-WW2TIA.m4a (pass -k to keep)\n"
     ]
    },
    {
     "name": "stderr",
     "output_type": "stream",
     "text": [
      "\n",
      " 65%|██████▌   | 119/183 [1:05:40<17:40, 16.56s/it]\u001b[A"
     ]
    },
    {
     "name": "stdout",
     "output_type": "stream",
     "text": [
      "[youtube] RgClih-JLMg: Downloading webpage\n",
      "[download] Destination: ../data/downloaded_audio/watch?v=RgClih-JLMg.m4a\n",
      "[download] 100% of 2.89MiB in 00:0078MiB/s ETA 00:003\n",
      "[ffmpeg] Correcting container in \"../data/downloaded_audio/watch?v=RgClih-JLMg.m4a\"\n",
      "[ffmpeg] Destination: ../data/downloaded_audio/watch?v=RgClih-JLMg.mp3\n",
      "Deleting original file ../data/downloaded_audio/watch?v=RgClih-JLMg.m4a (pass -k to keep)\n"
     ]
    },
    {
     "name": "stderr",
     "output_type": "stream",
     "text": [
      "\n",
      " 66%|██████▌   | 120/183 [1:05:44<13:34, 12.92s/it]\u001b[A"
     ]
    },
    {
     "name": "stdout",
     "output_type": "stream",
     "text": [
      "[youtube] Xl9K_9sVGHM: Downloading webpage\n",
      "[youtube] Xl9K_9sVGHM: Downloading MPD manifest\n",
      "[dashsegments] Total fragments: 176\n",
      "[download] Destination: ../data/downloaded_audio/watch?v=Xl9K_9sVGHM.m4a\n",
      "[download] 100% of 26.87MiB in 00:36.31MiB/s ETA 00:000146\n",
      "[ffmpeg] Correcting container in \"../data/downloaded_audio/watch?v=Xl9K_9sVGHM.m4a\"\n",
      "[ffmpeg] Destination: ../data/downloaded_audio/watch?v=Xl9K_9sVGHM.mp3\n",
      "Deleting original file ../data/downloaded_audio/watch?v=Xl9K_9sVGHM.m4a (pass -k to keep)\n"
     ]
    },
    {
     "name": "stderr",
     "output_type": "stream",
     "text": [
      "\n",
      " 66%|██████▌   | 121/183 [1:06:50<29:49, 28.86s/it]\u001b[A"
     ]
    },
    {
     "name": "stdout",
     "output_type": "stream",
     "text": [
      "[youtube] aqH93erFkdI: Downloading webpage\n",
      "[youtube] aqH93erFkdI: Downloading MPD manifest\n",
      "[dashsegments] Total fragments: 143\n",
      "[download] Destination: ../data/downloaded_audio/watch?v=aqH93erFkdI.m4a\n",
      "[download] 100% of 10.72MiB in 00:26.09MiB/s ETA 00:00036\n",
      "[ffmpeg] Correcting container in \"../data/downloaded_audio/watch?v=aqH93erFkdI.m4a\"\n",
      "[ffmpeg] Destination: ../data/downloaded_audio/watch?v=aqH93erFkdI.mp3\n",
      "Deleting original file ../data/downloaded_audio/watch?v=aqH93erFkdI.m4a (pass -k to keep)\n"
     ]
    },
    {
     "name": "stderr",
     "output_type": "stream",
     "text": [
      "\n",
      " 67%|██████▋   | 122/183 [1:07:39<35:28, 34.89s/it]\u001b[A"
     ]
    },
    {
     "name": "stdout",
     "output_type": "stream",
     "text": [
      "[youtube] fFq8KnuVkRg: Downloading webpage\n",
      "[download] Destination: ../data/downloaded_audio/watch?v=fFq8KnuVkRg.m4a\n",
      "[download] 100% of 22.60MiB in 00:0131MiB/s ETA 00:00known ETA\n",
      "[ffmpeg] Correcting container in \"../data/downloaded_audio/watch?v=fFq8KnuVkRg.m4a\"\n",
      "[ffmpeg] Destination: ../data/downloaded_audio/watch?v=fFq8KnuVkRg.mp3\n",
      "Deleting original file ../data/downloaded_audio/watch?v=fFq8KnuVkRg.m4a (pass -k to keep)\n"
     ]
    },
    {
     "name": "stderr",
     "output_type": "stream",
     "text": [
      "\n",
      " 67%|██████▋   | 123/183 [1:08:15<35:16, 35.27s/it]\u001b[A"
     ]
    },
    {
     "name": "stdout",
     "output_type": "stream",
     "text": [
      "[youtube] nXJpZNQuSTk: Downloading webpage\n",
      "[download] Destination: ../data/downloaded_audio/watch?v=nXJpZNQuSTk.m4a\n",
      "[download] 100% of 6.41MiB in 00:0073MiB/s ETA 00:008\n",
      "[ffmpeg] Correcting container in \"../data/downloaded_audio/watch?v=nXJpZNQuSTk.m4a\"\n",
      "[ffmpeg] Destination: ../data/downloaded_audio/watch?v=nXJpZNQuSTk.mp3\n",
      "Deleting original file ../data/downloaded_audio/watch?v=nXJpZNQuSTk.m4a (pass -k to keep)\n"
     ]
    },
    {
     "name": "stderr",
     "output_type": "stream",
     "text": [
      "\n",
      " 68%|██████▊   | 124/183 [1:08:27<27:47, 28.26s/it]\u001b[A"
     ]
    },
    {
     "name": "stdout",
     "output_type": "stream",
     "text": [
      "[youtube] nFwAiO22g4Y: Downloading webpage\n",
      "[download] Destination: ../data/downloaded_audio/watch?v=nFwAiO22g4Y.webm\n",
      "[download] 100% of 21.36MiB in 00:0148MiB/s ETA 00:002\n",
      "[ffmpeg] Destination: ../data/downloaded_audio/watch?v=nFwAiO22g4Y.mp3\n",
      "Deleting original file ../data/downloaded_audio/watch?v=nFwAiO22g4Y.webm (pass -k to keep)\n"
     ]
    },
    {
     "name": "stderr",
     "output_type": "stream",
     "text": [
      "\n",
      " 68%|██████▊   | 125/183 [1:08:56<27:26, 28.38s/it]\u001b[A"
     ]
    },
    {
     "name": "stdout",
     "output_type": "stream",
     "text": [
      "[youtube] _gPcDRVALVo: Downloading webpage\n",
      "[download] Destination: ../data/downloaded_audio/watch?v=_gPcDRVALVo.m4a\n",
      "[download] 100% of 18.31MiB in 00:0141MiB/s ETA 00:00known ETA\n",
      "[ffmpeg] Correcting container in \"../data/downloaded_audio/watch?v=_gPcDRVALVo.m4a\"\n",
      "[ffmpeg] Destination: ../data/downloaded_audio/watch?v=_gPcDRVALVo.mp3\n",
      "Deleting original file ../data/downloaded_audio/watch?v=_gPcDRVALVo.m4a (pass -k to keep)\n"
     ]
    },
    {
     "name": "stderr",
     "output_type": "stream",
     "text": [
      "\n",
      " 69%|██████▉   | 126/183 [1:09:24<26:58, 28.40s/it]\u001b[A"
     ]
    },
    {
     "name": "stdout",
     "output_type": "stream",
     "text": [
      "[youtube] x0Iky4NWN2U: Downloading webpage\n",
      "[download] Destination: ../data/downloaded_audio/watch?v=x0Iky4NWN2U.m4a\n",
      "[download] 100% of 2.07MiB in 00:0009MiB/s ETA 00:0002\n",
      "[ffmpeg] Correcting container in \"../data/downloaded_audio/watch?v=x0Iky4NWN2U.m4a\"\n",
      "[ffmpeg] Destination: ../data/downloaded_audio/watch?v=x0Iky4NWN2U.mp3\n",
      "Deleting original file ../data/downloaded_audio/watch?v=x0Iky4NWN2U.m4a (pass -k to keep)\n"
     ]
    },
    {
     "name": "stderr",
     "output_type": "stream",
     "text": [
      "\n",
      " 69%|██████▉   | 127/183 [1:09:28<19:33, 20.95s/it]\u001b[A"
     ]
    },
    {
     "name": "stdout",
     "output_type": "stream",
     "text": [
      "[youtube] uriVBFB1oOI: Downloading webpage\n",
      "[download] Destination: ../data/downloaded_audio/watch?v=uriVBFB1oOI.webm\n",
      "[download] 100% of 1.74MiB in 00:0030MiB/s ETA 00:002\n",
      "[ffmpeg] Destination: ../data/downloaded_audio/watch?v=uriVBFB1oOI.mp3\n",
      "Deleting original file ../data/downloaded_audio/watch?v=uriVBFB1oOI.webm (pass -k to keep)\n"
     ]
    },
    {
     "name": "stderr",
     "output_type": "stream",
     "text": [
      "\n",
      " 70%|██████▉   | 128/183 [1:09:32<14:33, 15.88s/it]\u001b[A"
     ]
    },
    {
     "name": "stdout",
     "output_type": "stream",
     "text": [
      "[youtube] ofnnuwscA1Y: Downloading webpage\n",
      "[download] Destination: ../data/downloaded_audio/watch?v=ofnnuwscA1Y.m4a\n",
      "[download] 100% of 19.02MiB in 00:0157MiB/s ETA 00:0009\n",
      "[ffmpeg] Correcting container in \"../data/downloaded_audio/watch?v=ofnnuwscA1Y.m4a\"\n",
      "[ffmpeg] Destination: ../data/downloaded_audio/watch?v=ofnnuwscA1Y.mp3\n",
      "Deleting original file ../data/downloaded_audio/watch?v=ofnnuwscA1Y.m4a (pass -k to keep)\n"
     ]
    },
    {
     "name": "stderr",
     "output_type": "stream",
     "text": [
      "\n",
      " 70%|███████   | 129/183 [1:10:06<19:06, 21.22s/it]\u001b[A"
     ]
    },
    {
     "name": "stdout",
     "output_type": "stream",
     "text": [
      "[youtube] kuhImFdGW_w: Downloading webpage\n",
      "[download] Destination: ../data/downloaded_audio/watch?v=kuhImFdGW_w.m4a\n",
      "[download] 100% of 11.36MiB in 00:0025MiB/s ETA 00:00known ETA\n",
      "[ffmpeg] Correcting container in \"../data/downloaded_audio/watch?v=kuhImFdGW_w.m4a\"\n",
      "[ffmpeg] Destination: ../data/downloaded_audio/watch?v=kuhImFdGW_w.mp3\n",
      "Deleting original file ../data/downloaded_audio/watch?v=kuhImFdGW_w.m4a (pass -k to keep)\n"
     ]
    },
    {
     "name": "stderr",
     "output_type": "stream",
     "text": [
      "\n",
      " 71%|███████   | 130/183 [1:10:20<16:50, 19.07s/it]\u001b[A"
     ]
    },
    {
     "name": "stdout",
     "output_type": "stream",
     "text": [
      "[youtube] 9ZuwEWLHHHY: Downloading webpage\n",
      "[download] Destination: ../data/downloaded_audio/watch?v=9ZuwEWLHHHY.m4a\n",
      "[download] 100% of 8.30MiB in 00:0007MiB/s ETA 00:008\n",
      "[ffmpeg] Correcting container in \"../data/downloaded_audio/watch?v=9ZuwEWLHHHY.m4a\"\n",
      "[ffmpeg] Destination: ../data/downloaded_audio/watch?v=9ZuwEWLHHHY.mp3\n",
      "Deleting original file ../data/downloaded_audio/watch?v=9ZuwEWLHHHY.m4a (pass -k to keep)\n"
     ]
    },
    {
     "name": "stderr",
     "output_type": "stream",
     "text": [
      "\n",
      " 72%|███████▏  | 131/183 [1:10:30<14:17, 16.49s/it]\u001b[A"
     ]
    },
    {
     "name": "stdout",
     "output_type": "stream",
     "text": [
      "[youtube] n45JvRBYiaM: Downloading webpage\n",
      "[youtube] n45JvRBYiaM: Downloading MPD manifest\n",
      "[dashsegments] Total fragments: 119\n",
      "[download] Destination: ../data/downloaded_audio/watch?v=n45JvRBYiaM.m4a\n",
      "[download] 100% of 8.88MiB in 00:22.32MiB/s ETA 00:000423\n",
      "[ffmpeg] Correcting container in \"../data/downloaded_audio/watch?v=n45JvRBYiaM.m4a\"\n",
      "[ffmpeg] Destination: ../data/downloaded_audio/watch?v=n45JvRBYiaM.mp3\n",
      "Deleting original file ../data/downloaded_audio/watch?v=n45JvRBYiaM.m4a (pass -k to keep)\n"
     ]
    },
    {
     "name": "stderr",
     "output_type": "stream",
     "text": [
      "\n",
      " 72%|███████▏  | 132/183 [1:11:03<18:17, 21.51s/it]\u001b[A"
     ]
    },
    {
     "name": "stdout",
     "output_type": "stream",
     "text": [
      "[youtube] omYrmwVlKsI: Downloading webpage\n",
      "[download] Destination: ../data/downloaded_audio/watch?v=omYrmwVlKsI.m4a\n",
      "[download] 100% of 7.17MiB in 00:0032MiB/s ETA 00:009\n",
      "[ffmpeg] Correcting container in \"../data/downloaded_audio/watch?v=omYrmwVlKsI.m4a\"\n",
      "[ffmpeg] Destination: ../data/downloaded_audio/watch?v=omYrmwVlKsI.mp3\n",
      "Deleting original file ../data/downloaded_audio/watch?v=omYrmwVlKsI.m4a (pass -k to keep)\n"
     ]
    },
    {
     "name": "stderr",
     "output_type": "stream",
     "text": [
      "\n",
      " 73%|███████▎  | 133/183 [1:11:12<14:36, 17.53s/it]\u001b[A"
     ]
    },
    {
     "name": "stdout",
     "output_type": "stream",
     "text": [
      "[youtube] dUFrZARqGfU: Downloading webpage\n",
      "[youtube] dUFrZARqGfU: Downloading MPD manifest\n",
      "[dashsegments] Total fragments: 121\n",
      "[download] Destination: ../data/downloaded_audio/watch?v=dUFrZARqGfU.m4a\n",
      "[download] 100% of 9.04MiB in 00:386.38KiB/s ETA 00:00553\n",
      "[ffmpeg] Correcting container in \"../data/downloaded_audio/watch?v=dUFrZARqGfU.m4a\"\n",
      "[ffmpeg] Destination: ../data/downloaded_audio/watch?v=dUFrZARqGfU.mp3\n",
      "Deleting original file ../data/downloaded_audio/watch?v=dUFrZARqGfU.m4a (pass -k to keep)\n"
     ]
    },
    {
     "name": "stderr",
     "output_type": "stream",
     "text": [
      "\n",
      " 73%|███████▎  | 134/183 [1:12:01<22:07, 27.10s/it]\u001b[A"
     ]
    },
    {
     "name": "stdout",
     "output_type": "stream",
     "text": [
      "[youtube] 7Ibb68uVXEg: Downloading webpage\n",
      "[download] Destination: ../data/downloaded_audio/watch?v=7Ibb68uVXEg.m4a\n",
      "[download] 100% of 18.36MiB in 00:0075MiB/s ETA 00:000\n",
      "[ffmpeg] Correcting container in \"../data/downloaded_audio/watch?v=7Ibb68uVXEg.m4a\"\n",
      "[ffmpeg] Destination: ../data/downloaded_audio/watch?v=7Ibb68uVXEg.mp3\n",
      "Deleting original file ../data/downloaded_audio/watch?v=7Ibb68uVXEg.m4a (pass -k to keep)\n"
     ]
    },
    {
     "name": "stderr",
     "output_type": "stream",
     "text": [
      "\n",
      " 74%|███████▍  | 135/183 [1:12:28<21:45, 27.19s/it]\u001b[A"
     ]
    },
    {
     "name": "stdout",
     "output_type": "stream",
     "text": [
      "[youtube] Kusv2J0M19E: Downloading webpage\n",
      "[download] Destination: ../data/downloaded_audio/watch?v=Kusv2J0M19E.m4a\n",
      "[download] 100% of 2.53MiB in 00:0025MiB/s ETA 00:003\n",
      "[ffmpeg] Correcting container in \"../data/downloaded_audio/watch?v=Kusv2J0M19E.m4a\"\n",
      "[ffmpeg] Destination: ../data/downloaded_audio/watch?v=Kusv2J0M19E.mp3\n",
      "Deleting original file ../data/downloaded_audio/watch?v=Kusv2J0M19E.m4a (pass -k to keep)\n"
     ]
    },
    {
     "name": "stderr",
     "output_type": "stream",
     "text": [
      "\n",
      " 74%|███████▍  | 136/183 [1:12:36<16:38, 21.24s/it]\u001b[A"
     ]
    },
    {
     "name": "stdout",
     "output_type": "stream",
     "text": [
      "[youtube] ZAOwjnqVUnM: Downloading webpage\n",
      "[youtube] ZAOwjnqVUnM: Downloading MPD manifest\n",
      "[dashsegments] Total fragments: 211\n",
      "[download] Destination: ../data/downloaded_audio/watch?v=ZAOwjnqVUnM.m4a\n",
      "[download] 100% of 15.89MiB in 00:40.37MiB/s ETA 00:0003\n",
      "[ffmpeg] Correcting container in \"../data/downloaded_audio/watch?v=ZAOwjnqVUnM.m4a\"\n",
      "[ffmpeg] Destination: ../data/downloaded_audio/watch?v=ZAOwjnqVUnM.mp3\n",
      "Deleting original file ../data/downloaded_audio/watch?v=ZAOwjnqVUnM.m4a (pass -k to keep)\n"
     ]
    },
    {
     "name": "stderr",
     "output_type": "stream",
     "text": [
      "\n",
      " 75%|███████▍  | 137/183 [1:13:35<24:56, 32.53s/it]\u001b[A"
     ]
    },
    {
     "name": "stdout",
     "output_type": "stream",
     "text": [
      "[youtube] OPCYGqzf7Us: Downloading webpage\n",
      "[download] Destination: ../data/downloaded_audio/watch?v=OPCYGqzf7Us.m4a\n",
      "[download] 100% of 7.57MiB in 00:0056MiB/s ETA 00:001\n",
      "[ffmpeg] Correcting container in \"../data/downloaded_audio/watch?v=OPCYGqzf7Us.m4a\"\n",
      "[ffmpeg] Destination: ../data/downloaded_audio/watch?v=OPCYGqzf7Us.mp3\n",
      "Deleting original file ../data/downloaded_audio/watch?v=OPCYGqzf7Us.m4a (pass -k to keep)\n"
     ]
    },
    {
     "name": "stderr",
     "output_type": "stream",
     "text": [
      "\n",
      " 75%|███████▌  | 138/183 [1:13:49<20:20, 27.12s/it]\u001b[A"
     ]
    },
    {
     "name": "stdout",
     "output_type": "stream",
     "text": [
      "[youtube] eIDhKWAsWuY: Downloading webpage\n",
      "[download] Destination: ../data/downloaded_audio/watch?v=eIDhKWAsWuY.m4a\n",
      "[download] 100% of 8.57MiB in 00:0096MiB/s ETA 00:001\n",
      "[ffmpeg] Correcting container in \"../data/downloaded_audio/watch?v=eIDhKWAsWuY.m4a\"\n",
      "[ffmpeg] Destination: ../data/downloaded_audio/watch?v=eIDhKWAsWuY.mp3\n",
      "Deleting original file ../data/downloaded_audio/watch?v=eIDhKWAsWuY.m4a (pass -k to keep)\n"
     ]
    },
    {
     "name": "stderr",
     "output_type": "stream",
     "text": [
      "\n",
      " 76%|███████▌  | 139/183 [1:14:04<17:07, 23.35s/it]\u001b[A"
     ]
    },
    {
     "name": "stdout",
     "output_type": "stream",
     "text": [
      "[youtube] hdUnCj05RMs: Downloading webpage\n",
      "[download] Destination: ../data/downloaded_audio/watch?v=hdUnCj05RMs.m4a\n",
      "[download] 100% of 2.91MiB in 00:0009MiB/s ETA 00:003\n",
      "[ffmpeg] Correcting container in \"../data/downloaded_audio/watch?v=hdUnCj05RMs.m4a\"\n",
      "[ffmpeg] Destination: ../data/downloaded_audio/watch?v=hdUnCj05RMs.mp3\n",
      "Deleting original file ../data/downloaded_audio/watch?v=hdUnCj05RMs.m4a (pass -k to keep)\n"
     ]
    },
    {
     "name": "stderr",
     "output_type": "stream",
     "text": [
      "\n",
      " 77%|███████▋  | 140/183 [1:14:09<12:51, 17.94s/it]\u001b[A"
     ]
    },
    {
     "name": "stdout",
     "output_type": "stream",
     "text": [
      "[youtube] 88qr91P1lsA: Downloading webpage\n",
      "[youtube] 88qr91P1lsA: Downloading MPD manifest\n",
      "[dashsegments] Total fragments: 200\n",
      "[download] Destination: ../data/downloaded_audio/watch?v=88qr91P1lsA.webm\n",
      "[download] 100% of 23.24MiB in 00:16.74MiB/s ETA 00:00029\n",
      "[ffmpeg] Destination: ../data/downloaded_audio/watch?v=88qr91P1lsA.mp3\n",
      "Deleting original file ../data/downloaded_audio/watch?v=88qr91P1lsA.webm (pass -k to keep)\n"
     ]
    },
    {
     "name": "stderr",
     "output_type": "stream",
     "text": [
      "\n",
      " 77%|███████▋  | 141/183 [1:15:14<22:19, 31.90s/it]\u001b[A"
     ]
    },
    {
     "name": "stdout",
     "output_type": "stream",
     "text": [
      "[youtube] E9mZ3915tdU: Downloading webpage\n",
      "[download] Destination: ../data/downloaded_audio/watch?v=E9mZ3915tdU.m4a\n",
      "[download] 100% of 8.88MiB in 00:0024MiB/s ETA 00:002\n",
      "[ffmpeg] Correcting container in \"../data/downloaded_audio/watch?v=E9mZ3915tdU.m4a\"\n",
      "[ffmpeg] Destination: ../data/downloaded_audio/watch?v=E9mZ3915tdU.mp3\n",
      "Deleting original file ../data/downloaded_audio/watch?v=E9mZ3915tdU.m4a (pass -k to keep)\n"
     ]
    },
    {
     "name": "stderr",
     "output_type": "stream",
     "text": [
      "\n",
      " 78%|███████▊  | 142/183 [1:15:25<17:30, 25.62s/it]\u001b[A"
     ]
    },
    {
     "name": "stdout",
     "output_type": "stream",
     "text": [
      "[youtube] oeboLKNV3PQ: Downloading webpage\n",
      "[download] Destination: ../data/downloaded_audio/watch?v=oeboLKNV3PQ.webm\n",
      "[download] 100% of 16.10MiB in 00:0066MiB/s ETA 00:000\n",
      "[ffmpeg] Destination: ../data/downloaded_audio/watch?v=oeboLKNV3PQ.mp3\n",
      "Deleting original file ../data/downloaded_audio/watch?v=oeboLKNV3PQ.webm (pass -k to keep)\n"
     ]
    },
    {
     "name": "stderr",
     "output_type": "stream",
     "text": [
      "\n",
      " 78%|███████▊  | 143/183 [1:15:45<15:59, 23.98s/it]\u001b[A"
     ]
    },
    {
     "name": "stdout",
     "output_type": "stream",
     "text": [
      "[youtube] lPXAJ1S74Ws: Downloading webpage\n",
      "[download] Destination: ../data/downloaded_audio/watch?v=lPXAJ1S74Ws.webm\n",
      "[download] 100% of 25.48MiB in 00:0267MiB/s ETA 00:007\n",
      "[ffmpeg] Destination: ../data/downloaded_audio/watch?v=lPXAJ1S74Ws.mp3\n"
     ]
    }
   ],
   "source": [
    "failed_links = []\n",
    "for therapy_url in tqdm(urls['Youtube Video URL']):\n",
    "    try:\n",
    "        ydl_opts['outtmpl'] = audio_download_dir + therapy_url.split('youtube.com/')[1] + '.%(ext)s'\n",
    "        with youtube_dl.YoutubeDL(ydl_opts) as ydl:\n",
    "            ydl.download([therapy_url])\n",
    "    except:\n",
    "        failed_links.append(therapy_url)\n",
    "        print(f'Therapy Url: {therapy_url}')\n",
    "        "
   ]
  },
  {
   "cell_type": "code",
   "execution_count": null,
   "metadata": {},
   "outputs": [],
   "source": []
  }
 ],
 "metadata": {
  "kernelspec": {
   "display_name": "Python 3",
   "language": "python",
   "name": "python3"
  },
  "language_info": {
   "codemirror_mode": {
    "name": "ipython",
    "version": 3
   },
   "file_extension": ".py",
   "mimetype": "text/x-python",
   "name": "python",
   "nbconvert_exporter": "python",
   "pygments_lexer": "ipython3",
   "version": "3.7.6"
  },
  "pycharm": {
   "stem_cell": {
    "cell_type": "raw",
    "metadata": {
     "collapsed": false
    },
    "source": [
     "\n"
    ]
   }
  }
 },
 "nbformat": 4,
 "nbformat_minor": 1
}
