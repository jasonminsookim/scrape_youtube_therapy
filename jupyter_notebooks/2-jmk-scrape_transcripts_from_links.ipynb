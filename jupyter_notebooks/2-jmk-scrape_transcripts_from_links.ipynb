{
 "cells": [
  {
   "cell_type": "code",
   "execution_count": 14,
   "metadata": {
    "ExecuteTime": {
     "end_time": "2020-03-18T22:28:04.415431Z",
     "start_time": "2020-03-18T22:28:04.399214Z"
    }
   },
   "outputs": [],
   "source": [
    "from __future__ import unicode_literals\n",
    "import youtube_dl\n",
    "import pandas as pd\n",
    "from tqdm import tqdm\n",
    "\n",
    "# get urls to extract from\n",
    "urls = pd.read_csv('../data/youtube_urls/therapy_youtube_urls.csv')\n",
    "\n",
    "# Set a path to save the transcript data\n",
    "transcript_download_dir = '../data/downloaded_youtube_transcripts/'\n",
    "\n",
    "# Set options for parsing\n",
    "ydl_opts = {\n",
    "        \"skip_download\": True,\n",
    "        \"writeautomaticsub\": \"%(name)s.vtt\",\n",
    "        \"subtitlelangs\": \"auto-en\"\n",
    "    }\n"
   ]
  },
  {
   "cell_type": "code",
   "execution_count": 15,
   "metadata": {
    "ExecuteTime": {
     "end_time": "2020-03-18T22:31:25.685247Z",
     "start_time": "2020-03-18T22:28:06.928693Z"
    }
   },
   "outputs": [
    {
     "name": "stderr",
     "output_type": "stream",
     "text": [
      "\r",
      "  0%|          | 0/183 [00:00<?, ?it/s]"
     ]
    },
    {
     "name": "stdout",
     "output_type": "stream",
     "text": [
      "[youtube] 7LD8iC4NqXM: Downloading webpage\n",
      "[youtube] 7LD8iC4NqXM: Looking for automatic captions\n",
      "[info] Writing video subtitles to: ../data/downloaded_youtube_transcripts/watch?v=7LD8iC4NqXM.en.vtt\n"
     ]
    },
    {
     "name": "stderr",
     "output_type": "stream",
     "text": [
      "\r",
      "  1%|          | 1/183 [00:00<03:00,  1.01it/s]"
     ]
    },
    {
     "name": "stdout",
     "output_type": "stream",
     "text": [
      "[youtube] x7HJmVx3qN4: Downloading webpage\n",
      "[youtube] x7HJmVx3qN4: Looking for automatic captions\n",
      "[info] Writing video subtitles to: ../data/downloaded_youtube_transcripts/watch?v=x7HJmVx3qN4.en.vtt\n"
     ]
    },
    {
     "name": "stderr",
     "output_type": "stream",
     "text": [
      "\r",
      "  1%|          | 2/183 [00:02<03:10,  1.05s/it]"
     ]
    },
    {
     "name": "stdout",
     "output_type": "stream",
     "text": [
      "[youtube] XH2tF8oB3cw: Downloading webpage\n",
      "[youtube] XH2tF8oB3cw: Looking for automatic captions\n",
      "[info] Writing video subtitles to: ../data/downloaded_youtube_transcripts/watch?v=XH2tF8oB3cw.en.vtt\n"
     ]
    },
    {
     "name": "stderr",
     "output_type": "stream",
     "text": [
      "\r",
      "  2%|▏         | 3/183 [00:03<03:41,  1.23s/it]"
     ]
    },
    {
     "name": "stdout",
     "output_type": "stream",
     "text": [
      "[youtube] 8-2WQF3SWwo: Downloading webpage\n",
      "[youtube] 8-2WQF3SWwo: Looking for automatic captions\n",
      "[info] Writing video subtitles to: ../data/downloaded_youtube_transcripts/watch?v=8-2WQF3SWwo.en.vtt\n"
     ]
    },
    {
     "name": "stderr",
     "output_type": "stream",
     "text": [
      "\r",
      "  2%|▏         | 4/183 [00:04<03:28,  1.16s/it]"
     ]
    },
    {
     "name": "stdout",
     "output_type": "stream",
     "text": [
      "[youtube] 8aDFvvjC6XM: Downloading webpage\n",
      "[youtube] 8aDFvvjC6XM: Looking for automatic captions\n",
      "[info] Writing video subtitles to: ../data/downloaded_youtube_transcripts/watch?v=8aDFvvjC6XM.en.vtt\n"
     ]
    },
    {
     "name": "stderr",
     "output_type": "stream",
     "text": [
      "\r",
      "  3%|▎         | 5/183 [00:05<03:13,  1.09s/it]"
     ]
    },
    {
     "name": "stdout",
     "output_type": "stream",
     "text": [
      "[youtube] PtCj7ecyHjg: Downloading webpage\n",
      "[youtube] PtCj7ecyHjg: Looking for automatic captions\n",
      "[info] Writing video subtitles to: ../data/downloaded_youtube_transcripts/watch?v=PtCj7ecyHjg.en.vtt\n"
     ]
    },
    {
     "name": "stderr",
     "output_type": "stream",
     "text": [
      "\r",
      "  3%|▎         | 6/183 [00:06<03:12,  1.08s/it]"
     ]
    },
    {
     "name": "stdout",
     "output_type": "stream",
     "text": [
      "[youtube] osROod3Hmpg: Downloading webpage\n",
      "[youtube] osROod3Hmpg: Looking for automatic captions\n",
      "[info] Writing video subtitles to: ../data/downloaded_youtube_transcripts/watch?v=osROod3Hmpg.en.vtt\n"
     ]
    },
    {
     "name": "stderr",
     "output_type": "stream",
     "text": [
      "\r",
      "  4%|▍         | 7/183 [00:07<03:02,  1.04s/it]"
     ]
    },
    {
     "name": "stdout",
     "output_type": "stream",
     "text": [
      "[youtube] XbYGdo9lMsQ: Downloading webpage\n",
      "[youtube] XbYGdo9lMsQ: Looking for automatic captions\n",
      "[youtube] XbYGdo9lMsQ: Downloading MPD manifest\n",
      "[info] Writing video subtitles to: ../data/downloaded_youtube_transcripts/watch?v=XbYGdo9lMsQ.en.vtt\n"
     ]
    },
    {
     "name": "stderr",
     "output_type": "stream",
     "text": [
      "\r",
      "  4%|▍         | 8/183 [00:09<03:21,  1.15s/it]"
     ]
    },
    {
     "name": "stdout",
     "output_type": "stream",
     "text": [
      "[youtube] KRDH89uP8wI: Downloading webpage\n",
      "[youtube] KRDH89uP8wI: Looking for automatic captions\n",
      "[info] Writing video subtitles to: ../data/downloaded_youtube_transcripts/watch?v=KRDH89uP8wI.en.vtt\n"
     ]
    },
    {
     "name": "stderr",
     "output_type": "stream",
     "text": [
      "\r",
      "  5%|▍         | 9/183 [00:10<03:27,  1.19s/it]"
     ]
    },
    {
     "name": "stdout",
     "output_type": "stream",
     "text": [
      "[youtube] nanU4vR993I: Downloading webpage\n",
      "[youtube] nanU4vR993I: Looking for automatic captions\n",
      "[info] Writing video subtitles to: ../data/downloaded_youtube_transcripts/watch?v=nanU4vR993I.en.vtt\n"
     ]
    },
    {
     "name": "stderr",
     "output_type": "stream",
     "text": [
      "\r",
      "  5%|▌         | 10/183 [00:11<03:11,  1.11s/it]"
     ]
    },
    {
     "name": "stdout",
     "output_type": "stream",
     "text": [
      "[youtube] CdyJ0iB_k00: Downloading webpage\n",
      "[youtube] CdyJ0iB_k00: Looking for automatic captions\n",
      "[info] Writing video subtitles to: ../data/downloaded_youtube_transcripts/watch?v=CdyJ0iB_k00.en.vtt\n"
     ]
    },
    {
     "name": "stderr",
     "output_type": "stream",
     "text": [
      "\r",
      "  6%|▌         | 11/183 [00:12<03:04,  1.07s/it]"
     ]
    },
    {
     "name": "stdout",
     "output_type": "stream",
     "text": [
      "[youtube] SNstOn6owcI: Downloading webpage\n",
      "[youtube] SNstOn6owcI: Looking for automatic captions\n",
      "[info] Writing video subtitles to: ../data/downloaded_youtube_transcripts/watch?v=SNstOn6owcI.en.vtt\n"
     ]
    },
    {
     "name": "stderr",
     "output_type": "stream",
     "text": [
      "\r",
      "  7%|▋         | 12/183 [00:13<02:54,  1.02s/it]"
     ]
    },
    {
     "name": "stdout",
     "output_type": "stream",
     "text": [
      "[youtube] pllei-yDO8c: Downloading webpage\n",
      "[youtube] pllei-yDO8c: Looking for automatic captions\n"
     ]
    },
    {
     "name": "stderr",
     "output_type": "stream",
     "text": [
      "WARNING: Couldn't find automatic captions for pllei-yDO8c\n",
      "  7%|▋         | 13/183 [00:14<02:45,  1.02it/s]"
     ]
    },
    {
     "name": "stdout",
     "output_type": "stream",
     "text": [
      "[youtube] Wx8F9uwQTnY: Downloading webpage\n",
      "[youtube] Wx8F9uwQTnY: Looking for automatic captions\n",
      "[info] Writing video subtitles to: ../data/downloaded_youtube_transcripts/watch?v=Wx8F9uwQTnY.en.vtt\n"
     ]
    },
    {
     "name": "stderr",
     "output_type": "stream",
     "text": [
      "\r",
      "  8%|▊         | 14/183 [00:15<02:53,  1.02s/it]"
     ]
    },
    {
     "name": "stdout",
     "output_type": "stream",
     "text": [
      "[youtube] aLdWfVVJu8E: Downloading webpage\n",
      "[youtube] aLdWfVVJu8E: Looking for automatic captions\n",
      "[info] Writing video subtitles to: ../data/downloaded_youtube_transcripts/watch?v=aLdWfVVJu8E.en.vtt\n"
     ]
    },
    {
     "name": "stderr",
     "output_type": "stream",
     "text": [
      "\r",
      "  8%|▊         | 15/183 [00:16<03:01,  1.08s/it]"
     ]
    },
    {
     "name": "stdout",
     "output_type": "stream",
     "text": [
      "[youtube] zgX2N1gfNAs: Downloading webpage\n",
      "[youtube] zgX2N1gfNAs: Looking for automatic captions\n"
     ]
    },
    {
     "name": "stderr",
     "output_type": "stream",
     "text": [
      "WARNING: Couldn't find automatic captions for zgX2N1gfNAs\n"
     ]
    },
    {
     "name": "stdout",
     "output_type": "stream",
     "text": [
      "[youtube] zgX2N1gfNAs: Downloading MPD manifest\n"
     ]
    },
    {
     "name": "stderr",
     "output_type": "stream",
     "text": [
      "\r",
      "  9%|▊         | 16/183 [00:18<03:25,  1.23s/it]"
     ]
    },
    {
     "name": "stdout",
     "output_type": "stream",
     "text": [
      "[youtube] 9cdrjLuBc1A: Downloading webpage\n",
      "[youtube] 9cdrjLuBc1A: Looking for automatic captions\n",
      "[youtube] 9cdrjLuBc1A: Downloading MPD manifest\n",
      "[info] Writing video subtitles to: ../data/downloaded_youtube_transcripts/watch?v=9cdrjLuBc1A.en.vtt\n"
     ]
    },
    {
     "name": "stderr",
     "output_type": "stream",
     "text": [
      "\r",
      "  9%|▉         | 17/183 [00:19<03:32,  1.28s/it]"
     ]
    },
    {
     "name": "stdout",
     "output_type": "stream",
     "text": [
      "[youtube] 8B3T5gCFEWo: Downloading webpage\n",
      "[youtube] 8B3T5gCFEWo: Looking for automatic captions\n",
      "[youtube] 8B3T5gCFEWo: Downloading MPD manifest\n",
      "[info] Writing video subtitles to: ../data/downloaded_youtube_transcripts/watch?v=8B3T5gCFEWo.en.vtt\n"
     ]
    },
    {
     "name": "stderr",
     "output_type": "stream",
     "text": [
      "\r",
      " 10%|▉         | 18/183 [00:21<03:47,  1.38s/it]"
     ]
    },
    {
     "name": "stdout",
     "output_type": "stream",
     "text": [
      "[youtube] ZkLtnaBpxCk: Downloading webpage\n",
      "[youtube] ZkLtnaBpxCk: Looking for automatic captions\n",
      "[info] Writing video subtitles to: ../data/downloaded_youtube_transcripts/watch?v=ZkLtnaBpxCk.en.vtt\n"
     ]
    },
    {
     "name": "stderr",
     "output_type": "stream",
     "text": [
      "\r",
      " 10%|█         | 19/183 [00:22<03:26,  1.26s/it]"
     ]
    },
    {
     "name": "stdout",
     "output_type": "stream",
     "text": [
      "[youtube] wKPPf9YNv5c: Downloading webpage\n",
      "[youtube] wKPPf9YNv5c: Looking for automatic captions\n",
      "[youtube] wKPPf9YNv5c: Downloading MPD manifest\n",
      "[info] Writing video subtitles to: ../data/downloaded_youtube_transcripts/watch?v=wKPPf9YNv5c.en.vtt\n"
     ]
    },
    {
     "name": "stderr",
     "output_type": "stream",
     "text": [
      "\r",
      " 11%|█         | 20/183 [00:23<03:35,  1.32s/it]"
     ]
    },
    {
     "name": "stdout",
     "output_type": "stream",
     "text": [
      "[youtube] Nn1WY1dW7d0: Downloading webpage\n",
      "[youtube] Nn1WY1dW7d0: Looking for automatic captions\n",
      "[youtube] Nn1WY1dW7d0: Downloading MPD manifest\n",
      "[info] Writing video subtitles to: ../data/downloaded_youtube_transcripts/watch?v=Nn1WY1dW7d0.en.vtt\n"
     ]
    },
    {
     "name": "stderr",
     "output_type": "stream",
     "text": [
      "\r",
      " 11%|█▏        | 21/183 [00:24<03:36,  1.34s/it]"
     ]
    },
    {
     "name": "stdout",
     "output_type": "stream",
     "text": [
      "[youtube] 5eyE20HpaCo: Downloading webpage\n",
      "[youtube] 5eyE20HpaCo: Looking for automatic captions\n",
      "[youtube] 5eyE20HpaCo: Downloading MPD manifest\n",
      "[info] Writing video subtitles to: ../data/downloaded_youtube_transcripts/watch?v=5eyE20HpaCo.en.vtt\n"
     ]
    },
    {
     "name": "stderr",
     "output_type": "stream",
     "text": [
      "\r",
      " 12%|█▏        | 22/183 [00:26<03:53,  1.45s/it]"
     ]
    },
    {
     "name": "stdout",
     "output_type": "stream",
     "text": [
      "[youtube] 3CgYkRWucb4: Downloading webpage\n",
      "[youtube] 3CgYkRWucb4: Looking for automatic captions\n",
      "[info] Writing video subtitles to: ../data/downloaded_youtube_transcripts/watch?v=3CgYkRWucb4.en.vtt\n"
     ]
    },
    {
     "name": "stderr",
     "output_type": "stream",
     "text": [
      "\r",
      " 13%|█▎        | 23/183 [00:27<03:25,  1.29s/it]"
     ]
    },
    {
     "name": "stdout",
     "output_type": "stream",
     "text": [
      "[youtube] 6r5g1z5UtC8: Downloading webpage\n",
      "[youtube] 6r5g1z5UtC8: Looking for automatic captions\n",
      "[info] Writing video subtitles to: ../data/downloaded_youtube_transcripts/watch?v=6r5g1z5UtC8.en.vtt\n"
     ]
    },
    {
     "name": "stderr",
     "output_type": "stream",
     "text": [
      "\r",
      " 13%|█▎        | 24/183 [00:28<03:23,  1.28s/it]"
     ]
    },
    {
     "name": "stdout",
     "output_type": "stream",
     "text": [
      "[youtube] QG-zpm7DYS0: Downloading webpage\n",
      "[youtube] QG-zpm7DYS0: Looking for automatic captions\n",
      "[youtube] QG-zpm7DYS0: Downloading MPD manifest\n",
      "[info] Writing video subtitles to: ../data/downloaded_youtube_transcripts/watch?v=QG-zpm7DYS0.en.vtt\n"
     ]
    },
    {
     "name": "stderr",
     "output_type": "stream",
     "text": [
      "\r",
      " 14%|█▎        | 25/183 [00:30<03:30,  1.33s/it]"
     ]
    },
    {
     "name": "stdout",
     "output_type": "stream",
     "text": [
      "[youtube] RdFhs1LUdwg: Downloading webpage\n",
      "[youtube] RdFhs1LUdwg: Looking for automatic captions\n",
      "[info] Writing video subtitles to: ../data/downloaded_youtube_transcripts/watch?v=RdFhs1LUdwg.en.vtt\n"
     ]
    },
    {
     "name": "stderr",
     "output_type": "stream",
     "text": [
      "\r",
      " 14%|█▍        | 26/183 [00:31<03:19,  1.27s/it]"
     ]
    },
    {
     "name": "stdout",
     "output_type": "stream",
     "text": [
      "[youtube] yIDLxbspOpY: Downloading webpage\n",
      "[youtube] yIDLxbspOpY: Looking for automatic captions\n"
     ]
    },
    {
     "name": "stderr",
     "output_type": "stream",
     "text": [
      "WARNING: Couldn't find automatic captions for yIDLxbspOpY\n"
     ]
    },
    {
     "name": "stdout",
     "output_type": "stream",
     "text": [
      "[youtube] yIDLxbspOpY: Downloading MPD manifest\n"
     ]
    },
    {
     "name": "stderr",
     "output_type": "stream",
     "text": [
      "\r",
      " 15%|█▍        | 27/183 [00:32<03:22,  1.30s/it]"
     ]
    },
    {
     "name": "stdout",
     "output_type": "stream",
     "text": [
      "[youtube] hM4t5Q6u-dA: Downloading webpage\n",
      "[youtube] hM4t5Q6u-dA: Looking for automatic captions\n",
      "[youtube] hM4t5Q6u-dA: Downloading MPD manifest\n",
      "[info] Writing video subtitles to: ../data/downloaded_youtube_transcripts/watch?v=hM4t5Q6u-dA.en.vtt\n"
     ]
    },
    {
     "name": "stderr",
     "output_type": "stream",
     "text": [
      "\r",
      " 15%|█▌        | 28/183 [00:34<03:27,  1.34s/it]"
     ]
    },
    {
     "name": "stdout",
     "output_type": "stream",
     "text": [
      "[youtube] _krd6KeqoxA: Downloading webpage\n",
      "[youtube] _krd6KeqoxA: Looking for automatic captions\n",
      "[info] Writing video subtitles to: ../data/downloaded_youtube_transcripts/watch?v=_krd6KeqoxA.en.vtt\n"
     ]
    },
    {
     "name": "stderr",
     "output_type": "stream",
     "text": [
      "\r",
      " 16%|█▌        | 29/183 [00:35<03:03,  1.19s/it]"
     ]
    },
    {
     "name": "stdout",
     "output_type": "stream",
     "text": [
      "[youtube] a54_jIjyo2k: Downloading webpage\n",
      "[youtube] a54_jIjyo2k: Looking for automatic captions\n"
     ]
    },
    {
     "name": "stderr",
     "output_type": "stream",
     "text": [
      "WARNING: Couldn't find automatic captions for a54_jIjyo2k\n"
     ]
    },
    {
     "name": "stdout",
     "output_type": "stream",
     "text": [
      "[youtube] a54_jIjyo2k: Downloading MPD manifest\n"
     ]
    },
    {
     "name": "stderr",
     "output_type": "stream",
     "text": [
      "\r",
      " 16%|█▋        | 30/183 [00:36<03:06,  1.22s/it]"
     ]
    },
    {
     "name": "stdout",
     "output_type": "stream",
     "text": [
      "[youtube] O2ccP2EdHaA: Downloading webpage\n",
      "[youtube] O2ccP2EdHaA: Looking for automatic captions\n",
      "[youtube] O2ccP2EdHaA: Downloading MPD manifest\n",
      "[info] Writing video subtitles to: ../data/downloaded_youtube_transcripts/watch?v=O2ccP2EdHaA.en.vtt\n"
     ]
    },
    {
     "name": "stderr",
     "output_type": "stream",
     "text": [
      "\r",
      " 17%|█▋        | 31/183 [00:37<03:05,  1.22s/it]"
     ]
    },
    {
     "name": "stdout",
     "output_type": "stream",
     "text": [
      "[youtube] com0BU506e4: Downloading webpage\n",
      "[youtube] com0BU506e4: Looking for automatic captions\n",
      "[youtube] com0BU506e4: Downloading MPD manifest\n",
      "[info] Writing video subtitles to: ../data/downloaded_youtube_transcripts/watch?v=com0BU506e4.en.vtt\n"
     ]
    },
    {
     "name": "stderr",
     "output_type": "stream",
     "text": [
      "\r",
      " 17%|█▋        | 32/183 [00:38<03:01,  1.20s/it]"
     ]
    },
    {
     "name": "stdout",
     "output_type": "stream",
     "text": [
      "[youtube] 751YM6GXPQg: Downloading webpage\n",
      "[youtube] 751YM6GXPQg: Looking for automatic captions\n",
      "[youtube] 751YM6GXPQg: Downloading MPD manifest\n",
      "[info] Writing video subtitles to: ../data/downloaded_youtube_transcripts/watch?v=751YM6GXPQg.en.vtt\n"
     ]
    },
    {
     "name": "stderr",
     "output_type": "stream",
     "text": [
      "\r",
      " 18%|█▊        | 33/183 [00:39<03:03,  1.23s/it]"
     ]
    },
    {
     "name": "stdout",
     "output_type": "stream",
     "text": [
      "[youtube] eF1_wylan9U: Downloading webpage\n",
      "[youtube] eF1_wylan9U: Looking for automatic captions\n",
      "[youtube] eF1_wylan9U: Downloading MPD manifest\n",
      "[info] Writing video subtitles to: ../data/downloaded_youtube_transcripts/watch?v=eF1_wylan9U.en.vtt\n"
     ]
    },
    {
     "name": "stderr",
     "output_type": "stream",
     "text": [
      "\r",
      " 19%|█▊        | 34/183 [00:41<02:59,  1.20s/it]"
     ]
    },
    {
     "name": "stdout",
     "output_type": "stream",
     "text": [
      "[youtube] GyJZrqqYyd0: Downloading webpage\n",
      "[youtube] GyJZrqqYyd0: Looking for automatic captions\n",
      "[info] Writing video subtitles to: ../data/downloaded_youtube_transcripts/watch?v=GyJZrqqYyd0.en.vtt\n"
     ]
    },
    {
     "name": "stderr",
     "output_type": "stream",
     "text": [
      "\r",
      " 19%|█▉        | 35/183 [00:41<02:43,  1.10s/it]"
     ]
    },
    {
     "name": "stdout",
     "output_type": "stream",
     "text": [
      "[youtube] OG1-zVlTypc: Downloading webpage\n",
      "[youtube] OG1-zVlTypc: Looking for automatic captions\n",
      "[youtube] OG1-zVlTypc: Downloading MPD manifest\n",
      "[info] Writing video subtitles to: ../data/downloaded_youtube_transcripts/watch?v=OG1-zVlTypc.en.vtt\n"
     ]
    },
    {
     "name": "stderr",
     "output_type": "stream",
     "text": [
      "\r",
      " 20%|█▉        | 36/183 [00:43<02:50,  1.16s/it]"
     ]
    },
    {
     "name": "stdout",
     "output_type": "stream",
     "text": [
      "[youtube] gbBn8EzZx3w: Downloading webpage\n",
      "[youtube] gbBn8EzZx3w: Looking for automatic captions\n",
      "[youtube] gbBn8EzZx3w: Downloading MPD manifest\n",
      "[info] Writing video subtitles to: ../data/downloaded_youtube_transcripts/watch?v=gbBn8EzZx3w.en.vtt\n"
     ]
    },
    {
     "name": "stderr",
     "output_type": "stream",
     "text": [
      "\r",
      " 20%|██        | 37/183 [00:44<03:04,  1.26s/it]"
     ]
    },
    {
     "name": "stdout",
     "output_type": "stream",
     "text": [
      "[youtube] zdsaW_TSzHU: Downloading webpage\n",
      "[youtube] zdsaW_TSzHU: Looking for automatic captions\n",
      "[info] Writing video subtitles to: ../data/downloaded_youtube_transcripts/watch?v=zdsaW_TSzHU.en.vtt\n"
     ]
    },
    {
     "name": "stderr",
     "output_type": "stream",
     "text": [
      "\r",
      " 21%|██        | 38/183 [00:45<02:47,  1.15s/it]"
     ]
    },
    {
     "name": "stdout",
     "output_type": "stream",
     "text": [
      "[youtube] 0Tt1IDjmito: Downloading webpage\n",
      "[youtube] 0Tt1IDjmito: Looking for automatic captions\n",
      "[info] Writing video subtitles to: ../data/downloaded_youtube_transcripts/watch?v=0Tt1IDjmito.en.vtt\n"
     ]
    },
    {
     "name": "stderr",
     "output_type": "stream",
     "text": [
      "\r",
      " 21%|██▏       | 39/183 [00:46<02:33,  1.07s/it]"
     ]
    },
    {
     "name": "stdout",
     "output_type": "stream",
     "text": [
      "[youtube] GrV3dR-_BVw: Downloading webpage\n",
      "[youtube] GrV3dR-_BVw: Looking for automatic captions\n",
      "[info] Writing video subtitles to: ../data/downloaded_youtube_transcripts/watch?v=GrV3dR-_BVw.en.vtt\n"
     ]
    },
    {
     "name": "stderr",
     "output_type": "stream",
     "text": [
      "\r",
      " 22%|██▏       | 40/183 [00:47<02:21,  1.01it/s]"
     ]
    },
    {
     "name": "stdout",
     "output_type": "stream",
     "text": [
      "[youtube] dJ1eDL15_Lw: Downloading webpage\n",
      "[youtube] dJ1eDL15_Lw: Looking for automatic captions\n",
      "[youtube] dJ1eDL15_Lw: Downloading MPD manifest\n",
      "[info] Writing video subtitles to: ../data/downloaded_youtube_transcripts/watch?v=dJ1eDL15_Lw.en.vtt\n"
     ]
    },
    {
     "name": "stderr",
     "output_type": "stream",
     "text": [
      "\r",
      " 22%|██▏       | 41/183 [00:48<02:35,  1.10s/it]"
     ]
    },
    {
     "name": "stdout",
     "output_type": "stream",
     "text": [
      "[youtube] 2w3ZlSeFxQU: Downloading webpage\n",
      "[youtube] 2w3ZlSeFxQU: Looking for automatic captions\n",
      "[info] Writing video subtitles to: ../data/downloaded_youtube_transcripts/watch?v=2w3ZlSeFxQU.en.vtt\n"
     ]
    },
    {
     "name": "stderr",
     "output_type": "stream",
     "text": [
      "\r",
      " 23%|██▎       | 42/183 [00:49<02:23,  1.02s/it]"
     ]
    },
    {
     "name": "stdout",
     "output_type": "stream",
     "text": [
      "[youtube] 9cYeZdKeXsc: Downloading webpage\n",
      "[youtube] 9cYeZdKeXsc: Looking for automatic captions\n",
      "[youtube] 9cYeZdKeXsc: Downloading MPD manifest\n",
      "[info] Writing video subtitles to: ../data/downloaded_youtube_transcripts/watch?v=9cYeZdKeXsc.en.vtt\n"
     ]
    },
    {
     "name": "stderr",
     "output_type": "stream",
     "text": [
      "\r",
      " 23%|██▎       | 43/183 [00:50<02:24,  1.04s/it]"
     ]
    },
    {
     "name": "stdout",
     "output_type": "stream",
     "text": [
      "[youtube] w8namZ5rt2k: Downloading webpage\n",
      "[youtube] w8namZ5rt2k: Looking for automatic captions\n",
      "[info] Writing video subtitles to: ../data/downloaded_youtube_transcripts/watch?v=w8namZ5rt2k.en.vtt\n"
     ]
    },
    {
     "name": "stderr",
     "output_type": "stream",
     "text": [
      "\r",
      " 24%|██▍       | 44/183 [00:51<02:21,  1.02s/it]"
     ]
    },
    {
     "name": "stdout",
     "output_type": "stream",
     "text": [
      "[youtube] mpE-oaix5kA: Downloading webpage\n",
      "[youtube] mpE-oaix5kA: Looking for automatic captions\n"
     ]
    },
    {
     "name": "stderr",
     "output_type": "stream",
     "text": [
      "WARNING: Couldn't find automatic captions for mpE-oaix5kA\n",
      " 25%|██▍       | 45/183 [00:52<02:10,  1.06it/s]"
     ]
    },
    {
     "name": "stdout",
     "output_type": "stream",
     "text": [
      "[youtube] 8mQZzlQXK1Q: Downloading webpage\n",
      "[youtube] 8mQZzlQXK1Q: Looking for automatic captions\n",
      "[info] Writing video subtitles to: ../data/downloaded_youtube_transcripts/watch?v=8mQZzlQXK1Q.en.vtt\n"
     ]
    },
    {
     "name": "stderr",
     "output_type": "stream",
     "text": [
      "\r",
      " 25%|██▌       | 46/183 [00:53<02:04,  1.10it/s]"
     ]
    },
    {
     "name": "stdout",
     "output_type": "stream",
     "text": [
      "[youtube] sDrakgSYvzc: Downloading webpage\n",
      "[youtube] sDrakgSYvzc: Looking for automatic captions\n",
      "[info] Writing video subtitles to: ../data/downloaded_youtube_transcripts/watch?v=sDrakgSYvzc.en.vtt\n"
     ]
    },
    {
     "name": "stderr",
     "output_type": "stream",
     "text": [
      "\r",
      " 26%|██▌       | 47/183 [00:54<02:04,  1.09it/s]"
     ]
    },
    {
     "name": "stdout",
     "output_type": "stream",
     "text": [
      "[youtube] MCyfMFXR-n0: Downloading webpage\n",
      "[youtube] MCyfMFXR-n0: Looking for automatic captions\n",
      "[info] Writing video subtitles to: ../data/downloaded_youtube_transcripts/watch?v=MCyfMFXR-n0.en.vtt\n"
     ]
    },
    {
     "name": "stderr",
     "output_type": "stream",
     "text": [
      "\r",
      " 26%|██▌       | 48/183 [00:54<02:00,  1.12it/s]"
     ]
    },
    {
     "name": "stdout",
     "output_type": "stream",
     "text": [
      "[youtube] g6hMfQOsma4: Downloading webpage\n",
      "[youtube] g6hMfQOsma4: Looking for automatic captions\n",
      "[info] Writing video subtitles to: ../data/downloaded_youtube_transcripts/watch?v=g6hMfQOsma4.en.vtt\n"
     ]
    },
    {
     "name": "stderr",
     "output_type": "stream",
     "text": [
      "\r",
      " 27%|██▋       | 49/183 [00:55<01:55,  1.16it/s]"
     ]
    },
    {
     "name": "stdout",
     "output_type": "stream",
     "text": [
      "[youtube] jQgkVKGqBCE: Downloading webpage\n",
      "[youtube] jQgkVKGqBCE: Looking for automatic captions\n",
      "[info] Writing video subtitles to: ../data/downloaded_youtube_transcripts/watch?v=jQgkVKGqBCE.en.vtt\n"
     ]
    },
    {
     "name": "stderr",
     "output_type": "stream",
     "text": [
      "\r",
      " 27%|██▋       | 50/183 [00:56<01:58,  1.13it/s]"
     ]
    },
    {
     "name": "stdout",
     "output_type": "stream",
     "text": [
      "[youtube] pfoKBNPbSPY: Downloading webpage\n"
     ]
    },
    {
     "name": "stderr",
     "output_type": "stream",
     "text": [
      "ERROR: pfoKBNPbSPY: YouTube said: This video is no longer available because the YouTube account associated with this video has been terminated.\n",
      "Sorry about that.\n",
      " 28%|██▊       | 51/183 [00:56<01:32,  1.43it/s]"
     ]
    },
    {
     "name": "stdout",
     "output_type": "stream",
     "text": [
      "Failed Therapy Url: https://www.youtube.com/watch?v=pfoKBNPbSPY\n",
      "[youtube] MyXdvt4_AZA: Downloading webpage\n",
      "[youtube] MyXdvt4_AZA: Looking for automatic captions\n",
      "[info] Writing video subtitles to: ../data/downloaded_youtube_transcripts/watch?v=MyXdvt4_AZA.en.vtt\n"
     ]
    },
    {
     "name": "stderr",
     "output_type": "stream",
     "text": [
      "\r",
      " 28%|██▊       | 52/183 [00:57<01:39,  1.32it/s]"
     ]
    },
    {
     "name": "stdout",
     "output_type": "stream",
     "text": [
      "[youtube] LuuKIF4-F_Q: Downloading webpage\n",
      "[youtube] LuuKIF4-F_Q: Looking for automatic captions\n",
      "[youtube] LuuKIF4-F_Q: Downloading MPD manifest\n",
      "[info] Writing video subtitles to: ../data/downloaded_youtube_transcripts/watch?v=LuuKIF4-F_Q.en.vtt\n"
     ]
    },
    {
     "name": "stderr",
     "output_type": "stream",
     "text": [
      "\r",
      " 29%|██▉       | 53/183 [00:58<01:51,  1.16it/s]"
     ]
    },
    {
     "name": "stdout",
     "output_type": "stream",
     "text": [
      "[youtube] ZDpMz864zBA: Downloading webpage\n",
      "[youtube] ZDpMz864zBA: Looking for automatic captions\n",
      "[youtube] ZDpMz864zBA: Downloading MPD manifest\n",
      "[info] Writing video subtitles to: ../data/downloaded_youtube_transcripts/watch?v=ZDpMz864zBA.en.vtt\n"
     ]
    },
    {
     "name": "stderr",
     "output_type": "stream",
     "text": [
      "\r",
      " 30%|██▉       | 54/183 [01:00<02:04,  1.03it/s]"
     ]
    },
    {
     "name": "stdout",
     "output_type": "stream",
     "text": [
      "[youtube] 7wqzf3YSkYY: Downloading webpage\n",
      "[youtube] 7wqzf3YSkYY: Looking for automatic captions\n",
      "[youtube] 7wqzf3YSkYY: Downloading MPD manifest\n",
      "[info] Writing video subtitles to: ../data/downloaded_youtube_transcripts/watch?v=7wqzf3YSkYY.en.vtt\n"
     ]
    },
    {
     "name": "stderr",
     "output_type": "stream",
     "text": [
      "\r",
      " 30%|███       | 55/183 [01:01<02:20,  1.10s/it]"
     ]
    },
    {
     "name": "stdout",
     "output_type": "stream",
     "text": [
      "[youtube] -OM8RYUl_rg: Downloading webpage\n",
      "[youtube] -OM8RYUl_rg: Looking for automatic captions\n",
      "[info] Writing video subtitles to: ../data/downloaded_youtube_transcripts/watch?v=-OM8RYUl_rg.en.vtt\n"
     ]
    },
    {
     "name": "stderr",
     "output_type": "stream",
     "text": [
      "\r",
      " 31%|███       | 56/183 [01:02<02:15,  1.06s/it]"
     ]
    },
    {
     "name": "stdout",
     "output_type": "stream",
     "text": [
      "[youtube] o2Cv6Mlp3KY: Downloading webpage\n",
      "[youtube] o2Cv6Mlp3KY: Looking for automatic captions\n",
      "[youtube] o2Cv6Mlp3KY: Downloading MPD manifest\n",
      "[info] Writing video subtitles to: ../data/downloaded_youtube_transcripts/watch?v=o2Cv6Mlp3KY.en.vtt\n"
     ]
    },
    {
     "name": "stderr",
     "output_type": "stream",
     "text": [
      "\r",
      " 31%|███       | 57/183 [01:03<02:16,  1.09s/it]"
     ]
    },
    {
     "name": "stdout",
     "output_type": "stream",
     "text": [
      "[youtube] TMVRjab1TmE: Downloading webpage\n",
      "[youtube] TMVRjab1TmE: Looking for automatic captions\n",
      "[info] Writing video subtitles to: ../data/downloaded_youtube_transcripts/watch?v=TMVRjab1TmE.en.vtt\n"
     ]
    },
    {
     "name": "stderr",
     "output_type": "stream",
     "text": [
      "\r",
      " 32%|███▏      | 58/183 [01:04<02:07,  1.02s/it]"
     ]
    },
    {
     "name": "stdout",
     "output_type": "stream",
     "text": [
      "[youtube] _H6w9Of_vPA: Downloading webpage\n",
      "[youtube] _H6w9Of_vPA: Looking for automatic captions\n",
      "[info] Writing video subtitles to: ../data/downloaded_youtube_transcripts/watch?v=_H6w9Of_vPA.en.vtt\n"
     ]
    },
    {
     "name": "stderr",
     "output_type": "stream",
     "text": [
      "\r",
      " 32%|███▏      | 59/183 [01:05<01:55,  1.07it/s]"
     ]
    },
    {
     "name": "stdout",
     "output_type": "stream",
     "text": [
      "[youtube] tq_yyMVax_c: Downloading webpage\n",
      "[youtube] tq_yyMVax_c: Looking for automatic captions\n",
      "[youtube] tq_yyMVax_c: Downloading MPD manifest\n",
      "[info] Writing video subtitles to: ../data/downloaded_youtube_transcripts/watch?v=tq_yyMVax_c.en.vtt\n"
     ]
    },
    {
     "name": "stderr",
     "output_type": "stream",
     "text": [
      "\r",
      " 33%|███▎      | 60/183 [01:06<02:07,  1.04s/it]"
     ]
    },
    {
     "name": "stdout",
     "output_type": "stream",
     "text": [
      "[youtube] 0mrgqXoQI80: Downloading webpage\n",
      "[youtube] 0mrgqXoQI80: Looking for automatic captions\n",
      "[info] Writing video subtitles to: ../data/downloaded_youtube_transcripts/watch?v=0mrgqXoQI80.en.vtt\n"
     ]
    },
    {
     "name": "stderr",
     "output_type": "stream",
     "text": [
      "\r",
      " 33%|███▎      | 61/183 [01:07<01:56,  1.05it/s]"
     ]
    },
    {
     "name": "stdout",
     "output_type": "stream",
     "text": [
      "[youtube] W_tDRu67JnI: Downloading webpage\n",
      "[youtube] W_tDRu67JnI: Looking for automatic captions\n",
      "[info] Writing video subtitles to: ../data/downloaded_youtube_transcripts/watch?v=W_tDRu67JnI.en.vtt\n"
     ]
    },
    {
     "name": "stderr",
     "output_type": "stream",
     "text": [
      "\r",
      " 34%|███▍      | 62/183 [01:08<01:56,  1.04it/s]"
     ]
    },
    {
     "name": "stdout",
     "output_type": "stream",
     "text": [
      "[youtube] j1mehpweq4g: Downloading webpage\n",
      "[youtube] j1mehpweq4g: Looking for automatic captions\n",
      "[youtube] j1mehpweq4g: Downloading MPD manifest\n",
      "[info] Writing video subtitles to: ../data/downloaded_youtube_transcripts/watch?v=j1mehpweq4g.en.vtt\n"
     ]
    },
    {
     "name": "stderr",
     "output_type": "stream",
     "text": [
      "\r",
      " 34%|███▍      | 63/183 [01:09<02:00,  1.01s/it]"
     ]
    },
    {
     "name": "stdout",
     "output_type": "stream",
     "text": [
      "[youtube] rs9wsvkf7uQ: Downloading webpage\n",
      "[youtube] rs9wsvkf7uQ: Looking for automatic captions\n",
      "[youtube] rs9wsvkf7uQ: Downloading MPD manifest\n",
      "[info] Writing video subtitles to: ../data/downloaded_youtube_transcripts/watch?v=rs9wsvkf7uQ.en.vtt\n"
     ]
    },
    {
     "name": "stderr",
     "output_type": "stream",
     "text": [
      "\r",
      " 35%|███▍      | 64/183 [01:10<02:09,  1.09s/it]"
     ]
    },
    {
     "name": "stdout",
     "output_type": "stream",
     "text": [
      "[youtube] _pkXuC7vsl0: Downloading webpage\n",
      "[youtube] _pkXuC7vsl0: Looking for automatic captions\n",
      "[youtube] _pkXuC7vsl0: Downloading MPD manifest\n",
      "[info] Writing video subtitles to: ../data/downloaded_youtube_transcripts/watch?v=_pkXuC7vsl0.en.vtt\n"
     ]
    },
    {
     "name": "stderr",
     "output_type": "stream",
     "text": [
      "\r",
      " 36%|███▌      | 65/183 [01:11<02:14,  1.14s/it]"
     ]
    },
    {
     "name": "stdout",
     "output_type": "stream",
     "text": [
      "[youtube] 4wTVbzvBH0k: Downloading webpage\n",
      "[youtube] 4wTVbzvBH0k: Looking for automatic captions\n",
      "[info] Writing video subtitles to: ../data/downloaded_youtube_transcripts/watch?v=4wTVbzvBH0k.en.vtt\n"
     ]
    },
    {
     "name": "stderr",
     "output_type": "stream",
     "text": [
      "\r",
      " 36%|███▌      | 66/183 [01:13<02:13,  1.14s/it]"
     ]
    },
    {
     "name": "stdout",
     "output_type": "stream",
     "text": [
      "[youtube] 8K4HW6_MvoU: Downloading webpage\n",
      "[youtube] 8K4HW6_MvoU: Looking for automatic captions\n",
      "[youtube] 8K4HW6_MvoU: Downloading MPD manifest\n",
      "[info] Writing video subtitles to: ../data/downloaded_youtube_transcripts/watch?v=8K4HW6_MvoU.en.vtt\n"
     ]
    },
    {
     "name": "stderr",
     "output_type": "stream",
     "text": [
      "\r",
      " 37%|███▋      | 67/183 [01:14<02:20,  1.21s/it]"
     ]
    },
    {
     "name": "stdout",
     "output_type": "stream",
     "text": [
      "[youtube] yFcqj_ml8dc: Downloading webpage\n",
      "[youtube] yFcqj_ml8dc: Looking for automatic captions\n",
      "[info] Writing video subtitles to: ../data/downloaded_youtube_transcripts/watch?v=yFcqj_ml8dc.en.vtt\n"
     ]
    },
    {
     "name": "stderr",
     "output_type": "stream",
     "text": [
      "\r",
      " 37%|███▋      | 68/183 [01:15<02:07,  1.11s/it]"
     ]
    },
    {
     "name": "stdout",
     "output_type": "stream",
     "text": [
      "[youtube] JfgNaHtoK8M: Downloading webpage\n",
      "[youtube] JfgNaHtoK8M: Looking for automatic captions\n",
      "[youtube] JfgNaHtoK8M: Downloading MPD manifest\n",
      "[info] Writing video subtitles to: ../data/downloaded_youtube_transcripts/watch?v=JfgNaHtoK8M.en.vtt\n"
     ]
    },
    {
     "name": "stderr",
     "output_type": "stream",
     "text": [
      "\r",
      " 38%|███▊      | 69/183 [01:16<02:05,  1.10s/it]"
     ]
    },
    {
     "name": "stdout",
     "output_type": "stream",
     "text": [
      "[youtube] uYD36n3xM7E: Downloading webpage\n",
      "[youtube] uYD36n3xM7E: Looking for automatic captions\n",
      "[youtube] uYD36n3xM7E: Downloading MPD manifest\n",
      "[info] Writing video subtitles to: ../data/downloaded_youtube_transcripts/watch?v=uYD36n3xM7E.en.vtt\n"
     ]
    },
    {
     "name": "stderr",
     "output_type": "stream",
     "text": [
      "\r",
      " 38%|███▊      | 70/183 [01:17<02:06,  1.12s/it]"
     ]
    },
    {
     "name": "stdout",
     "output_type": "stream",
     "text": [
      "[youtube] DcAqhHb5-hk: Downloading webpage\n",
      "[youtube] DcAqhHb5-hk: Looking for automatic captions\n",
      "[youtube] DcAqhHb5-hk: Downloading MPD manifest\n",
      "[info] Writing video subtitles to: ../data/downloaded_youtube_transcripts/watch?v=DcAqhHb5-hk.en.vtt\n"
     ]
    },
    {
     "name": "stderr",
     "output_type": "stream",
     "text": [
      "\r",
      " 39%|███▉      | 71/183 [01:19<02:35,  1.39s/it]"
     ]
    },
    {
     "name": "stdout",
     "output_type": "stream",
     "text": [
      "[youtube] jZ-nv6SUCEs: Downloading webpage\n",
      "[youtube] jZ-nv6SUCEs: Looking for automatic captions\n",
      "[youtube] jZ-nv6SUCEs: Downloading MPD manifest\n",
      "[info] Writing video subtitles to: ../data/downloaded_youtube_transcripts/watch?v=jZ-nv6SUCEs.en.vtt\n"
     ]
    },
    {
     "name": "stderr",
     "output_type": "stream",
     "text": [
      "\r",
      " 39%|███▉      | 72/183 [01:20<02:27,  1.33s/it]"
     ]
    },
    {
     "name": "stdout",
     "output_type": "stream",
     "text": [
      "[youtube] sW5HDbm09ZE: Downloading webpage\n",
      "[youtube] sW5HDbm09ZE: Looking for automatic captions\n",
      "[youtube] sW5HDbm09ZE: Downloading MPD manifest\n",
      "[info] Writing video subtitles to: ../data/downloaded_youtube_transcripts/watch?v=sW5HDbm09ZE.en.vtt\n"
     ]
    },
    {
     "name": "stderr",
     "output_type": "stream",
     "text": [
      "\r",
      " 40%|███▉      | 73/183 [01:22<02:26,  1.33s/it]"
     ]
    },
    {
     "name": "stdout",
     "output_type": "stream",
     "text": [
      "[youtube] fY7al47uKsU: Downloading webpage\n",
      "[youtube] fY7al47uKsU: Looking for automatic captions\n",
      "[youtube] fY7al47uKsU: Downloading MPD manifest\n",
      "[info] Writing video subtitles to: ../data/downloaded_youtube_transcripts/watch?v=fY7al47uKsU.en.vtt\n"
     ]
    },
    {
     "name": "stderr",
     "output_type": "stream",
     "text": [
      "\r",
      " 40%|████      | 74/183 [01:23<02:16,  1.25s/it]"
     ]
    },
    {
     "name": "stdout",
     "output_type": "stream",
     "text": [
      "[youtube] sigXTV5QXik: Downloading webpage\n",
      "[youtube] sigXTV5QXik: Looking for automatic captions\n",
      "[youtube] sigXTV5QXik: Downloading MPD manifest\n",
      "[info] Writing video subtitles to: ../data/downloaded_youtube_transcripts/watch?v=sigXTV5QXik.en.vtt\n"
     ]
    },
    {
     "name": "stderr",
     "output_type": "stream",
     "text": [
      "\r",
      " 41%|████      | 75/183 [01:24<02:11,  1.22s/it]"
     ]
    },
    {
     "name": "stdout",
     "output_type": "stream",
     "text": [
      "[youtube] tnxD2zMc4EE: Downloading webpage\n",
      "[youtube] tnxD2zMc4EE: Looking for automatic captions\n",
      "[youtube] tnxD2zMc4EE: Downloading MPD manifest\n",
      "[info] Writing video subtitles to: ../data/downloaded_youtube_transcripts/watch?v=tnxD2zMc4EE.en.vtt\n"
     ]
    },
    {
     "name": "stderr",
     "output_type": "stream",
     "text": [
      "\r",
      " 42%|████▏     | 76/183 [01:25<02:08,  1.20s/it]"
     ]
    },
    {
     "name": "stdout",
     "output_type": "stream",
     "text": [
      "[youtube] 2S0dS5cd8wU: Downloading webpage\n",
      "[youtube] 2S0dS5cd8wU: Looking for automatic captions\n",
      "[youtube] 2S0dS5cd8wU: Downloading MPD manifest\n",
      "[info] Writing video subtitles to: ../data/downloaded_youtube_transcripts/watch?v=2S0dS5cd8wU.en.vtt\n"
     ]
    },
    {
     "name": "stderr",
     "output_type": "stream",
     "text": [
      "\r",
      " 42%|████▏     | 77/183 [01:26<02:05,  1.19s/it]"
     ]
    },
    {
     "name": "stdout",
     "output_type": "stream",
     "text": [
      "[youtube] VVpD0Jem-DQ: Downloading webpage\n",
      "[youtube] VVpD0Jem-DQ: Looking for automatic captions\n",
      "[youtube] VVpD0Jem-DQ: Downloading MPD manifest\n",
      "[info] Writing video subtitles to: ../data/downloaded_youtube_transcripts/watch?v=VVpD0Jem-DQ.en.vtt\n"
     ]
    },
    {
     "name": "stderr",
     "output_type": "stream",
     "text": [
      "\r",
      " 43%|████▎     | 78/183 [01:27<02:02,  1.17s/it]"
     ]
    },
    {
     "name": "stdout",
     "output_type": "stream",
     "text": [
      "[youtube] 7Thvo91Ed8I: Downloading webpage\n",
      "[youtube] 7Thvo91Ed8I: Looking for automatic captions\n",
      "[youtube] 7Thvo91Ed8I: Downloading MPD manifest\n",
      "[info] Writing video subtitles to: ../data/downloaded_youtube_transcripts/watch?v=7Thvo91Ed8I.en.vtt\n"
     ]
    },
    {
     "name": "stderr",
     "output_type": "stream",
     "text": [
      "\r",
      " 43%|████▎     | 79/183 [01:28<02:03,  1.18s/it]"
     ]
    },
    {
     "name": "stdout",
     "output_type": "stream",
     "text": [
      "[youtube] grTGpx30gc0: Downloading webpage\n",
      "[youtube] grTGpx30gc0: Looking for automatic captions\n",
      "[youtube] grTGpx30gc0: Downloading MPD manifest\n",
      "[info] Writing video subtitles to: ../data/downloaded_youtube_transcripts/watch?v=grTGpx30gc0.en.vtt\n"
     ]
    },
    {
     "name": "stderr",
     "output_type": "stream",
     "text": [
      "\r",
      " 44%|████▎     | 80/183 [01:30<01:59,  1.16s/it]"
     ]
    },
    {
     "name": "stdout",
     "output_type": "stream",
     "text": [
      "[youtube] vxGRTmbBrqg: Downloading webpage\n",
      "[youtube] vxGRTmbBrqg: Looking for automatic captions\n",
      "[youtube] vxGRTmbBrqg: Downloading MPD manifest\n",
      "[info] Writing video subtitles to: ../data/downloaded_youtube_transcripts/watch?v=vxGRTmbBrqg.en.vtt\n"
     ]
    },
    {
     "name": "stderr",
     "output_type": "stream",
     "text": [
      "\r",
      " 44%|████▍     | 81/183 [01:31<02:03,  1.21s/it]"
     ]
    },
    {
     "name": "stdout",
     "output_type": "stream",
     "text": [
      "[youtube] vmSPd0VIK6w: Downloading webpage\n",
      "[youtube] vmSPd0VIK6w: Looking for automatic captions\n",
      "[youtube] vmSPd0VIK6w: Downloading MPD manifest\n",
      "[info] Writing video subtitles to: ../data/downloaded_youtube_transcripts/watch?v=vmSPd0VIK6w.en.vtt\n"
     ]
    },
    {
     "name": "stderr",
     "output_type": "stream",
     "text": [
      "\r",
      " 45%|████▍     | 82/183 [01:32<02:05,  1.24s/it]"
     ]
    },
    {
     "name": "stdout",
     "output_type": "stream",
     "text": [
      "[youtube] tq-DB9Ecn_s: Downloading webpage\n",
      "[youtube] tq-DB9Ecn_s: Looking for automatic captions\n",
      "[info] Writing video subtitles to: ../data/downloaded_youtube_transcripts/watch?v=tq-DB9Ecn_s.en.vtt\n"
     ]
    },
    {
     "name": "stderr",
     "output_type": "stream",
     "text": [
      "\r",
      " 45%|████▌     | 83/183 [01:33<01:50,  1.11s/it]"
     ]
    },
    {
     "name": "stdout",
     "output_type": "stream",
     "text": [
      "[youtube] ygAi4MidIhM: Downloading webpage\n",
      "[youtube] ygAi4MidIhM: Looking for automatic captions\n",
      "[youtube] ygAi4MidIhM: Downloading MPD manifest\n",
      "[info] Writing video subtitles to: ../data/downloaded_youtube_transcripts/watch?v=ygAi4MidIhM.en.vtt\n"
     ]
    },
    {
     "name": "stderr",
     "output_type": "stream",
     "text": [
      "\r",
      " 46%|████▌     | 84/183 [01:34<01:52,  1.14s/it]"
     ]
    },
    {
     "name": "stdout",
     "output_type": "stream",
     "text": [
      "[youtube] hAvkumT_Vzw: Downloading webpage\n",
      "[youtube] hAvkumT_Vzw: Looking for automatic captions\n",
      "[youtube] hAvkumT_Vzw: Downloading MPD manifest\n",
      "[info] Writing video subtitles to: ../data/downloaded_youtube_transcripts/watch?v=hAvkumT_Vzw.en.vtt\n"
     ]
    },
    {
     "name": "stderr",
     "output_type": "stream",
     "text": [
      "\r",
      " 46%|████▋     | 85/183 [01:36<02:00,  1.23s/it]"
     ]
    },
    {
     "name": "stdout",
     "output_type": "stream",
     "text": [
      "[youtube] YfY58kxQi1U: Downloading webpage\n",
      "[youtube] YfY58kxQi1U: Looking for automatic captions\n",
      "[youtube] YfY58kxQi1U: Downloading MPD manifest\n",
      "[info] Writing video subtitles to: ../data/downloaded_youtube_transcripts/watch?v=YfY58kxQi1U.en.vtt\n"
     ]
    },
    {
     "name": "stderr",
     "output_type": "stream",
     "text": [
      "\r",
      " 47%|████▋     | 86/183 [01:37<01:51,  1.15s/it]"
     ]
    },
    {
     "name": "stdout",
     "output_type": "stream",
     "text": [
      "[youtube] -RmT0MJ6_V4: Downloading webpage\n",
      "[youtube] -RmT0MJ6_V4: Looking for automatic captions\n",
      "[youtube] -RmT0MJ6_V4: Downloading MPD manifest\n",
      "[info] Writing video subtitles to: ../data/downloaded_youtube_transcripts/watch?v=-RmT0MJ6_V4.en.vtt\n"
     ]
    },
    {
     "name": "stderr",
     "output_type": "stream",
     "text": [
      "\r",
      " 48%|████▊     | 87/183 [01:38<01:56,  1.21s/it]"
     ]
    },
    {
     "name": "stdout",
     "output_type": "stream",
     "text": [
      "[youtube] iOHVoAhiJcw: Downloading webpage\n",
      "[youtube] iOHVoAhiJcw: Looking for automatic captions\n",
      "[youtube] iOHVoAhiJcw: Downloading MPD manifest\n",
      "[info] Writing video subtitles to: ../data/downloaded_youtube_transcripts/watch?v=iOHVoAhiJcw.en.vtt\n"
     ]
    },
    {
     "name": "stderr",
     "output_type": "stream",
     "text": [
      "\r",
      " 48%|████▊     | 88/183 [01:39<01:51,  1.17s/it]"
     ]
    },
    {
     "name": "stdout",
     "output_type": "stream",
     "text": [
      "[youtube] D1QKYLcvoU8: Downloading webpage\n",
      "[youtube] D1QKYLcvoU8: Looking for automatic captions\n",
      "[youtube] D1QKYLcvoU8: Downloading MPD manifest\n",
      "[info] Writing video subtitles to: ../data/downloaded_youtube_transcripts/watch?v=D1QKYLcvoU8.en.vtt\n"
     ]
    },
    {
     "name": "stderr",
     "output_type": "stream",
     "text": [
      "\r",
      " 49%|████▊     | 89/183 [01:40<01:49,  1.16s/it]"
     ]
    },
    {
     "name": "stdout",
     "output_type": "stream",
     "text": [
      "[youtube] m0bB-OtxvdU: Downloading webpage\n",
      "[youtube] m0bB-OtxvdU: Looking for automatic captions\n",
      "[youtube] m0bB-OtxvdU: Downloading MPD manifest\n",
      "[info] Writing video subtitles to: ../data/downloaded_youtube_transcripts/watch?v=m0bB-OtxvdU.en.vtt\n"
     ]
    },
    {
     "name": "stderr",
     "output_type": "stream",
     "text": [
      "\r",
      " 49%|████▉     | 90/183 [01:41<01:46,  1.15s/it]"
     ]
    },
    {
     "name": "stdout",
     "output_type": "stream",
     "text": [
      "[youtube] 4vNIf0sbvLI: Downloading webpage\n",
      "[youtube] 4vNIf0sbvLI: Looking for automatic captions\n",
      "[youtube] 4vNIf0sbvLI: Downloading MPD manifest\n",
      "[info] Writing video subtitles to: ../data/downloaded_youtube_transcripts/watch?v=4vNIf0sbvLI.en.vtt\n"
     ]
    },
    {
     "name": "stderr",
     "output_type": "stream",
     "text": [
      "\r",
      " 50%|████▉     | 91/183 [01:43<01:48,  1.17s/it]"
     ]
    },
    {
     "name": "stdout",
     "output_type": "stream",
     "text": [
      "[youtube] 2uQrkENebpI: Downloading webpage\n",
      "[youtube] 2uQrkENebpI: Looking for automatic captions\n",
      "[youtube] 2uQrkENebpI: Downloading MPD manifest\n",
      "[info] Writing video subtitles to: ../data/downloaded_youtube_transcripts/watch?v=2uQrkENebpI.en.vtt\n"
     ]
    },
    {
     "name": "stderr",
     "output_type": "stream",
     "text": [
      "\r",
      " 50%|█████     | 92/183 [01:44<01:55,  1.27s/it]"
     ]
    },
    {
     "name": "stdout",
     "output_type": "stream",
     "text": [
      "[youtube] dr2OcD1M2yg: Downloading webpage\n",
      "[youtube] dr2OcD1M2yg: Looking for automatic captions\n"
     ]
    },
    {
     "name": "stderr",
     "output_type": "stream",
     "text": [
      "WARNING: Couldn't find automatic captions for dr2OcD1M2yg\n",
      " 51%|█████     | 93/183 [01:45<01:42,  1.14s/it]"
     ]
    },
    {
     "name": "stdout",
     "output_type": "stream",
     "text": [
      "[youtube] gL93G4IBWZQ: Downloading webpage\n",
      "[youtube] gL93G4IBWZQ: Looking for automatic captions\n",
      "[youtube] gL93G4IBWZQ: Downloading MPD manifest\n",
      "[info] Writing video subtitles to: ../data/downloaded_youtube_transcripts/watch?v=gL93G4IBWZQ.en.vtt\n"
     ]
    },
    {
     "name": "stderr",
     "output_type": "stream",
     "text": [
      "\r",
      " 51%|█████▏    | 94/183 [01:46<01:48,  1.22s/it]"
     ]
    },
    {
     "name": "stdout",
     "output_type": "stream",
     "text": [
      "[youtube] DRiBGBB3kz0: Downloading webpage\n",
      "[youtube] DRiBGBB3kz0: Looking for automatic captions\n",
      "[info] Writing video subtitles to: ../data/downloaded_youtube_transcripts/watch?v=DRiBGBB3kz0.en.vtt\n"
     ]
    },
    {
     "name": "stderr",
     "output_type": "stream",
     "text": [
      "\r",
      " 52%|█████▏    | 95/183 [01:47<01:39,  1.13s/it]"
     ]
    },
    {
     "name": "stdout",
     "output_type": "stream",
     "text": [
      "[youtube] pvTGgLtVDNU: Downloading webpage\n",
      "[youtube] pvTGgLtVDNU: Looking for automatic captions\n",
      "[info] Writing video subtitles to: ../data/downloaded_youtube_transcripts/watch?v=pvTGgLtVDNU.en.vtt\n"
     ]
    },
    {
     "name": "stderr",
     "output_type": "stream",
     "text": [
      "\r",
      " 52%|█████▏    | 96/183 [01:48<01:30,  1.04s/it]"
     ]
    },
    {
     "name": "stdout",
     "output_type": "stream",
     "text": [
      "[youtube] 5NaGm0R7gLA: Downloading webpage\n",
      "[youtube] 5NaGm0R7gLA: Looking for automatic captions\n",
      "[youtube] 5NaGm0R7gLA: Downloading MPD manifest\n",
      "[info] Writing video subtitles to: ../data/downloaded_youtube_transcripts/watch?v=5NaGm0R7gLA.en.vtt\n"
     ]
    },
    {
     "name": "stderr",
     "output_type": "stream",
     "text": [
      "\r",
      " 53%|█████▎    | 97/183 [01:50<01:39,  1.16s/it]"
     ]
    },
    {
     "name": "stdout",
     "output_type": "stream",
     "text": [
      "[youtube] 20ZEaHYs2Gc: Downloading webpage\n",
      "[youtube] 20ZEaHYs2Gc: Looking for automatic captions\n",
      "[info] Writing video subtitles to: ../data/downloaded_youtube_transcripts/watch?v=20ZEaHYs2Gc.en.vtt\n"
     ]
    },
    {
     "name": "stderr",
     "output_type": "stream",
     "text": [
      "\r",
      " 54%|█████▎    | 98/183 [01:50<01:30,  1.06s/it]"
     ]
    },
    {
     "name": "stdout",
     "output_type": "stream",
     "text": [
      "[youtube] pGxc8pyhV2Q: Downloading webpage\n",
      "[youtube] pGxc8pyhV2Q: Looking for automatic captions\n"
     ]
    },
    {
     "name": "stderr",
     "output_type": "stream",
     "text": [
      "WARNING: Couldn't find automatic captions for pGxc8pyhV2Q\n",
      " 54%|█████▍    | 99/183 [01:51<01:22,  1.02it/s]"
     ]
    },
    {
     "name": "stdout",
     "output_type": "stream",
     "text": [
      "[youtube] BnnyyXCl19M: Downloading webpage\n",
      "[youtube] BnnyyXCl19M: Looking for automatic captions\n",
      "[youtube] BnnyyXCl19M: Downloading MPD manifest\n",
      "[info] Writing video subtitles to: ../data/downloaded_youtube_transcripts/watch?v=BnnyyXCl19M.en.vtt\n"
     ]
    },
    {
     "name": "stderr",
     "output_type": "stream",
     "text": [
      "\r",
      " 55%|█████▍    | 100/183 [01:53<01:34,  1.14s/it]"
     ]
    },
    {
     "name": "stdout",
     "output_type": "stream",
     "text": [
      "[youtube] yss0L517rpY: Downloading webpage\n",
      "[youtube] yss0L517rpY: Looking for automatic captions\n",
      "[info] Writing video subtitles to: ../data/downloaded_youtube_transcripts/watch?v=yss0L517rpY.en.vtt\n"
     ]
    },
    {
     "name": "stderr",
     "output_type": "stream",
     "text": [
      "\r",
      " 55%|█████▌    | 101/183 [01:54<01:26,  1.06s/it]"
     ]
    },
    {
     "name": "stdout",
     "output_type": "stream",
     "text": [
      "[youtube] 8ggpUJmOGZ0: Downloading webpage\n",
      "[youtube] 8ggpUJmOGZ0: Looking for automatic captions\n",
      "[youtube] 8ggpUJmOGZ0: Downloading MPD manifest\n",
      "[info] Writing video subtitles to: ../data/downloaded_youtube_transcripts/watch?v=8ggpUJmOGZ0.en.vtt\n"
     ]
    },
    {
     "name": "stderr",
     "output_type": "stream",
     "text": [
      "\r",
      " 56%|█████▌    | 102/183 [01:55<01:29,  1.11s/it]"
     ]
    },
    {
     "name": "stdout",
     "output_type": "stream",
     "text": [
      "[youtube] XUuWWoQTlww: Downloading webpage\n",
      "[youtube] XUuWWoQTlww: Looking for automatic captions\n",
      "[info] Writing video subtitles to: ../data/downloaded_youtube_transcripts/watch?v=XUuWWoQTlww.en.vtt\n"
     ]
    },
    {
     "name": "stderr",
     "output_type": "stream",
     "text": [
      "\r",
      " 56%|█████▋    | 103/183 [01:56<01:23,  1.04s/it]"
     ]
    },
    {
     "name": "stdout",
     "output_type": "stream",
     "text": [
      "[youtube] tBd5VGCKnjA: Downloading webpage\n",
      "[youtube] tBd5VGCKnjA: Looking for automatic captions\n",
      "[info] Writing video subtitles to: ../data/downloaded_youtube_transcripts/watch?v=tBd5VGCKnjA.en.vtt\n"
     ]
    },
    {
     "name": "stderr",
     "output_type": "stream",
     "text": [
      "\r",
      " 57%|█████▋    | 104/183 [01:57<01:18,  1.01it/s]"
     ]
    },
    {
     "name": "stdout",
     "output_type": "stream",
     "text": [
      "[youtube] CK3MRlZLNn0: Downloading webpage\n",
      "[youtube] CK3MRlZLNn0: Looking for automatic captions\n",
      "[youtube] CK3MRlZLNn0: Downloading MPD manifest\n",
      "[info] Writing video subtitles to: ../data/downloaded_youtube_transcripts/watch?v=CK3MRlZLNn0.en.vtt\n"
     ]
    },
    {
     "name": "stderr",
     "output_type": "stream",
     "text": [
      "\r",
      " 57%|█████▋    | 105/183 [01:58<01:23,  1.07s/it]"
     ]
    },
    {
     "name": "stdout",
     "output_type": "stream",
     "text": [
      "[youtube] vIkyD5SV4rI: Downloading webpage\n",
      "[youtube] vIkyD5SV4rI: Looking for automatic captions\n",
      "[youtube] vIkyD5SV4rI: Downloading MPD manifest\n",
      "[info] Writing video subtitles to: ../data/downloaded_youtube_transcripts/watch?v=vIkyD5SV4rI.en.vtt\n"
     ]
    },
    {
     "name": "stderr",
     "output_type": "stream",
     "text": [
      "\r",
      " 58%|█████▊    | 106/183 [01:59<01:23,  1.08s/it]"
     ]
    },
    {
     "name": "stdout",
     "output_type": "stream",
     "text": [
      "[youtube] qxHYVMODCEU: Downloading webpage\n",
      "[youtube] qxHYVMODCEU: Looking for automatic captions\n",
      "[youtube] qxHYVMODCEU: Downloading MPD manifest\n",
      "[info] Writing video subtitles to: ../data/downloaded_youtube_transcripts/watch?v=qxHYVMODCEU.en.vtt\n"
     ]
    },
    {
     "name": "stderr",
     "output_type": "stream",
     "text": [
      "\r",
      " 58%|█████▊    | 107/183 [02:00<01:29,  1.18s/it]"
     ]
    },
    {
     "name": "stdout",
     "output_type": "stream",
     "text": [
      "[youtube] dOcvLQ_H3MI: Downloading webpage\n",
      "[youtube] dOcvLQ_H3MI: Looking for automatic captions\n"
     ]
    },
    {
     "name": "stderr",
     "output_type": "stream",
     "text": [
      "WARNING: Couldn't find automatic captions for dOcvLQ_H3MI\n",
      " 59%|█████▉    | 108/183 [02:01<01:20,  1.07s/it]"
     ]
    },
    {
     "name": "stdout",
     "output_type": "stream",
     "text": [
      "[youtube] Pb1b2D26QsQ: Downloading webpage\n",
      "[youtube] Pb1b2D26QsQ: Looking for automatic captions\n",
      "[info] Writing video subtitles to: ../data/downloaded_youtube_transcripts/watch?v=Pb1b2D26QsQ.en.vtt\n"
     ]
    },
    {
     "name": "stderr",
     "output_type": "stream",
     "text": [
      "\r",
      " 60%|█████▉    | 109/183 [02:02<01:16,  1.04s/it]"
     ]
    },
    {
     "name": "stdout",
     "output_type": "stream",
     "text": [
      "[youtube] yjYXnf6OTyM: Downloading webpage\n",
      "[youtube] yjYXnf6OTyM: Looking for automatic captions\n",
      "[youtube] yjYXnf6OTyM: Downloading MPD manifest\n",
      "[info] Writing video subtitles to: ../data/downloaded_youtube_transcripts/watch?v=yjYXnf6OTyM.en.vtt\n"
     ]
    },
    {
     "name": "stderr",
     "output_type": "stream",
     "text": [
      "\r",
      " 60%|██████    | 110/183 [02:03<01:21,  1.11s/it]"
     ]
    },
    {
     "name": "stdout",
     "output_type": "stream",
     "text": [
      "[youtube] lz-1Jrma98Y: Downloading webpage\n",
      "[youtube] lz-1Jrma98Y: Looking for automatic captions\n",
      "[info] Writing video subtitles to: ../data/downloaded_youtube_transcripts/watch?v=lz-1Jrma98Y.en.vtt\n"
     ]
    },
    {
     "name": "stderr",
     "output_type": "stream",
     "text": [
      "\r",
      " 61%|██████    | 111/183 [02:04<01:14,  1.03s/it]"
     ]
    },
    {
     "name": "stdout",
     "output_type": "stream",
     "text": [
      "[youtube] tPiEd3UmoQ0: Downloading webpage\n",
      "[youtube] tPiEd3UmoQ0: Looking for automatic captions\n",
      "[info] Writing video subtitles to: ../data/downloaded_youtube_transcripts/watch?v=tPiEd3UmoQ0.en.vtt\n"
     ]
    },
    {
     "name": "stderr",
     "output_type": "stream",
     "text": [
      "\r",
      " 61%|██████    | 112/183 [02:05<01:10,  1.01it/s]"
     ]
    },
    {
     "name": "stdout",
     "output_type": "stream",
     "text": [
      "[youtube] IL4tUxv9Cvc: Downloading webpage\n",
      "[youtube] IL4tUxv9Cvc: Looking for automatic captions\n",
      "[info] Writing video subtitles to: ../data/downloaded_youtube_transcripts/watch?v=IL4tUxv9Cvc.en.vtt\n"
     ]
    },
    {
     "name": "stderr",
     "output_type": "stream",
     "text": [
      "\r",
      " 62%|██████▏   | 113/183 [02:06<01:08,  1.01it/s]"
     ]
    },
    {
     "name": "stdout",
     "output_type": "stream",
     "text": [
      "[youtube] I2Zv4Wn6qec: Downloading webpage\n",
      "[youtube] I2Zv4Wn6qec: Looking for automatic captions\n",
      "[info] Writing video subtitles to: ../data/downloaded_youtube_transcripts/watch?v=I2Zv4Wn6qec.en.vtt\n"
     ]
    },
    {
     "name": "stderr",
     "output_type": "stream",
     "text": [
      "\r",
      " 62%|██████▏   | 114/183 [02:07<01:05,  1.05it/s]"
     ]
    },
    {
     "name": "stdout",
     "output_type": "stream",
     "text": [
      "[youtube] 55eA006twRA: Downloading webpage\n",
      "[youtube] 55eA006twRA: Looking for automatic captions\n",
      "[info] Writing video subtitles to: ../data/downloaded_youtube_transcripts/watch?v=55eA006twRA.en.vtt\n"
     ]
    },
    {
     "name": "stderr",
     "output_type": "stream",
     "text": [
      "\r",
      " 63%|██████▎   | 115/183 [02:08<01:00,  1.12it/s]"
     ]
    },
    {
     "name": "stdout",
     "output_type": "stream",
     "text": [
      "[youtube] wm6aqWjh2aQ: Downloading webpage\n",
      "[youtube] wm6aqWjh2aQ: Looking for automatic captions\n",
      "[info] Writing video subtitles to: ../data/downloaded_youtube_transcripts/watch?v=wm6aqWjh2aQ.en.vtt\n"
     ]
    },
    {
     "name": "stderr",
     "output_type": "stream",
     "text": [
      "\r",
      " 63%|██████▎   | 116/183 [02:09<00:59,  1.12it/s]"
     ]
    },
    {
     "name": "stdout",
     "output_type": "stream",
     "text": [
      "[youtube] Qa_qH0DiAh4: Downloading webpage\n",
      "[youtube] Qa_qH0DiAh4: Looking for automatic captions\n",
      "[info] Writing video subtitles to: ../data/downloaded_youtube_transcripts/watch?v=Qa_qH0DiAh4.en.vtt\n"
     ]
    },
    {
     "name": "stderr",
     "output_type": "stream",
     "text": [
      "\r",
      " 64%|██████▍   | 117/183 [02:09<00:56,  1.17it/s]"
     ]
    },
    {
     "name": "stdout",
     "output_type": "stream",
     "text": [
      "[youtube] Bj1KRDVfjGY: Downloading webpage\n",
      "[youtube] Bj1KRDVfjGY: Looking for automatic captions\n",
      "[info] Writing video subtitles to: ../data/downloaded_youtube_transcripts/watch?v=Bj1KRDVfjGY.en.vtt\n"
     ]
    },
    {
     "name": "stderr",
     "output_type": "stream",
     "text": [
      "\r",
      " 64%|██████▍   | 118/183 [02:10<00:58,  1.11it/s]"
     ]
    },
    {
     "name": "stdout",
     "output_type": "stream",
     "text": [
      "[youtube] CCdb-WW2TIA: Downloading webpage\n",
      "[youtube] CCdb-WW2TIA: Looking for automatic captions\n",
      "[info] Writing video subtitles to: ../data/downloaded_youtube_transcripts/watch?v=CCdb-WW2TIA.en.vtt\n"
     ]
    },
    {
     "name": "stderr",
     "output_type": "stream",
     "text": [
      "\r",
      " 65%|██████▌   | 119/183 [02:11<00:56,  1.14it/s]"
     ]
    },
    {
     "name": "stdout",
     "output_type": "stream",
     "text": [
      "[youtube] RgClih-JLMg: Downloading webpage\n",
      "[youtube] RgClih-JLMg: Looking for automatic captions\n"
     ]
    },
    {
     "name": "stderr",
     "output_type": "stream",
     "text": [
      "WARNING: Couldn't find automatic captions for RgClih-JLMg\n",
      " 66%|██████▌   | 120/183 [02:12<00:53,  1.17it/s]"
     ]
    },
    {
     "name": "stdout",
     "output_type": "stream",
     "text": [
      "[youtube] Xl9K_9sVGHM: Downloading webpage\n",
      "[youtube] Xl9K_9sVGHM: Looking for automatic captions\n",
      "[youtube] Xl9K_9sVGHM: Downloading MPD manifest\n",
      "[info] Writing video subtitles to: ../data/downloaded_youtube_transcripts/watch?v=Xl9K_9sVGHM.en.vtt\n"
     ]
    },
    {
     "name": "stderr",
     "output_type": "stream",
     "text": [
      "\r",
      " 66%|██████▌   | 121/183 [02:13<01:00,  1.02it/s]"
     ]
    },
    {
     "name": "stdout",
     "output_type": "stream",
     "text": [
      "[youtube] aqH93erFkdI: Downloading webpage\n",
      "[youtube] aqH93erFkdI: Looking for automatic captions\n"
     ]
    },
    {
     "name": "stderr",
     "output_type": "stream",
     "text": [
      "WARNING: Couldn't find automatic captions for aqH93erFkdI\n"
     ]
    },
    {
     "name": "stdout",
     "output_type": "stream",
     "text": [
      "[youtube] aqH93erFkdI: Downloading MPD manifest\n"
     ]
    },
    {
     "name": "stderr",
     "output_type": "stream",
     "text": [
      "\r",
      " 67%|██████▋   | 122/183 [02:14<01:04,  1.05s/it]"
     ]
    },
    {
     "name": "stdout",
     "output_type": "stream",
     "text": [
      "[youtube] fFq8KnuVkRg: Downloading webpage\n",
      "[youtube] fFq8KnuVkRg: Looking for automatic captions\n",
      "[info] Writing video subtitles to: ../data/downloaded_youtube_transcripts/watch?v=fFq8KnuVkRg.en.vtt\n"
     ]
    },
    {
     "name": "stderr",
     "output_type": "stream",
     "text": [
      "\r",
      " 67%|██████▋   | 123/183 [02:15<01:01,  1.03s/it]"
     ]
    },
    {
     "name": "stdout",
     "output_type": "stream",
     "text": [
      "[youtube] nXJpZNQuSTk: Downloading webpage\n",
      "[youtube] nXJpZNQuSTk: Looking for automatic captions\n",
      "[info] Writing video subtitles to: ../data/downloaded_youtube_transcripts/watch?v=nXJpZNQuSTk.en.vtt\n"
     ]
    },
    {
     "name": "stderr",
     "output_type": "stream",
     "text": [
      "\r",
      " 68%|██████▊   | 124/183 [02:16<00:58,  1.01it/s]"
     ]
    },
    {
     "name": "stdout",
     "output_type": "stream",
     "text": [
      "[youtube] nFwAiO22g4Y: Downloading webpage\n",
      "[youtube] nFwAiO22g4Y: Looking for automatic captions\n",
      "[info] Writing video subtitles to: ../data/downloaded_youtube_transcripts/watch?v=nFwAiO22g4Y.en.vtt\n"
     ]
    },
    {
     "name": "stderr",
     "output_type": "stream",
     "text": [
      "\r",
      " 68%|██████▊   | 125/183 [02:17<00:55,  1.05it/s]"
     ]
    },
    {
     "name": "stdout",
     "output_type": "stream",
     "text": [
      "[youtube] _gPcDRVALVo: Downloading webpage\n",
      "[youtube] _gPcDRVALVo: Looking for automatic captions\n",
      "[info] Writing video subtitles to: ../data/downloaded_youtube_transcripts/watch?v=_gPcDRVALVo.en.vtt\n"
     ]
    },
    {
     "name": "stderr",
     "output_type": "stream",
     "text": [
      "\r",
      " 69%|██████▉   | 126/183 [02:18<00:53,  1.06it/s]"
     ]
    },
    {
     "name": "stdout",
     "output_type": "stream",
     "text": [
      "[youtube] x0Iky4NWN2U: Downloading webpage\n",
      "[youtube] x0Iky4NWN2U: Looking for automatic captions\n",
      "[info] Writing video subtitles to: ../data/downloaded_youtube_transcripts/watch?v=x0Iky4NWN2U.en.vtt\n"
     ]
    },
    {
     "name": "stderr",
     "output_type": "stream",
     "text": [
      "\r",
      " 69%|██████▉   | 127/183 [02:19<00:51,  1.08it/s]"
     ]
    },
    {
     "name": "stdout",
     "output_type": "stream",
     "text": [
      "[youtube] uriVBFB1oOI: Downloading webpage\n",
      "[youtube] uriVBFB1oOI: Looking for automatic captions\n",
      "[info] Writing video subtitles to: ../data/downloaded_youtube_transcripts/watch?v=uriVBFB1oOI.en.vtt\n"
     ]
    },
    {
     "name": "stderr",
     "output_type": "stream",
     "text": [
      "\r",
      " 70%|██████▉   | 128/183 [02:20<00:54,  1.01it/s]"
     ]
    },
    {
     "name": "stdout",
     "output_type": "stream",
     "text": [
      "[youtube] ofnnuwscA1Y: Downloading webpage\n",
      "[youtube] ofnnuwscA1Y: Looking for automatic captions\n",
      "[info] Writing video subtitles to: ../data/downloaded_youtube_transcripts/watch?v=ofnnuwscA1Y.en.vtt\n"
     ]
    },
    {
     "name": "stderr",
     "output_type": "stream",
     "text": [
      "\r",
      " 70%|███████   | 129/183 [02:21<00:52,  1.03it/s]"
     ]
    },
    {
     "name": "stdout",
     "output_type": "stream",
     "text": [
      "[youtube] kuhImFdGW_w: Downloading webpage\n",
      "[youtube] kuhImFdGW_w: Looking for automatic captions\n",
      "[info] Writing video subtitles to: ../data/downloaded_youtube_transcripts/watch?v=kuhImFdGW_w.en.vtt\n"
     ]
    },
    {
     "name": "stderr",
     "output_type": "stream",
     "text": [
      "\r",
      " 71%|███████   | 130/183 [02:22<00:48,  1.08it/s]"
     ]
    },
    {
     "name": "stdout",
     "output_type": "stream",
     "text": [
      "[youtube] 9ZuwEWLHHHY: Downloading webpage\n",
      "[youtube] 9ZuwEWLHHHY: Looking for automatic captions\n",
      "[info] Writing video subtitles to: ../data/downloaded_youtube_transcripts/watch?v=9ZuwEWLHHHY.en.vtt\n"
     ]
    },
    {
     "name": "stderr",
     "output_type": "stream",
     "text": [
      "\r",
      " 72%|███████▏  | 131/183 [02:23<00:47,  1.09it/s]"
     ]
    },
    {
     "name": "stdout",
     "output_type": "stream",
     "text": [
      "[youtube] n45JvRBYiaM: Downloading webpage\n",
      "[youtube] n45JvRBYiaM: Looking for automatic captions\n",
      "[youtube] n45JvRBYiaM: Downloading MPD manifest\n",
      "[info] Writing video subtitles to: ../data/downloaded_youtube_transcripts/watch?v=n45JvRBYiaM.en.vtt\n"
     ]
    },
    {
     "name": "stderr",
     "output_type": "stream",
     "text": [
      "\r",
      " 72%|███████▏  | 132/183 [02:24<00:51,  1.01s/it]"
     ]
    },
    {
     "name": "stdout",
     "output_type": "stream",
     "text": [
      "[youtube] omYrmwVlKsI: Downloading webpage\n",
      "[youtube] omYrmwVlKsI: Looking for automatic captions\n",
      "[info] Writing video subtitles to: ../data/downloaded_youtube_transcripts/watch?v=omYrmwVlKsI.en.vtt\n"
     ]
    },
    {
     "name": "stderr",
     "output_type": "stream",
     "text": [
      "\r",
      " 73%|███████▎  | 133/183 [02:25<00:47,  1.05it/s]"
     ]
    },
    {
     "name": "stdout",
     "output_type": "stream",
     "text": [
      "[youtube] dUFrZARqGfU: Downloading webpage\n",
      "[youtube] dUFrZARqGfU: Looking for automatic captions\n",
      "[youtube] dUFrZARqGfU: Downloading MPD manifest\n",
      "[info] Writing video subtitles to: ../data/downloaded_youtube_transcripts/watch?v=dUFrZARqGfU.en.vtt\n"
     ]
    },
    {
     "name": "stderr",
     "output_type": "stream",
     "text": [
      "\r",
      " 73%|███████▎  | 134/183 [02:26<00:48,  1.02it/s]"
     ]
    },
    {
     "name": "stdout",
     "output_type": "stream",
     "text": [
      "[youtube] 7Ibb68uVXEg: Downloading webpage\n",
      "[youtube] 7Ibb68uVXEg: Looking for automatic captions\n"
     ]
    },
    {
     "name": "stderr",
     "output_type": "stream",
     "text": [
      "WARNING: Couldn't find automatic captions for 7Ibb68uVXEg\n",
      " 74%|███████▍  | 135/183 [02:27<00:44,  1.08it/s]"
     ]
    },
    {
     "name": "stdout",
     "output_type": "stream",
     "text": [
      "[youtube] Kusv2J0M19E: Downloading webpage\n",
      "[youtube] Kusv2J0M19E: Looking for automatic captions\n",
      "[info] Writing video subtitles to: ../data/downloaded_youtube_transcripts/watch?v=Kusv2J0M19E.en.vtt\n"
     ]
    },
    {
     "name": "stderr",
     "output_type": "stream",
     "text": [
      "\r",
      " 74%|███████▍  | 136/183 [02:28<00:49,  1.05s/it]"
     ]
    },
    {
     "name": "stdout",
     "output_type": "stream",
     "text": [
      "[youtube] ZAOwjnqVUnM: Downloading webpage\n",
      "[youtube] ZAOwjnqVUnM: Looking for automatic captions\n",
      "[youtube] ZAOwjnqVUnM: Downloading MPD manifest\n",
      "[info] Writing video subtitles to: ../data/downloaded_youtube_transcripts/watch?v=ZAOwjnqVUnM.en.vtt\n"
     ]
    },
    {
     "name": "stderr",
     "output_type": "stream",
     "text": [
      "\r",
      " 75%|███████▍  | 137/183 [02:29<00:50,  1.11s/it]"
     ]
    },
    {
     "name": "stdout",
     "output_type": "stream",
     "text": [
      "[youtube] OPCYGqzf7Us: Downloading webpage\n",
      "[youtube] OPCYGqzf7Us: Looking for automatic captions\n",
      "[info] Writing video subtitles to: ../data/downloaded_youtube_transcripts/watch?v=OPCYGqzf7Us.en.vtt\n"
     ]
    },
    {
     "name": "stderr",
     "output_type": "stream",
     "text": [
      "\r",
      " 75%|███████▌  | 138/183 [02:30<00:48,  1.08s/it]"
     ]
    },
    {
     "name": "stdout",
     "output_type": "stream",
     "text": [
      "[youtube] eIDhKWAsWuY: Downloading webpage\n",
      "[youtube] eIDhKWAsWuY: Looking for automatic captions\n",
      "[info] Writing video subtitles to: ../data/downloaded_youtube_transcripts/watch?v=eIDhKWAsWuY.en.vtt\n"
     ]
    },
    {
     "name": "stderr",
     "output_type": "stream",
     "text": [
      "\r",
      " 76%|███████▌  | 139/183 [02:31<00:45,  1.04s/it]"
     ]
    },
    {
     "name": "stdout",
     "output_type": "stream",
     "text": [
      "[youtube] hdUnCj05RMs: Downloading webpage\n",
      "[youtube] hdUnCj05RMs: Looking for automatic captions\n",
      "[info] Writing video subtitles to: ../data/downloaded_youtube_transcripts/watch?v=hdUnCj05RMs.en.vtt\n"
     ]
    },
    {
     "name": "stderr",
     "output_type": "stream",
     "text": [
      "\r",
      " 77%|███████▋  | 140/183 [02:32<00:44,  1.03s/it]"
     ]
    },
    {
     "name": "stdout",
     "output_type": "stream",
     "text": [
      "[youtube] 88qr91P1lsA: Downloading webpage\n",
      "[youtube] 88qr91P1lsA: Looking for automatic captions\n",
      "[youtube] 88qr91P1lsA: Downloading MPD manifest\n",
      "[info] Writing video subtitles to: ../data/downloaded_youtube_transcripts/watch?v=88qr91P1lsA.en.vtt\n"
     ]
    },
    {
     "name": "stderr",
     "output_type": "stream",
     "text": [
      "\r",
      " 77%|███████▋  | 141/183 [02:33<00:45,  1.09s/it]"
     ]
    },
    {
     "name": "stdout",
     "output_type": "stream",
     "text": [
      "[youtube] E9mZ3915tdU: Downloading webpage\n",
      "[youtube] E9mZ3915tdU: Looking for automatic captions\n",
      "[info] Writing video subtitles to: ../data/downloaded_youtube_transcripts/watch?v=E9mZ3915tdU.en.vtt\n"
     ]
    },
    {
     "name": "stderr",
     "output_type": "stream",
     "text": [
      "\r",
      " 78%|███████▊  | 142/183 [02:34<00:43,  1.05s/it]"
     ]
    },
    {
     "name": "stdout",
     "output_type": "stream",
     "text": [
      "[youtube] oeboLKNV3PQ: Downloading webpage\n",
      "[youtube] oeboLKNV3PQ: Looking for automatic captions\n",
      "[info] Writing video subtitles to: ../data/downloaded_youtube_transcripts/watch?v=oeboLKNV3PQ.en.vtt\n"
     ]
    },
    {
     "name": "stderr",
     "output_type": "stream",
     "text": [
      "\r",
      " 78%|███████▊  | 143/183 [02:35<00:40,  1.01s/it]"
     ]
    },
    {
     "name": "stdout",
     "output_type": "stream",
     "text": [
      "[youtube] lPXAJ1S74Ws: Downloading webpage\n",
      "[youtube] lPXAJ1S74Ws: Looking for automatic captions\n",
      "[info] Writing video subtitles to: ../data/downloaded_youtube_transcripts/watch?v=lPXAJ1S74Ws.en.vtt\n"
     ]
    },
    {
     "name": "stderr",
     "output_type": "stream",
     "text": [
      "\r",
      " 79%|███████▊  | 144/183 [02:36<00:38,  1.01it/s]"
     ]
    },
    {
     "name": "stdout",
     "output_type": "stream",
     "text": [
      "[youtube] XtdH-1ZMNxw: Downloading webpage\n",
      "[youtube] XtdH-1ZMNxw: Looking for automatic captions\n",
      "[info] Writing video subtitles to: ../data/downloaded_youtube_transcripts/watch?v=XtdH-1ZMNxw.en.vtt\n"
     ]
    },
    {
     "name": "stderr",
     "output_type": "stream",
     "text": [
      "\r",
      " 79%|███████▉  | 145/183 [02:37<00:36,  1.04it/s]"
     ]
    },
    {
     "name": "stdout",
     "output_type": "stream",
     "text": [
      "[youtube] PETvBmNlGtg: Downloading webpage\n",
      "[youtube] PETvBmNlGtg: Looking for automatic captions\n",
      "[youtube] PETvBmNlGtg: Downloading MPD manifest\n",
      "[info] Writing video subtitles to: ../data/downloaded_youtube_transcripts/watch?v=PETvBmNlGtg.en.vtt\n"
     ]
    },
    {
     "name": "stderr",
     "output_type": "stream",
     "text": [
      "\r",
      " 80%|███████▉  | 146/183 [02:39<00:41,  1.13s/it]"
     ]
    },
    {
     "name": "stdout",
     "output_type": "stream",
     "text": [
      "[youtube] Meti4lv3pYs: Downloading webpage\n",
      "[youtube] Meti4lv3pYs: Looking for automatic captions\n",
      "[youtube] Meti4lv3pYs: Downloading MPD manifest\n",
      "[info] Writing video subtitles to: ../data/downloaded_youtube_transcripts/watch?v=Meti4lv3pYs.en.vtt\n"
     ]
    },
    {
     "name": "stderr",
     "output_type": "stream",
     "text": [
      "\r",
      " 80%|████████  | 147/183 [02:40<00:47,  1.33s/it]"
     ]
    },
    {
     "name": "stdout",
     "output_type": "stream",
     "text": [
      "[youtube] XH2tF8oB3cw: Downloading webpage\n",
      "[youtube] XH2tF8oB3cw: Looking for automatic captions\n",
      "[info] Writing video subtitles to: ../data/downloaded_youtube_transcripts/watch?v=XH2tF8oB3cw.en.vtt\n"
     ]
    },
    {
     "name": "stderr",
     "output_type": "stream",
     "text": [
      "\r",
      " 81%|████████  | 148/183 [02:42<00:51,  1.48s/it]"
     ]
    },
    {
     "name": "stdout",
     "output_type": "stream",
     "text": [
      "[youtube] x7HJmVx3qN4: Downloading webpage\n",
      "[youtube] x7HJmVx3qN4: Looking for automatic captions\n",
      "[info] Writing video subtitles to: ../data/downloaded_youtube_transcripts/watch?v=x7HJmVx3qN4.en.vtt\n"
     ]
    },
    {
     "name": "stderr",
     "output_type": "stream",
     "text": [
      "\r",
      " 81%|████████▏ | 149/183 [02:44<00:52,  1.53s/it]"
     ]
    },
    {
     "name": "stdout",
     "output_type": "stream",
     "text": [
      "[youtube] mpE-oaix5kA: Downloading webpage\n",
      "[youtube] mpE-oaix5kA: Looking for automatic captions\n"
     ]
    },
    {
     "name": "stderr",
     "output_type": "stream",
     "text": [
      "WARNING: Couldn't find automatic captions for mpE-oaix5kA\n",
      " 82%|████████▏ | 150/183 [02:45<00:45,  1.38s/it]"
     ]
    },
    {
     "name": "stdout",
     "output_type": "stream",
     "text": [
      "[youtube] 4wTVbzvBH0k: Downloading webpage\n",
      "[youtube] 4wTVbzvBH0k: Looking for automatic captions\n",
      "[info] Writing video subtitles to: ../data/downloaded_youtube_transcripts/watch?v=4wTVbzvBH0k.en.vtt\n"
     ]
    },
    {
     "name": "stderr",
     "output_type": "stream",
     "text": [
      "\r",
      " 83%|████████▎ | 151/183 [02:46<00:43,  1.35s/it]"
     ]
    },
    {
     "name": "stdout",
     "output_type": "stream",
     "text": [
      "[youtube] JKUFWK6iSsw: Downloading webpage\n",
      "[youtube] JKUFWK6iSsw: Looking for automatic captions\n"
     ]
    },
    {
     "name": "stderr",
     "output_type": "stream",
     "text": [
      "WARNING: Couldn't find automatic captions for JKUFWK6iSsw\n",
      " 83%|████████▎ | 152/183 [02:47<00:36,  1.19s/it]"
     ]
    },
    {
     "name": "stdout",
     "output_type": "stream",
     "text": [
      "[youtube] 7LD8iC4NqXM: Downloading webpage\n",
      "[youtube] 7LD8iC4NqXM: Looking for automatic captions\n",
      "[info] Writing video subtitles to: ../data/downloaded_youtube_transcripts/watch?v=7LD8iC4NqXM.en.vtt\n"
     ]
    },
    {
     "name": "stderr",
     "output_type": "stream",
     "text": [
      "\r",
      " 84%|████████▎ | 153/183 [02:48<00:36,  1.23s/it]"
     ]
    },
    {
     "name": "stdout",
     "output_type": "stream",
     "text": [
      "[youtube] zdsaW_TSzHU: Downloading webpage\n",
      "[youtube] zdsaW_TSzHU: Looking for automatic captions\n",
      "[info] Writing video subtitles to: ../data/downloaded_youtube_transcripts/watch?v=zdsaW_TSzHU.en.vtt\n"
     ]
    },
    {
     "name": "stderr",
     "output_type": "stream",
     "text": [
      "\r",
      " 84%|████████▍ | 154/183 [02:50<00:39,  1.36s/it]"
     ]
    },
    {
     "name": "stdout",
     "output_type": "stream",
     "text": [
      "[youtube] _H6w9Of_vPA: Downloading webpage\n",
      "[youtube] _H6w9Of_vPA: Looking for automatic captions\n",
      "[info] Writing video subtitles to: ../data/downloaded_youtube_transcripts/watch?v=_H6w9Of_vPA.en.vtt\n"
     ]
    },
    {
     "name": "stderr",
     "output_type": "stream",
     "text": [
      "\r",
      " 85%|████████▍ | 155/183 [02:51<00:34,  1.22s/it]"
     ]
    },
    {
     "name": "stdout",
     "output_type": "stream",
     "text": [
      "[youtube] PZi1Vl2p8xw: Downloading webpage\n",
      "[youtube] PZi1Vl2p8xw: Looking for automatic captions\n",
      "[info] Writing video subtitles to: ../data/downloaded_youtube_transcripts/watch?v=PZi1Vl2p8xw.en.vtt\n"
     ]
    },
    {
     "name": "stderr",
     "output_type": "stream",
     "text": [
      "\r",
      " 85%|████████▌ | 156/183 [02:52<00:32,  1.19s/it]"
     ]
    },
    {
     "name": "stdout",
     "output_type": "stream",
     "text": [
      "[youtube] RybY4zIecQ4: Downloading webpage\n",
      "[youtube] RybY4zIecQ4: Looking for automatic captions\n",
      "[info] Writing video subtitles to: ../data/downloaded_youtube_transcripts/watch?v=RybY4zIecQ4.en.vtt\n"
     ]
    },
    {
     "name": "stderr",
     "output_type": "stream",
     "text": [
      "\r",
      " 86%|████████▌ | 157/183 [02:53<00:28,  1.08s/it]"
     ]
    },
    {
     "name": "stdout",
     "output_type": "stream",
     "text": [
      "[youtube] 8aDFvvjC6XM: Downloading webpage\n",
      "[youtube] 8aDFvvjC6XM: Looking for automatic captions\n",
      "[info] Writing video subtitles to: ../data/downloaded_youtube_transcripts/watch?v=8aDFvvjC6XM.en.vtt\n"
     ]
    },
    {
     "name": "stderr",
     "output_type": "stream",
     "text": [
      "\r",
      " 86%|████████▋ | 158/183 [02:54<00:26,  1.07s/it]"
     ]
    },
    {
     "name": "stdout",
     "output_type": "stream",
     "text": [
      "[youtube] 5l6mwfsmnBU: Downloading webpage\n",
      "[youtube] 5l6mwfsmnBU: Looking for automatic captions\n",
      "[info] Writing video subtitles to: ../data/downloaded_youtube_transcripts/watch?v=5l6mwfsmnBU.en.vtt\n"
     ]
    },
    {
     "name": "stderr",
     "output_type": "stream",
     "text": [
      "\r",
      " 87%|████████▋ | 159/183 [02:55<00:25,  1.05s/it]"
     ]
    },
    {
     "name": "stdout",
     "output_type": "stream",
     "text": [
      "[youtube] MyXdvt4_AZA: Downloading webpage\n",
      "[youtube] MyXdvt4_AZA: Looking for automatic captions\n",
      "[info] Writing video subtitles to: ../data/downloaded_youtube_transcripts/watch?v=MyXdvt4_AZA.en.vtt\n"
     ]
    },
    {
     "name": "stderr",
     "output_type": "stream",
     "text": [
      "\r",
      " 87%|████████▋ | 160/183 [02:56<00:22,  1.02it/s]"
     ]
    },
    {
     "name": "stdout",
     "output_type": "stream",
     "text": [
      "[youtube] z9fF9F5w1cI: Downloading webpage\n",
      "[youtube] z9fF9F5w1cI: Looking for automatic captions\n",
      "[info] Writing video subtitles to: ../data/downloaded_youtube_transcripts/watch?v=z9fF9F5w1cI.en.vtt\n"
     ]
    },
    {
     "name": "stderr",
     "output_type": "stream",
     "text": [
      "\r",
      " 88%|████████▊ | 161/183 [02:57<00:21,  1.04it/s]"
     ]
    },
    {
     "name": "stdout",
     "output_type": "stream",
     "text": [
      "[youtube] gbBn8EzZx3w: Downloading webpage\n",
      "[youtube] gbBn8EzZx3w: Looking for automatic captions\n",
      "[youtube] gbBn8EzZx3w: Downloading MPD manifest\n",
      "[info] Writing video subtitles to: ../data/downloaded_youtube_transcripts/watch?v=gbBn8EzZx3w.en.vtt\n"
     ]
    },
    {
     "name": "stderr",
     "output_type": "stream",
     "text": [
      "\r",
      " 89%|████████▊ | 162/183 [02:58<00:22,  1.09s/it]"
     ]
    },
    {
     "name": "stdout",
     "output_type": "stream",
     "text": [
      "[youtube] jQgkVKGqBCE: Downloading webpage\n",
      "[youtube] jQgkVKGqBCE: Looking for automatic captions\n",
      "[info] Writing video subtitles to: ../data/downloaded_youtube_transcripts/watch?v=jQgkVKGqBCE.en.vtt\n"
     ]
    },
    {
     "name": "stderr",
     "output_type": "stream",
     "text": [
      "\r",
      " 89%|████████▉ | 163/183 [02:59<00:20,  1.03s/it]"
     ]
    },
    {
     "name": "stdout",
     "output_type": "stream",
     "text": [
      "[youtube] OPCYGqzf7Us: Downloading webpage\n",
      "[youtube] OPCYGqzf7Us: Looking for automatic captions\n",
      "[info] Writing video subtitles to: ../data/downloaded_youtube_transcripts/watch?v=OPCYGqzf7Us.en.vtt\n"
     ]
    },
    {
     "name": "stderr",
     "output_type": "stream",
     "text": [
      "\r",
      " 90%|████████▉ | 164/183 [03:00<00:18,  1.02it/s]"
     ]
    },
    {
     "name": "stdout",
     "output_type": "stream",
     "text": [
      "[youtube] pGxc8pyhV2Q: Downloading webpage\n",
      "[youtube] pGxc8pyhV2Q: Looking for automatic captions\n"
     ]
    },
    {
     "name": "stderr",
     "output_type": "stream",
     "text": [
      "WARNING: Couldn't find automatic captions for pGxc8pyhV2Q\n",
      " 90%|█████████ | 165/183 [03:01<00:16,  1.07it/s]"
     ]
    },
    {
     "name": "stdout",
     "output_type": "stream",
     "text": [
      "[youtube] jm6PG989Q_0: Downloading webpage\n",
      "[youtube] jm6PG989Q_0: Looking for automatic captions\n",
      "[info] Writing video subtitles to: ../data/downloaded_youtube_transcripts/watch?v=jm6PG989Q_0.en.vtt\n"
     ]
    },
    {
     "name": "stderr",
     "output_type": "stream",
     "text": [
      "\r",
      " 91%|█████████ | 166/183 [03:02<00:15,  1.06it/s]"
     ]
    },
    {
     "name": "stdout",
     "output_type": "stream",
     "text": [
      "[youtube] zyIN61kQ6VY: Downloading webpage\n",
      "[youtube] zyIN61kQ6VY: Looking for automatic captions\n",
      "[info] Writing video subtitles to: ../data/downloaded_youtube_transcripts/watch?v=zyIN61kQ6VY.en.vtt\n"
     ]
    },
    {
     "name": "stderr",
     "output_type": "stream",
     "text": [
      "\r",
      " 91%|█████████▏| 167/183 [03:03<00:15,  1.03it/s]"
     ]
    },
    {
     "name": "stdout",
     "output_type": "stream",
     "text": [
      "[youtube] Um_VnB43rLw: Downloading webpage\n",
      "[youtube] Um_VnB43rLw: Looking for automatic captions\n",
      "[info] Writing video subtitles to: ../data/downloaded_youtube_transcripts/watch?v=Um_VnB43rLw.en.vtt\n"
     ]
    },
    {
     "name": "stderr",
     "output_type": "stream",
     "text": [
      "\r",
      " 92%|█████████▏| 168/183 [03:04<00:14,  1.04it/s]"
     ]
    },
    {
     "name": "stdout",
     "output_type": "stream",
     "text": [
      "[youtube] 67I6g1I7Zao: Downloading webpage\n",
      "[youtube] 67I6g1I7Zao: Looking for automatic captions\n",
      "[info] Writing video subtitles to: ../data/downloaded_youtube_transcripts/watch?v=67I6g1I7Zao.en.vtt\n"
     ]
    },
    {
     "name": "stderr",
     "output_type": "stream",
     "text": [
      "\r",
      " 92%|█████████▏| 169/183 [03:04<00:13,  1.07it/s]"
     ]
    },
    {
     "name": "stdout",
     "output_type": "stream",
     "text": [
      "[youtube] ExNs8o8A4fI: Downloading webpage\n",
      "[youtube] ExNs8o8A4fI: Looking for automatic captions\n",
      "[info] Writing video subtitles to: ../data/downloaded_youtube_transcripts/watch?v=ExNs8o8A4fI.en.vtt\n"
     ]
    },
    {
     "name": "stderr",
     "output_type": "stream",
     "text": [
      "\r",
      " 93%|█████████▎| 170/183 [03:05<00:11,  1.11it/s]"
     ]
    },
    {
     "name": "stdout",
     "output_type": "stream",
     "text": [
      "[youtube] Gbt41Zn8qSU: Downloading webpage\n",
      "[youtube] Gbt41Zn8qSU: Looking for automatic captions\n",
      "[info] Writing video subtitles to: ../data/downloaded_youtube_transcripts/watch?v=Gbt41Zn8qSU.en.vtt\n"
     ]
    },
    {
     "name": "stderr",
     "output_type": "stream",
     "text": [
      "\r",
      " 93%|█████████▎| 171/183 [03:06<00:11,  1.08it/s]"
     ]
    },
    {
     "name": "stdout",
     "output_type": "stream",
     "text": [
      "[youtube] xrHgOoNBiWk: Downloading webpage\n",
      "[youtube] xrHgOoNBiWk: Looking for automatic captions\n",
      "[info] Writing video subtitles to: ../data/downloaded_youtube_transcripts/watch?v=xrHgOoNBiWk.en.vtt\n"
     ]
    },
    {
     "name": "stderr",
     "output_type": "stream",
     "text": [
      "\r",
      " 94%|█████████▍| 172/183 [03:07<00:10,  1.09it/s]"
     ]
    },
    {
     "name": "stdout",
     "output_type": "stream",
     "text": [
      "[youtube] oWMNskk8nzY: Downloading webpage\n",
      "[youtube] oWMNskk8nzY: Looking for automatic captions\n"
     ]
    },
    {
     "name": "stderr",
     "output_type": "stream",
     "text": [
      "WARNING: Couldn't find automatic captions for oWMNskk8nzY\n",
      " 95%|█████████▍| 173/183 [03:09<00:11,  1.13s/it]"
     ]
    },
    {
     "name": "stdout",
     "output_type": "stream",
     "text": [
      "[youtube] 0jZdzjAif60: Downloading webpage\n",
      "[youtube] 0jZdzjAif60: Looking for automatic captions\n",
      "[info] Writing video subtitles to: ../data/downloaded_youtube_transcripts/watch?v=0jZdzjAif60.en.vtt\n"
     ]
    },
    {
     "name": "stderr",
     "output_type": "stream",
     "text": [
      "\r",
      " 95%|█████████▌| 174/183 [03:10<00:09,  1.10s/it]"
     ]
    },
    {
     "name": "stdout",
     "output_type": "stream",
     "text": [
      "[youtube] ecYzjaSyaA4: Downloading webpage\n",
      "[youtube] ecYzjaSyaA4: Looking for automatic captions\n",
      "[info] Writing video subtitles to: ../data/downloaded_youtube_transcripts/watch?v=ecYzjaSyaA4.en.vtt\n"
     ]
    },
    {
     "name": "stderr",
     "output_type": "stream",
     "text": [
      "\r",
      " 96%|█████████▌| 175/183 [03:11<00:09,  1.16s/it]"
     ]
    },
    {
     "name": "stdout",
     "output_type": "stream",
     "text": [
      "[youtube] S4Ccpqh6giM: Downloading webpage\n",
      "[youtube] S4Ccpqh6giM: Looking for automatic captions\n",
      "[info] Writing video subtitles to: ../data/downloaded_youtube_transcripts/watch?v=S4Ccpqh6giM.en.vtt\n"
     ]
    },
    {
     "name": "stderr",
     "output_type": "stream",
     "text": [
      "\r",
      " 96%|█████████▌| 176/183 [03:12<00:07,  1.07s/it]"
     ]
    },
    {
     "name": "stdout",
     "output_type": "stream",
     "text": [
      "[youtube] GD8TXfmZdAk: Downloading webpage\n",
      "[youtube] GD8TXfmZdAk: Looking for automatic captions\n",
      "[info] Writing video subtitles to: ../data/downloaded_youtube_transcripts/watch?v=GD8TXfmZdAk.en.vtt\n"
     ]
    },
    {
     "name": "stderr",
     "output_type": "stream",
     "text": [
      "\r",
      " 97%|█████████▋| 177/183 [03:13<00:06,  1.01s/it]"
     ]
    },
    {
     "name": "stdout",
     "output_type": "stream",
     "text": [
      "[youtube] 0mrgqXoQI80: Downloading webpage\n",
      "[youtube] 0mrgqXoQI80: Looking for automatic captions\n",
      "[info] Writing video subtitles to: ../data/downloaded_youtube_transcripts/watch?v=0mrgqXoQI80.en.vtt\n"
     ]
    },
    {
     "name": "stderr",
     "output_type": "stream",
     "text": [
      "\r",
      " 97%|█████████▋| 178/183 [03:14<00:04,  1.05it/s]"
     ]
    },
    {
     "name": "stdout",
     "output_type": "stream",
     "text": [
      "[youtube] uyxF1c3us7M: Downloading webpage\n",
      "[youtube] uyxF1c3us7M: Looking for automatic captions\n",
      "[info] Writing video subtitles to: ../data/downloaded_youtube_transcripts/watch?v=uyxF1c3us7M.en.vtt\n"
     ]
    },
    {
     "name": "stderr",
     "output_type": "stream",
     "text": [
      "\r",
      " 98%|█████████▊| 179/183 [03:15<00:03,  1.07it/s]"
     ]
    },
    {
     "name": "stdout",
     "output_type": "stream",
     "text": [
      "[youtube] 4kF7FRy0_xs: Downloading webpage\n",
      "[youtube] 4kF7FRy0_xs: Looking for automatic captions\n",
      "[info] Writing video subtitles to: ../data/downloaded_youtube_transcripts/watch?v=4kF7FRy0_xs.en.vtt\n"
     ]
    },
    {
     "name": "stderr",
     "output_type": "stream",
     "text": [
      "\r",
      " 98%|█████████▊| 180/183 [03:16<00:02,  1.07it/s]"
     ]
    },
    {
     "name": "stdout",
     "output_type": "stream",
     "text": [
      "[youtube] upbo4KWUf24: Downloading webpage\n",
      "[youtube] upbo4KWUf24: Looking for automatic captions\n",
      "[info] Writing video subtitles to: ../data/downloaded_youtube_transcripts/watch?v=upbo4KWUf24.en.vtt\n"
     ]
    },
    {
     "name": "stderr",
     "output_type": "stream",
     "text": [
      "\r",
      " 99%|█████████▉| 181/183 [03:16<00:01,  1.07it/s]"
     ]
    },
    {
     "name": "stdout",
     "output_type": "stream",
     "text": [
      "[youtube] pr8EgI4RcrE: Downloading webpage\n",
      "[youtube] pr8EgI4RcrE: Looking for automatic captions\n",
      "[info] Writing video subtitles to: ../data/downloaded_youtube_transcripts/watch?v=pr8EgI4RcrE.en.vtt\n"
     ]
    },
    {
     "name": "stderr",
     "output_type": "stream",
     "text": [
      "\r",
      " 99%|█████████▉| 182/183 [03:18<00:00,  1.02it/s]"
     ]
    },
    {
     "name": "stdout",
     "output_type": "stream",
     "text": [
      "[youtube] 8fGBe0cdAbE: Downloading webpage\n",
      "[youtube] 8fGBe0cdAbE: Looking for automatic captions\n"
     ]
    },
    {
     "name": "stderr",
     "output_type": "stream",
     "text": [
      "WARNING: Couldn't find automatic captions for 8fGBe0cdAbE\n",
      "100%|██████████| 183/183 [03:18<00:00,  1.09s/it]\n"
     ]
    }
   ],
   "source": [
    "failed_links = []\n",
    "for therapy_url in tqdm(urls['Youtube Video URL']):\n",
    "    try:\n",
    "        ydl_opts['outtmpl'] = transcript_download_dir + therapy_url.split('youtube.com/')[1] + '.%(ext)s'\n",
    "        with youtube_dl.YoutubeDL(ydl_opts) as ydl:\n",
    "            ydl.download([therapy_url])\n",
    "    except:\n",
    "        failed_links.append(therapy_url)\n",
    "        print(f'Failed Therapy Url: {therapy_url}')"
   ]
  },
  {
   "cell_type": "code",
   "execution_count": null,
   "metadata": {},
   "outputs": [],
   "source": []
  }
 ],
 "metadata": {
  "kernelspec": {
   "display_name": "Python 3",
   "language": "python",
   "name": "python3"
  },
  "language_info": {
   "codemirror_mode": {
    "name": "ipython",
    "version": 3
   },
   "file_extension": ".py",
   "mimetype": "text/x-python",
   "name": "python",
   "nbconvert_exporter": "python",
   "pygments_lexer": "ipython3",
   "version": "3.7.6"
  }
 },
 "nbformat": 4,
 "nbformat_minor": 4
}
